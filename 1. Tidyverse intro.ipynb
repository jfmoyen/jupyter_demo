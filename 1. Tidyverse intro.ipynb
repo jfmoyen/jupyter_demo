{
 "cells": [
  {
   "cell_type": "markdown",
   "metadata": {},
   "source": [
    "# The Tidyverse for GCDkit users\n",
    "\n",
    "### A gentle introduction"
   ]
  },
  {
   "cell_type": "markdown",
   "metadata": {},
   "source": [
    "The tidyverse (https://www.tidyverse.org) is \"*an opinionated collection of R packages designed for data science. All packages share an underlying design philosophy, grammar, and data structures*\". This tutorial aims at giving some basics for R/GCDkit users.\n",
    "\n",
    "The tidyverse packages excel at two things: (i) data management, (ii) plotting. These are two tasks commonly performed with geochemical data, and it is no surprise that the tidy functions perform well in that respect."
   ]
  },
  {
   "cell_type": "markdown",
   "metadata": {},
   "source": [
    "## Installation\n",
    "\n",
    "The tidyverse is a collection of half a dozen or so of packages. Assuming they have been installed beforehand (install.packages), most tidyverse packages can be loaded in one go with "
   ]
  },
  {
   "cell_type": "code",
   "execution_count": 3,
   "metadata": {},
   "outputs": [
    {
     "name": "stderr",
     "output_type": "stream",
     "text": [
      "Warning message:\n",
      "\"package 'tidyverse' was built under R version 3.6.3\"\n",
      "-- \u001b[1mAttaching packages\u001b[22m --------------------------------------- tidyverse 1.3.0 --\n",
      "\n",
      "\u001b[32mv\u001b[39m \u001b[34mggplot2\u001b[39m 3.3.2     \u001b[32mv\u001b[39m \u001b[34mpurrr  \u001b[39m 0.3.4\n",
      "\u001b[32mv\u001b[39m \u001b[34mtibble \u001b[39m 3.0.4     \u001b[32mv\u001b[39m \u001b[34mdplyr  \u001b[39m 1.0.2\n",
      "\u001b[32mv\u001b[39m \u001b[34mtidyr  \u001b[39m 1.0.2     \u001b[32mv\u001b[39m \u001b[34mstringr\u001b[39m 1.4.0\n",
      "\u001b[32mv\u001b[39m \u001b[34mreadr  \u001b[39m 1.4.0     \u001b[32mv\u001b[39m \u001b[34mforcats\u001b[39m 0.5.0\n",
      "\n",
      "Warning message:\n",
      "\"package 'ggplot2' was built under R version 3.6.3\"\n",
      "Warning message:\n",
      "\"package 'tibble' was built under R version 3.6.3\"\n",
      "Warning message:\n",
      "\"package 'tidyr' was built under R version 3.6.3\"\n",
      "Warning message:\n",
      "\"package 'readr' was built under R version 3.6.3\"\n",
      "Warning message:\n",
      "\"package 'purrr' was built under R version 3.6.3\"\n",
      "Warning message:\n",
      "\"package 'dplyr' was built under R version 3.6.3\"\n",
      "Warning message:\n",
      "\"package 'forcats' was built under R version 3.6.3\"\n",
      "-- \u001b[1mConflicts\u001b[22m ------------------------------------------ tidyverse_conflicts() --\n",
      "\u001b[31mx\u001b[39m \u001b[34mdplyr\u001b[39m::\u001b[32mfilter()\u001b[39m masks \u001b[34mstats\u001b[39m::filter()\n",
      "\u001b[31mx\u001b[39m \u001b[34mdplyr\u001b[39m::\u001b[32mlag()\u001b[39m    masks \u001b[34mstats\u001b[39m::lag()\n",
      "\n"
     ]
    }
   ],
   "source": [
    "library(tidyverse)"
   ]
  },
  {
   "cell_type": "markdown",
   "metadata": {},
   "source": [
    "Each component of the tidyverse has an online documentation on its website, and a very convenient \"cheat sheet\" (in pdf format). The main packages are\n",
    "\n",
    "### Tidyverse core.\n",
    "All of these are loaded by `library(tidyverse)`:\n",
    "- **tibble**. Supplies a new type of data structure, a \"tibble\" (more on that below). https://tibble.tidyverse.org\n",
    "- **readr**. High-level functions for reading files. https://readr.tidyverse.org \n",
    "- **tidyr**. Cleans and reshapes data. https://tidyr.tidyverse.org\n",
    "- **magrittr**. Supplies pipe operators, very pleasant \"syntaxic sugar\" to chain operations. https://magrittr.tidyverse.org . Some of the advanced possibilities of magrittR require loading it independently (`library(magrittr)`)\n",
    "- **dplyr**. Data transformation, offers an SQL-like syntax to operate on tibbles. https://dplyr.tidyverse.org\n",
    "- **ggplot2**. High-level plotting functions. https://ggplot2.tidyverse.org\n",
    "- See also **stringr** (string manipulation), **forcats** (factors), and **purr** (map/reduce, i.e. a ?better version of the \"apply\" family), and also **lubridate** to work with dates, etc. https://www.tidyverse.org/packages/\n",
    "There are rare cases where individual packages should be loaded by hand (see github etc.), mostly as a result of bugs or \"unexpected features\". This should probably not be an issue.\n",
    "\n",
    "### More tidyverse\n",
    "Not loaded with `library(tidyverse)`:\n",
    "- **readxl**. Read excel format. Very efficient and much easier to use than the regular ODBC library. https://readxl.tidyverse.org\n",
    "\n",
    "### Friends of tidyverse\n",
    "There are not officially part of the tidyverse, they are maintained by different authors and so on but they play well with it.\n",
    "- **clipr**. Read and write to/from the clipboard, much better than the regular R functions. https://github.com/mdlincoln/clipr\n",
    "- **R6**. Supplies python-like classes to R. https://r6.r-lib.org\n",
    "\n"
   ]
  },
  {
   "cell_type": "markdown",
   "metadata": {},
   "source": [
    "The tidyverse supplies a lot of \"syntaxic sugar\" (for instance column names can idniferently be quoted or not quoted, etc). This makes it very easy to use for inline processing (notebook or script), less so for programming. Also, tidyverse code ends to be more verbose (but arguably more readable) than equivalent R code.\n",
    "\n",
    "## Some key components"
   ]
  },
  {
   "cell_type": "markdown",
   "metadata": {},
   "source": [
    "## Tibbles\n",
    "\n",
    "Tibbles (a pun on \"table\") are R data frames, with improved functionalities. As they say on the web site, tibbles \"*are lazy and surly: they do less (i.e. they don’t change variable names or types, and don’t do partial matching) and complain more (e.g. when a variable does not exist). This forces you to confront problems earlier, typically leading to cleaner, more expressive code.*\"\n",
    "\n",
    "A tibble is created in the usual way :"
   ]
  },
  {
   "cell_type": "code",
   "execution_count": 7,
   "metadata": {},
   "outputs": [],
   "source": [
    "ds <- tibble (a=c(1,2,3),\n",
    "              b=c(NA,4,5),\n",
    "              d=c(\"blue\",\"green\",\"red\"))"
   ]
  },
  {
   "cell_type": "markdown",
   "metadata": {},
   "source": [
    "The first obvious difference with a data frame is that a tibble has a nicer `print` method (*well, it is not visible in Jupyter because df's and tibbles are formatted in the same way, but try in Rgui...*) :"
   ]
  },
  {
   "cell_type": "code",
   "execution_count": 8,
   "metadata": {},
   "outputs": [
    {
     "data": {
      "text/html": [
       "<table>\n",
       "<caption>A tibble: 3 × 3</caption>\n",
       "<thead>\n",
       "\t<tr><th scope=col>a</th><th scope=col>b</th><th scope=col>d</th></tr>\n",
       "\t<tr><th scope=col>&lt;dbl&gt;</th><th scope=col>&lt;dbl&gt;</th><th scope=col>&lt;chr&gt;</th></tr>\n",
       "</thead>\n",
       "<tbody>\n",
       "\t<tr><td>1</td><td>NA</td><td>blue </td></tr>\n",
       "\t<tr><td>2</td><td> 4</td><td>green</td></tr>\n",
       "\t<tr><td>3</td><td> 5</td><td>red  </td></tr>\n",
       "</tbody>\n",
       "</table>\n"
      ],
      "text/latex": [
       "A tibble: 3 × 3\n",
       "\\begin{tabular}{lll}\n",
       " a & b & d\\\\\n",
       " <dbl> & <dbl> & <chr>\\\\\n",
       "\\hline\n",
       "\t 1 & NA & blue \\\\\n",
       "\t 2 &  4 & green\\\\\n",
       "\t 3 &  5 & red  \\\\\n",
       "\\end{tabular}\n"
      ],
      "text/markdown": [
       "\n",
       "A tibble: 3 × 3\n",
       "\n",
       "| a &lt;dbl&gt; | b &lt;dbl&gt; | d &lt;chr&gt; |\n",
       "|---|---|---|\n",
       "| 1 | NA | blue  |\n",
       "| 2 |  4 | green |\n",
       "| 3 |  5 | red   |\n",
       "\n"
      ],
      "text/plain": [
       "  a b  d    \n",
       "1 1 NA blue \n",
       "2 2  4 green\n",
       "3 3  5 red  "
      ]
     },
     "metadata": {},
     "output_type": "display_data"
    }
   ],
   "source": [
    "ds"
   ]
  },
  {
   "cell_type": "markdown",
   "metadata": {},
   "source": [
    "However, the more important differences are best evidenced when comparing with the behaviour of normal data.frames."
   ]
  },
  {
   "cell_type": "code",
   "execution_count": 32,
   "metadata": {},
   "outputs": [],
   "source": [
    "gcdkit.dir<-\"C:\\\\Users\\\\moje4671\\\\R\\\\win-library\\\\3.6\\\\GCDkit\\\\\"\n",
    "sazFile <- paste(gcdkit.dir,\"data\\\\sazava.txt\",sep=\"\")"
   ]
  },
  {
   "cell_type": "code",
   "execution_count": 38,
   "metadata": {},
   "outputs": [
    {
     "data": {
      "text/html": [
       "<table>\n",
       "<caption>A data.frame: 14 × 49</caption>\n",
       "<thead>\n",
       "\t<tr><th></th><th scope=col>Intrusion</th><th scope=col>Locality</th><th scope=col>Petrology</th><th scope=col>Outcrop</th><th scope=col>Symbol</th><th scope=col>Colour</th><th scope=col>SiO2</th><th scope=col>TiO2</th><th scope=col>Al2O3</th><th scope=col>FeO</th><th scope=col>...</th><th scope=col>Dy</th><th scope=col>Ho</th><th scope=col>Er</th><th scope=col>Tm</th><th scope=col>Yb</th><th scope=col>Lu</th><th scope=col>Y</th><th scope=col>Cs</th><th scope=col>Ta</th><th scope=col>Hf</th></tr>\n",
       "\t<tr><th></th><th scope=col>&lt;fct&gt;</th><th scope=col>&lt;fct&gt;</th><th scope=col>&lt;fct&gt;</th><th scope=col>&lt;fct&gt;</th><th scope=col>&lt;int&gt;</th><th scope=col>&lt;int&gt;</th><th scope=col>&lt;dbl&gt;</th><th scope=col>&lt;dbl&gt;</th><th scope=col>&lt;dbl&gt;</th><th scope=col>&lt;dbl&gt;</th><th scope=col>...</th><th scope=col>&lt;dbl&gt;</th><th scope=col>&lt;dbl&gt;</th><th scope=col>&lt;dbl&gt;</th><th scope=col>&lt;dbl&gt;</th><th scope=col>&lt;dbl&gt;</th><th scope=col>&lt;dbl&gt;</th><th scope=col>&lt;int&gt;</th><th scope=col>&lt;dbl&gt;</th><th scope=col>&lt;dbl&gt;</th><th scope=col>&lt;dbl&gt;</th></tr>\n",
       "</thead>\n",
       "<tbody>\n",
       "\t<tr><th scope=row>Sa-1</th><td>Sazava</td><td>Mrac      </td><td>bi-amph quartz diorite   </td><td>working quarry      </td><td>10</td><td>4</td><td>59.98</td><td>0.63</td><td>16.42</td><td>5.46</td><td>...</td><td>  NA</td><td>  NA</td><td>  NA</td><td>  NA</td><td>  NA</td><td>  NA</td><td>25</td><td> NA</td><td> NA</td><td> NA</td></tr>\n",
       "\t<tr><th scope=row>Sa-2</th><td>Sazava</td><td>Mrac      </td><td>bi-amph quartz diorite   </td><td>working quarry      </td><td>10</td><td>4</td><td>55.17</td><td>0.71</td><td>17.00</td><td>5.26</td><td>...</td><td>  NA</td><td>  NA</td><td>  NA</td><td>  NA</td><td>  NA</td><td>  NA</td><td>30</td><td> NA</td><td> NA</td><td> NA</td></tr>\n",
       "\t<tr><th scope=row>Sa-3</th><td>Sazava</td><td>Mrac      </td><td>bi-amph quartz diorite   </td><td>working quarry      </td><td>10</td><td>4</td><td>55.09</td><td>0.75</td><td>17.59</td><td>5.81</td><td>...</td><td>  NA</td><td>  NA</td><td>  NA</td><td>  NA</td><td>  NA</td><td>  NA</td><td>30</td><td> NA</td><td> NA</td><td> NA</td></tr>\n",
       "\t<tr><th scope=row>Sa-4</th><td>Sazava</td><td>Mrac      </td><td>bi-amph quartz diorite   </td><td>working quarry      </td><td>10</td><td>4</td><td>50.72</td><td>0.83</td><td>17.57</td><td>7.65</td><td>...</td><td>5.80</td><td>1.03</td><td>2.80</td><td>0.43</td><td>2.88</td><td>0.43</td><td>38</td><td>5.7</td><td>0.5</td><td>2.5</td></tr>\n",
       "\t<tr><th scope=row>Sa-7</th><td>Sazava</td><td>Teletin   </td><td>bi-amph tonalite         </td><td>disused quarry      </td><td>10</td><td>1</td><td>57.73</td><td>0.95</td><td>18.82</td><td>5.43</td><td>...</td><td>2.70</td><td>0.56</td><td>1.64</td><td>0.24</td><td>1.52</td><td>0.25</td><td>24</td><td>6.6</td><td>0.6</td><td>3.6</td></tr>\n",
       "\t<tr><th scope=row>SaD-1</th><td>basic </td><td>Teletin   </td><td>bi-amph quartz diorite   </td><td>disused quarry      </td><td> 8</td><td>1</td><td>52.90</td><td>1.35</td><td>18.23</td><td>7.24</td><td>...</td><td>  NA</td><td>  NA</td><td>  NA</td><td>  NA</td><td>  NA</td><td>  NA</td><td>36</td><td>2.3</td><td>1.1</td><td>1.8</td></tr>\n",
       "\t<tr><th scope=row>Gbs-1</th><td>basic </td><td>Pecerady  </td><td>px-amph gabbro           </td><td>disused quarry      </td><td>19</td><td>1</td><td>49.63</td><td>0.76</td><td>13.34</td><td>5.69</td><td>...</td><td>  NA</td><td>  NA</td><td>  NA</td><td>  NA</td><td>  NA</td><td>  NA</td><td>20</td><td> NA</td><td> NA</td><td> NA</td></tr>\n",
       "\t<tr><th scope=row>Gbs-20</th><td>basic </td><td>Pecerady  </td><td>px-amph gabbro           </td><td>disused quarry      </td><td>19</td><td>1</td><td>51.72</td><td>0.67</td><td>14.17</td><td>6.43</td><td>...</td><td>  NA</td><td>  NA</td><td>  NA</td><td>  NA</td><td>  NA</td><td>  NA</td><td>19</td><td> NA</td><td> NA</td><td> NA</td></tr>\n",
       "\t<tr><th scope=row>Gbs-2</th><td>basic </td><td>Vavretice </td><td>amph-bi qtz gabbrodiorite</td><td>disused quarry      </td><td>19</td><td>1</td><td>48.84</td><td>0.34</td><td>21.64</td><td>2.74</td><td>...</td><td>  NA</td><td>  NA</td><td>  NA</td><td>  NA</td><td>  NA</td><td>  NA</td><td>10</td><td> NA</td><td> NA</td><td> NA</td></tr>\n",
       "\t<tr><th scope=row>Gbs-3</th><td>basic </td><td>Brtnice   </td><td>amph-bi qtz gabbrodiorite</td><td>water supply gallery</td><td>19</td><td>1</td><td>55.80</td><td>0.80</td><td>16.98</td><td>6.22</td><td>...</td><td>  NA</td><td>  NA</td><td>  NA</td><td>  NA</td><td>  NA</td><td>  NA</td><td>42</td><td> NA</td><td> NA</td><td> NA</td></tr>\n",
       "\t<tr><th scope=row>Po-1</th><td>Pozary</td><td>Krhanice  </td><td>bi trondhjemite          </td><td>working quarry      </td><td> 1</td><td>2</td><td>62.95</td><td>0.28</td><td>20.02</td><td>1.65</td><td>...</td><td>0.64</td><td>0.11</td><td>0.37</td><td>0.06</td><td>0.51</td><td>0.08</td><td>11</td><td>3.0</td><td>0.3</td><td>4.2</td></tr>\n",
       "\t<tr><th scope=row>Po-3</th><td>Pozary</td><td>Prosecnice</td><td>bi trondhjemite          </td><td>working quarry      </td><td> 1</td><td>2</td><td>68.30</td><td>0.28</td><td>15.29</td><td>2.12</td><td>...</td><td>  NA</td><td>  NA</td><td>  NA</td><td>  NA</td><td>  NA</td><td>  NA</td><td> 8</td><td> NA</td><td> NA</td><td> NA</td></tr>\n",
       "\t<tr><th scope=row>Po-4</th><td>Pozary</td><td>Prosecnice</td><td>bi trondhjemite          </td><td>working quarry      </td><td> 1</td><td>2</td><td>71.09</td><td>0.30</td><td>15.09</td><td>2.12</td><td>...</td><td>0.80</td><td>0.14</td><td>0.50</td><td>0.09</td><td>0.61</td><td>0.10</td><td> 7</td><td>3.0</td><td>0.2</td><td>5.4</td></tr>\n",
       "\t<tr><th scope=row>Po-5</th><td>Pozary</td><td>Prosecnice</td><td>bi trondhjemite          </td><td>working quarry      </td><td> 1</td><td>2</td><td>71.42</td><td>0.30</td><td>15.04</td><td>2.41</td><td>...</td><td>  NA</td><td>  NA</td><td>  NA</td><td>  NA</td><td>  NA</td><td>  NA</td><td> 5</td><td> NA</td><td> NA</td><td> NA</td></tr>\n",
       "</tbody>\n",
       "</table>\n"
      ],
      "text/latex": [
       "A data.frame: 14 × 49\n",
       "\\begin{tabular}{r|lllllllllllllllllllll}\n",
       "  & Intrusion & Locality & Petrology & Outcrop & Symbol & Colour & SiO2 & TiO2 & Al2O3 & FeO & ... & Dy & Ho & Er & Tm & Yb & Lu & Y & Cs & Ta & Hf\\\\\n",
       "  & <fct> & <fct> & <fct> & <fct> & <int> & <int> & <dbl> & <dbl> & <dbl> & <dbl> & ... & <dbl> & <dbl> & <dbl> & <dbl> & <dbl> & <dbl> & <int> & <dbl> & <dbl> & <dbl>\\\\\n",
       "\\hline\n",
       "\tSa-1 & Sazava & Mrac       & bi-amph quartz diorite    & working quarry       & 10 & 4 & 59.98 & 0.63 & 16.42 & 5.46 & ... &   NA &   NA &   NA &   NA &   NA &   NA & 25 &  NA &  NA &  NA\\\\\n",
       "\tSa-2 & Sazava & Mrac       & bi-amph quartz diorite    & working quarry       & 10 & 4 & 55.17 & 0.71 & 17.00 & 5.26 & ... &   NA &   NA &   NA &   NA &   NA &   NA & 30 &  NA &  NA &  NA\\\\\n",
       "\tSa-3 & Sazava & Mrac       & bi-amph quartz diorite    & working quarry       & 10 & 4 & 55.09 & 0.75 & 17.59 & 5.81 & ... &   NA &   NA &   NA &   NA &   NA &   NA & 30 &  NA &  NA &  NA\\\\\n",
       "\tSa-4 & Sazava & Mrac       & bi-amph quartz diorite    & working quarry       & 10 & 4 & 50.72 & 0.83 & 17.57 & 7.65 & ... & 5.80 & 1.03 & 2.80 & 0.43 & 2.88 & 0.43 & 38 & 5.7 & 0.5 & 2.5\\\\\n",
       "\tSa-7 & Sazava & Teletin    & bi-amph tonalite          & disused quarry       & 10 & 1 & 57.73 & 0.95 & 18.82 & 5.43 & ... & 2.70 & 0.56 & 1.64 & 0.24 & 1.52 & 0.25 & 24 & 6.6 & 0.6 & 3.6\\\\\n",
       "\tSaD-1 & basic  & Teletin    & bi-amph quartz diorite    & disused quarry       &  8 & 1 & 52.90 & 1.35 & 18.23 & 7.24 & ... &   NA &   NA &   NA &   NA &   NA &   NA & 36 & 2.3 & 1.1 & 1.8\\\\\n",
       "\tGbs-1 & basic  & Pecerady   & px-amph gabbro            & disused quarry       & 19 & 1 & 49.63 & 0.76 & 13.34 & 5.69 & ... &   NA &   NA &   NA &   NA &   NA &   NA & 20 &  NA &  NA &  NA\\\\\n",
       "\tGbs-20 & basic  & Pecerady   & px-amph gabbro            & disused quarry       & 19 & 1 & 51.72 & 0.67 & 14.17 & 6.43 & ... &   NA &   NA &   NA &   NA &   NA &   NA & 19 &  NA &  NA &  NA\\\\\n",
       "\tGbs-2 & basic  & Vavretice  & amph-bi qtz gabbrodiorite & disused quarry       & 19 & 1 & 48.84 & 0.34 & 21.64 & 2.74 & ... &   NA &   NA &   NA &   NA &   NA &   NA & 10 &  NA &  NA &  NA\\\\\n",
       "\tGbs-3 & basic  & Brtnice    & amph-bi qtz gabbrodiorite & water supply gallery & 19 & 1 & 55.80 & 0.80 & 16.98 & 6.22 & ... &   NA &   NA &   NA &   NA &   NA &   NA & 42 &  NA &  NA &  NA\\\\\n",
       "\tPo-1 & Pozary & Krhanice   & bi trondhjemite           & working quarry       &  1 & 2 & 62.95 & 0.28 & 20.02 & 1.65 & ... & 0.64 & 0.11 & 0.37 & 0.06 & 0.51 & 0.08 & 11 & 3.0 & 0.3 & 4.2\\\\\n",
       "\tPo-3 & Pozary & Prosecnice & bi trondhjemite           & working quarry       &  1 & 2 & 68.30 & 0.28 & 15.29 & 2.12 & ... &   NA &   NA &   NA &   NA &   NA &   NA &  8 &  NA &  NA &  NA\\\\\n",
       "\tPo-4 & Pozary & Prosecnice & bi trondhjemite           & working quarry       &  1 & 2 & 71.09 & 0.30 & 15.09 & 2.12 & ... & 0.80 & 0.14 & 0.50 & 0.09 & 0.61 & 0.10 &  7 & 3.0 & 0.2 & 5.4\\\\\n",
       "\tPo-5 & Pozary & Prosecnice & bi trondhjemite           & working quarry       &  1 & 2 & 71.42 & 0.30 & 15.04 & 2.41 & ... &   NA &   NA &   NA &   NA &   NA &   NA &  5 &  NA &  NA &  NA\\\\\n",
       "\\end{tabular}\n"
      ],
      "text/markdown": [
       "\n",
       "A data.frame: 14 × 49\n",
       "\n",
       "| <!--/--> | Intrusion &lt;fct&gt; | Locality &lt;fct&gt; | Petrology &lt;fct&gt; | Outcrop &lt;fct&gt; | Symbol &lt;int&gt; | Colour &lt;int&gt; | SiO2 &lt;dbl&gt; | TiO2 &lt;dbl&gt; | Al2O3 &lt;dbl&gt; | FeO &lt;dbl&gt; | ... ... | Dy &lt;dbl&gt; | Ho &lt;dbl&gt; | Er &lt;dbl&gt; | Tm &lt;dbl&gt; | Yb &lt;dbl&gt; | Lu &lt;dbl&gt; | Y &lt;int&gt; | Cs &lt;dbl&gt; | Ta &lt;dbl&gt; | Hf &lt;dbl&gt; |\n",
       "|---|---|---|---|---|---|---|---|---|---|---|---|---|---|---|---|---|---|---|---|---|---|\n",
       "| Sa-1 | Sazava | Mrac       | bi-amph quartz diorite    | working quarry       | 10 | 4 | 59.98 | 0.63 | 16.42 | 5.46 | ... |   NA |   NA |   NA |   NA |   NA |   NA | 25 |  NA |  NA |  NA |\n",
       "| Sa-2 | Sazava | Mrac       | bi-amph quartz diorite    | working quarry       | 10 | 4 | 55.17 | 0.71 | 17.00 | 5.26 | ... |   NA |   NA |   NA |   NA |   NA |   NA | 30 |  NA |  NA |  NA |\n",
       "| Sa-3 | Sazava | Mrac       | bi-amph quartz diorite    | working quarry       | 10 | 4 | 55.09 | 0.75 | 17.59 | 5.81 | ... |   NA |   NA |   NA |   NA |   NA |   NA | 30 |  NA |  NA |  NA |\n",
       "| Sa-4 | Sazava | Mrac       | bi-amph quartz diorite    | working quarry       | 10 | 4 | 50.72 | 0.83 | 17.57 | 7.65 | ... | 5.80 | 1.03 | 2.80 | 0.43 | 2.88 | 0.43 | 38 | 5.7 | 0.5 | 2.5 |\n",
       "| Sa-7 | Sazava | Teletin    | bi-amph tonalite          | disused quarry       | 10 | 1 | 57.73 | 0.95 | 18.82 | 5.43 | ... | 2.70 | 0.56 | 1.64 | 0.24 | 1.52 | 0.25 | 24 | 6.6 | 0.6 | 3.6 |\n",
       "| SaD-1 | basic  | Teletin    | bi-amph quartz diorite    | disused quarry       |  8 | 1 | 52.90 | 1.35 | 18.23 | 7.24 | ... |   NA |   NA |   NA |   NA |   NA |   NA | 36 | 2.3 | 1.1 | 1.8 |\n",
       "| Gbs-1 | basic  | Pecerady   | px-amph gabbro            | disused quarry       | 19 | 1 | 49.63 | 0.76 | 13.34 | 5.69 | ... |   NA |   NA |   NA |   NA |   NA |   NA | 20 |  NA |  NA |  NA |\n",
       "| Gbs-20 | basic  | Pecerady   | px-amph gabbro            | disused quarry       | 19 | 1 | 51.72 | 0.67 | 14.17 | 6.43 | ... |   NA |   NA |   NA |   NA |   NA |   NA | 19 |  NA |  NA |  NA |\n",
       "| Gbs-2 | basic  | Vavretice  | amph-bi qtz gabbrodiorite | disused quarry       | 19 | 1 | 48.84 | 0.34 | 21.64 | 2.74 | ... |   NA |   NA |   NA |   NA |   NA |   NA | 10 |  NA |  NA |  NA |\n",
       "| Gbs-3 | basic  | Brtnice    | amph-bi qtz gabbrodiorite | water supply gallery | 19 | 1 | 55.80 | 0.80 | 16.98 | 6.22 | ... |   NA |   NA |   NA |   NA |   NA |   NA | 42 |  NA |  NA |  NA |\n",
       "| Po-1 | Pozary | Krhanice   | bi trondhjemite           | working quarry       |  1 | 2 | 62.95 | 0.28 | 20.02 | 1.65 | ... | 0.64 | 0.11 | 0.37 | 0.06 | 0.51 | 0.08 | 11 | 3.0 | 0.3 | 4.2 |\n",
       "| Po-3 | Pozary | Prosecnice | bi trondhjemite           | working quarry       |  1 | 2 | 68.30 | 0.28 | 15.29 | 2.12 | ... |   NA |   NA |   NA |   NA |   NA |   NA |  8 |  NA |  NA |  NA |\n",
       "| Po-4 | Pozary | Prosecnice | bi trondhjemite           | working quarry       |  1 | 2 | 71.09 | 0.30 | 15.09 | 2.12 | ... | 0.80 | 0.14 | 0.50 | 0.09 | 0.61 | 0.10 |  7 | 3.0 | 0.2 | 5.4 |\n",
       "| Po-5 | Pozary | Prosecnice | bi trondhjemite           | working quarry       |  1 | 2 | 71.42 | 0.30 | 15.04 | 2.41 | ... |   NA |   NA |   NA |   NA |   NA |   NA |  5 |  NA |  NA |  NA |\n",
       "\n"
      ],
      "text/plain": [
       "       Intrusion Locality   Petrology                 Outcrop             \n",
       "Sa-1   Sazava    Mrac       bi-amph quartz diorite    working quarry      \n",
       "Sa-2   Sazava    Mrac       bi-amph quartz diorite    working quarry      \n",
       "Sa-3   Sazava    Mrac       bi-amph quartz diorite    working quarry      \n",
       "Sa-4   Sazava    Mrac       bi-amph quartz diorite    working quarry      \n",
       "Sa-7   Sazava    Teletin    bi-amph tonalite          disused quarry      \n",
       "SaD-1  basic     Teletin    bi-amph quartz diorite    disused quarry      \n",
       "Gbs-1  basic     Pecerady   px-amph gabbro            disused quarry      \n",
       "Gbs-20 basic     Pecerady   px-amph gabbro            disused quarry      \n",
       "Gbs-2  basic     Vavretice  amph-bi qtz gabbrodiorite disused quarry      \n",
       "Gbs-3  basic     Brtnice    amph-bi qtz gabbrodiorite water supply gallery\n",
       "Po-1   Pozary    Krhanice   bi trondhjemite           working quarry      \n",
       "Po-3   Pozary    Prosecnice bi trondhjemite           working quarry      \n",
       "Po-4   Pozary    Prosecnice bi trondhjemite           working quarry      \n",
       "Po-5   Pozary    Prosecnice bi trondhjemite           working quarry      \n",
       "       Symbol Colour SiO2  TiO2 Al2O3 FeO  ... Dy   Ho   Er   Tm   Yb   Lu   Y \n",
       "Sa-1   10     4      59.98 0.63 16.42 5.46 ...   NA   NA   NA   NA   NA   NA 25\n",
       "Sa-2   10     4      55.17 0.71 17.00 5.26 ...   NA   NA   NA   NA   NA   NA 30\n",
       "Sa-3   10     4      55.09 0.75 17.59 5.81 ...   NA   NA   NA   NA   NA   NA 30\n",
       "Sa-4   10     4      50.72 0.83 17.57 7.65 ... 5.80 1.03 2.80 0.43 2.88 0.43 38\n",
       "Sa-7   10     1      57.73 0.95 18.82 5.43 ... 2.70 0.56 1.64 0.24 1.52 0.25 24\n",
       "SaD-1   8     1      52.90 1.35 18.23 7.24 ...   NA   NA   NA   NA   NA   NA 36\n",
       "Gbs-1  19     1      49.63 0.76 13.34 5.69 ...   NA   NA   NA   NA   NA   NA 20\n",
       "Gbs-20 19     1      51.72 0.67 14.17 6.43 ...   NA   NA   NA   NA   NA   NA 19\n",
       "Gbs-2  19     1      48.84 0.34 21.64 2.74 ...   NA   NA   NA   NA   NA   NA 10\n",
       "Gbs-3  19     1      55.80 0.80 16.98 6.22 ...   NA   NA   NA   NA   NA   NA 42\n",
       "Po-1    1     2      62.95 0.28 20.02 1.65 ... 0.64 0.11 0.37 0.06 0.51 0.08 11\n",
       "Po-3    1     2      68.30 0.28 15.29 2.12 ...   NA   NA   NA   NA   NA   NA  8\n",
       "Po-4    1     2      71.09 0.30 15.09 2.12 ... 0.80 0.14 0.50 0.09 0.61 0.10  7\n",
       "Po-5    1     2      71.42 0.30 15.04 2.41 ...   NA   NA   NA   NA   NA   NA  5\n",
       "       Cs  Ta  Hf \n",
       "Sa-1    NA  NA  NA\n",
       "Sa-2    NA  NA  NA\n",
       "Sa-3    NA  NA  NA\n",
       "Sa-4   5.7 0.5 2.5\n",
       "Sa-7   6.6 0.6 3.6\n",
       "SaD-1  2.3 1.1 1.8\n",
       "Gbs-1   NA  NA  NA\n",
       "Gbs-20  NA  NA  NA\n",
       "Gbs-2   NA  NA  NA\n",
       "Gbs-3   NA  NA  NA\n",
       "Po-1   3.0 0.3 4.2\n",
       "Po-3    NA  NA  NA\n",
       "Po-4   3.0 0.2 5.4\n",
       "Po-5    NA  NA  NA"
      ]
     },
     "metadata": {},
     "output_type": "display_data"
    }
   ],
   "source": [
    "sazava.df<-read.table(sazFile)\n",
    "sazava.df"
   ]
  },
  {
   "cell_type": "markdown",
   "metadata": {},
   "source": [
    "The normal behaviour of reading a file into a df is to convert string to factors (this can be overridden, of course)."
   ]
  },
  {
   "cell_type": "markdown",
   "metadata": {},
   "source": [
    "Tibbles do not like rownames (in fact, they actively discourage using them). So it's not straightforwards to load files with one less item in the first line (as you would do in plain R). However,"
   ]
  },
  {
   "cell_type": "code",
   "execution_count": 47,
   "metadata": {},
   "outputs": [
    {
     "name": "stderr",
     "output_type": "stream",
     "text": [
      "New names:\n",
      "* `` -> ...1\n",
      "\n"
     ]
    },
    {
     "data": {
      "text/html": [
       "<table>\n",
       "<caption>A tibble: 14 × 50</caption>\n",
       "<thead>\n",
       "\t<tr><th scope=col>...1</th><th scope=col>Intrusion</th><th scope=col>Locality</th><th scope=col>Petrology</th><th scope=col>Outcrop</th><th scope=col>Symbol</th><th scope=col>Colour</th><th scope=col>SiO2</th><th scope=col>TiO2</th><th scope=col>Al2O3</th><th scope=col>...</th><th scope=col>Dy</th><th scope=col>Ho</th><th scope=col>Er</th><th scope=col>Tm</th><th scope=col>Yb</th><th scope=col>Lu</th><th scope=col>Y</th><th scope=col>Cs</th><th scope=col>Ta</th><th scope=col>Hf</th></tr>\n",
       "\t<tr><th scope=col>&lt;chr&gt;</th><th scope=col>&lt;chr&gt;</th><th scope=col>&lt;chr&gt;</th><th scope=col>&lt;chr&gt;</th><th scope=col>&lt;chr&gt;</th><th scope=col>&lt;dbl&gt;</th><th scope=col>&lt;dbl&gt;</th><th scope=col>&lt;dbl&gt;</th><th scope=col>&lt;dbl&gt;</th><th scope=col>&lt;dbl&gt;</th><th scope=col>...</th><th scope=col>&lt;dbl&gt;</th><th scope=col>&lt;dbl&gt;</th><th scope=col>&lt;dbl&gt;</th><th scope=col>&lt;dbl&gt;</th><th scope=col>&lt;dbl&gt;</th><th scope=col>&lt;dbl&gt;</th><th scope=col>&lt;dbl&gt;</th><th scope=col>&lt;dbl&gt;</th><th scope=col>&lt;dbl&gt;</th><th scope=col>&lt;dbl&gt;</th></tr>\n",
       "</thead>\n",
       "<tbody>\n",
       "\t<tr><td>Sa-1  </td><td>Sazava</td><td>Mrac      </td><td>bi-amph quartz diorite   </td><td>working quarry      </td><td>10</td><td>4</td><td>59.98</td><td>0.63</td><td>16.42</td><td>...</td><td>  NA</td><td>  NA</td><td>  NA</td><td>  NA</td><td>  NA</td><td>  NA</td><td>25</td><td> NA</td><td> NA</td><td> NA</td></tr>\n",
       "\t<tr><td>Sa-2  </td><td>Sazava</td><td>Mrac      </td><td>bi-amph quartz diorite   </td><td>working quarry      </td><td>10</td><td>4</td><td>55.17</td><td>0.71</td><td>17.00</td><td>...</td><td>  NA</td><td>  NA</td><td>  NA</td><td>  NA</td><td>  NA</td><td>  NA</td><td>30</td><td> NA</td><td> NA</td><td> NA</td></tr>\n",
       "\t<tr><td>Sa-3  </td><td>Sazava</td><td>Mrac      </td><td>bi-amph quartz diorite   </td><td>working quarry      </td><td>10</td><td>4</td><td>55.09</td><td>0.75</td><td>17.59</td><td>...</td><td>  NA</td><td>  NA</td><td>  NA</td><td>  NA</td><td>  NA</td><td>  NA</td><td>30</td><td> NA</td><td> NA</td><td> NA</td></tr>\n",
       "\t<tr><td>Sa-4  </td><td>Sazava</td><td>Mrac      </td><td>bi-amph quartz diorite   </td><td>working quarry      </td><td>10</td><td>4</td><td>50.72</td><td>0.83</td><td>17.57</td><td>...</td><td>5.80</td><td>1.03</td><td>2.80</td><td>0.43</td><td>2.88</td><td>0.43</td><td>38</td><td>5.7</td><td>0.5</td><td>2.5</td></tr>\n",
       "\t<tr><td>Sa-7  </td><td>Sazava</td><td>Teletín   </td><td>bi-amph tonalite         </td><td>disused quarry      </td><td>10</td><td>1</td><td>57.73</td><td>0.95</td><td>18.82</td><td>...</td><td>2.70</td><td>0.56</td><td>1.64</td><td>0.24</td><td>1.52</td><td>0.25</td><td>24</td><td>6.6</td><td>0.6</td><td>3.6</td></tr>\n",
       "\t<tr><td>SaD-1 </td><td>basic </td><td>Teletín   </td><td>bi-amph quartz diorite   </td><td>disused quarry      </td><td> 8</td><td>1</td><td>52.90</td><td>1.35</td><td>18.23</td><td>...</td><td>  NA</td><td>  NA</td><td>  NA</td><td>  NA</td><td>  NA</td><td>  NA</td><td>36</td><td>2.3</td><td>1.1</td><td>1.8</td></tr>\n",
       "\t<tr><td>Gbs-1 </td><td>basic </td><td>Pecerady  </td><td>px-amph gabbro           </td><td>disused quarry      </td><td>19</td><td>1</td><td>49.63</td><td>0.76</td><td>13.34</td><td>...</td><td>  NA</td><td>  NA</td><td>  NA</td><td>  NA</td><td>  NA</td><td>  NA</td><td>20</td><td> NA</td><td> NA</td><td> NA</td></tr>\n",
       "\t<tr><td>Gbs-20</td><td>basic </td><td>Pecerady  </td><td>px-amph gabbro           </td><td>disused quarry      </td><td>19</td><td>1</td><td>51.72</td><td>0.67</td><td>14.17</td><td>...</td><td>  NA</td><td>  NA</td><td>  NA</td><td>  NA</td><td>  NA</td><td>  NA</td><td>19</td><td> NA</td><td> NA</td><td> NA</td></tr>\n",
       "\t<tr><td>Gbs-2 </td><td>basic </td><td>Vavretice </td><td>amph-bi qtz gabbrodiorite</td><td>disused quarry      </td><td>19</td><td>1</td><td>48.84</td><td>0.34</td><td>21.64</td><td>...</td><td>  NA</td><td>  NA</td><td>  NA</td><td>  NA</td><td>  NA</td><td>  NA</td><td>10</td><td> NA</td><td> NA</td><td> NA</td></tr>\n",
       "\t<tr><td>Gbs-3 </td><td>basic </td><td>Brtnice   </td><td>amph-bi qtz gabbrodiorite</td><td>water supply gallery</td><td>19</td><td>1</td><td>55.80</td><td>0.80</td><td>16.98</td><td>...</td><td>  NA</td><td>  NA</td><td>  NA</td><td>  NA</td><td>  NA</td><td>  NA</td><td>42</td><td> NA</td><td> NA</td><td> NA</td></tr>\n",
       "\t<tr><td>Po-1  </td><td>Pozary</td><td>Krhanice  </td><td>bi trondhjemite          </td><td>working quarry      </td><td> 1</td><td>2</td><td>62.95</td><td>0.28</td><td>20.02</td><td>...</td><td>0.64</td><td>0.11</td><td>0.37</td><td>0.06</td><td>0.51</td><td>0.08</td><td>11</td><td>3.0</td><td>0.3</td><td>4.2</td></tr>\n",
       "\t<tr><td>Po-3  </td><td>Pozary</td><td>Prosecnice</td><td>bi trondhjemite          </td><td>working quarry      </td><td> 1</td><td>2</td><td>68.30</td><td>0.28</td><td>15.29</td><td>...</td><td>  NA</td><td>  NA</td><td>  NA</td><td>  NA</td><td>  NA</td><td>  NA</td><td> 8</td><td> NA</td><td> NA</td><td> NA</td></tr>\n",
       "\t<tr><td>Po-4  </td><td>Pozary</td><td>Prosecnice</td><td>bi trondhjemite          </td><td>working quarry      </td><td> 1</td><td>2</td><td>71.09</td><td>0.30</td><td>15.09</td><td>...</td><td>0.80</td><td>0.14</td><td>0.50</td><td>0.09</td><td>0.61</td><td>0.10</td><td> 7</td><td>3.0</td><td>0.2</td><td>5.4</td></tr>\n",
       "\t<tr><td>Po-5  </td><td>Pozary</td><td>Prosecnice</td><td>bi trondhjemite          </td><td>working quarry      </td><td> 1</td><td>2</td><td>71.42</td><td>0.30</td><td>15.04</td><td>...</td><td>  NA</td><td>  NA</td><td>  NA</td><td>  NA</td><td>  NA</td><td>  NA</td><td> 5</td><td> NA</td><td> NA</td><td> NA</td></tr>\n",
       "</tbody>\n",
       "</table>\n"
      ],
      "text/latex": [
       "A tibble: 14 × 50\n",
       "\\begin{tabular}{lllllllllllllllllllll}\n",
       " ...1 & Intrusion & Locality & Petrology & Outcrop & Symbol & Colour & SiO2 & TiO2 & Al2O3 & ... & Dy & Ho & Er & Tm & Yb & Lu & Y & Cs & Ta & Hf\\\\\n",
       " <chr> & <chr> & <chr> & <chr> & <chr> & <dbl> & <dbl> & <dbl> & <dbl> & <dbl> & ... & <dbl> & <dbl> & <dbl> & <dbl> & <dbl> & <dbl> & <dbl> & <dbl> & <dbl> & <dbl>\\\\\n",
       "\\hline\n",
       "\t Sa-1   & Sazava & Mrac       & bi-amph quartz diorite    & working quarry       & 10 & 4 & 59.98 & 0.63 & 16.42 & ... &   NA &   NA &   NA &   NA &   NA &   NA & 25 &  NA &  NA &  NA\\\\\n",
       "\t Sa-2   & Sazava & Mrac       & bi-amph quartz diorite    & working quarry       & 10 & 4 & 55.17 & 0.71 & 17.00 & ... &   NA &   NA &   NA &   NA &   NA &   NA & 30 &  NA &  NA &  NA\\\\\n",
       "\t Sa-3   & Sazava & Mrac       & bi-amph quartz diorite    & working quarry       & 10 & 4 & 55.09 & 0.75 & 17.59 & ... &   NA &   NA &   NA &   NA &   NA &   NA & 30 &  NA &  NA &  NA\\\\\n",
       "\t Sa-4   & Sazava & Mrac       & bi-amph quartz diorite    & working quarry       & 10 & 4 & 50.72 & 0.83 & 17.57 & ... & 5.80 & 1.03 & 2.80 & 0.43 & 2.88 & 0.43 & 38 & 5.7 & 0.5 & 2.5\\\\\n",
       "\t Sa-7   & Sazava & Teletín    & bi-amph tonalite          & disused quarry       & 10 & 1 & 57.73 & 0.95 & 18.82 & ... & 2.70 & 0.56 & 1.64 & 0.24 & 1.52 & 0.25 & 24 & 6.6 & 0.6 & 3.6\\\\\n",
       "\t SaD-1  & basic  & Teletín    & bi-amph quartz diorite    & disused quarry       &  8 & 1 & 52.90 & 1.35 & 18.23 & ... &   NA &   NA &   NA &   NA &   NA &   NA & 36 & 2.3 & 1.1 & 1.8\\\\\n",
       "\t Gbs-1  & basic  & Pecerady   & px-amph gabbro            & disused quarry       & 19 & 1 & 49.63 & 0.76 & 13.34 & ... &   NA &   NA &   NA &   NA &   NA &   NA & 20 &  NA &  NA &  NA\\\\\n",
       "\t Gbs-20 & basic  & Pecerady   & px-amph gabbro            & disused quarry       & 19 & 1 & 51.72 & 0.67 & 14.17 & ... &   NA &   NA &   NA &   NA &   NA &   NA & 19 &  NA &  NA &  NA\\\\\n",
       "\t Gbs-2  & basic  & Vavretice  & amph-bi qtz gabbrodiorite & disused quarry       & 19 & 1 & 48.84 & 0.34 & 21.64 & ... &   NA &   NA &   NA &   NA &   NA &   NA & 10 &  NA &  NA &  NA\\\\\n",
       "\t Gbs-3  & basic  & Brtnice    & amph-bi qtz gabbrodiorite & water supply gallery & 19 & 1 & 55.80 & 0.80 & 16.98 & ... &   NA &   NA &   NA &   NA &   NA &   NA & 42 &  NA &  NA &  NA\\\\\n",
       "\t Po-1   & Pozary & Krhanice   & bi trondhjemite           & working quarry       &  1 & 2 & 62.95 & 0.28 & 20.02 & ... & 0.64 & 0.11 & 0.37 & 0.06 & 0.51 & 0.08 & 11 & 3.0 & 0.3 & 4.2\\\\\n",
       "\t Po-3   & Pozary & Prosecnice & bi trondhjemite           & working quarry       &  1 & 2 & 68.30 & 0.28 & 15.29 & ... &   NA &   NA &   NA &   NA &   NA &   NA &  8 &  NA &  NA &  NA\\\\\n",
       "\t Po-4   & Pozary & Prosecnice & bi trondhjemite           & working quarry       &  1 & 2 & 71.09 & 0.30 & 15.09 & ... & 0.80 & 0.14 & 0.50 & 0.09 & 0.61 & 0.10 &  7 & 3.0 & 0.2 & 5.4\\\\\n",
       "\t Po-5   & Pozary & Prosecnice & bi trondhjemite           & working quarry       &  1 & 2 & 71.42 & 0.30 & 15.04 & ... &   NA &   NA &   NA &   NA &   NA &   NA &  5 &  NA &  NA &  NA\\\\\n",
       "\\end{tabular}\n"
      ],
      "text/markdown": [
       "\n",
       "A tibble: 14 × 50\n",
       "\n",
       "| ...1 &lt;chr&gt; | Intrusion &lt;chr&gt; | Locality &lt;chr&gt; | Petrology &lt;chr&gt; | Outcrop &lt;chr&gt; | Symbol &lt;dbl&gt; | Colour &lt;dbl&gt; | SiO2 &lt;dbl&gt; | TiO2 &lt;dbl&gt; | Al2O3 &lt;dbl&gt; | ... ... | Dy &lt;dbl&gt; | Ho &lt;dbl&gt; | Er &lt;dbl&gt; | Tm &lt;dbl&gt; | Yb &lt;dbl&gt; | Lu &lt;dbl&gt; | Y &lt;dbl&gt; | Cs &lt;dbl&gt; | Ta &lt;dbl&gt; | Hf &lt;dbl&gt; |\n",
       "|---|---|---|---|---|---|---|---|---|---|---|---|---|---|---|---|---|---|---|---|---|\n",
       "| Sa-1   | Sazava | Mrac       | bi-amph quartz diorite    | working quarry       | 10 | 4 | 59.98 | 0.63 | 16.42 | ... |   NA |   NA |   NA |   NA |   NA |   NA | 25 |  NA |  NA |  NA |\n",
       "| Sa-2   | Sazava | Mrac       | bi-amph quartz diorite    | working quarry       | 10 | 4 | 55.17 | 0.71 | 17.00 | ... |   NA |   NA |   NA |   NA |   NA |   NA | 30 |  NA |  NA |  NA |\n",
       "| Sa-3   | Sazava | Mrac       | bi-amph quartz diorite    | working quarry       | 10 | 4 | 55.09 | 0.75 | 17.59 | ... |   NA |   NA |   NA |   NA |   NA |   NA | 30 |  NA |  NA |  NA |\n",
       "| Sa-4   | Sazava | Mrac       | bi-amph quartz diorite    | working quarry       | 10 | 4 | 50.72 | 0.83 | 17.57 | ... | 5.80 | 1.03 | 2.80 | 0.43 | 2.88 | 0.43 | 38 | 5.7 | 0.5 | 2.5 |\n",
       "| Sa-7   | Sazava | Teletín    | bi-amph tonalite          | disused quarry       | 10 | 1 | 57.73 | 0.95 | 18.82 | ... | 2.70 | 0.56 | 1.64 | 0.24 | 1.52 | 0.25 | 24 | 6.6 | 0.6 | 3.6 |\n",
       "| SaD-1  | basic  | Teletín    | bi-amph quartz diorite    | disused quarry       |  8 | 1 | 52.90 | 1.35 | 18.23 | ... |   NA |   NA |   NA |   NA |   NA |   NA | 36 | 2.3 | 1.1 | 1.8 |\n",
       "| Gbs-1  | basic  | Pecerady   | px-amph gabbro            | disused quarry       | 19 | 1 | 49.63 | 0.76 | 13.34 | ... |   NA |   NA |   NA |   NA |   NA |   NA | 20 |  NA |  NA |  NA |\n",
       "| Gbs-20 | basic  | Pecerady   | px-amph gabbro            | disused quarry       | 19 | 1 | 51.72 | 0.67 | 14.17 | ... |   NA |   NA |   NA |   NA |   NA |   NA | 19 |  NA |  NA |  NA |\n",
       "| Gbs-2  | basic  | Vavretice  | amph-bi qtz gabbrodiorite | disused quarry       | 19 | 1 | 48.84 | 0.34 | 21.64 | ... |   NA |   NA |   NA |   NA |   NA |   NA | 10 |  NA |  NA |  NA |\n",
       "| Gbs-3  | basic  | Brtnice    | amph-bi qtz gabbrodiorite | water supply gallery | 19 | 1 | 55.80 | 0.80 | 16.98 | ... |   NA |   NA |   NA |   NA |   NA |   NA | 42 |  NA |  NA |  NA |\n",
       "| Po-1   | Pozary | Krhanice   | bi trondhjemite           | working quarry       |  1 | 2 | 62.95 | 0.28 | 20.02 | ... | 0.64 | 0.11 | 0.37 | 0.06 | 0.51 | 0.08 | 11 | 3.0 | 0.3 | 4.2 |\n",
       "| Po-3   | Pozary | Prosecnice | bi trondhjemite           | working quarry       |  1 | 2 | 68.30 | 0.28 | 15.29 | ... |   NA |   NA |   NA |   NA |   NA |   NA |  8 |  NA |  NA |  NA |\n",
       "| Po-4   | Pozary | Prosecnice | bi trondhjemite           | working quarry       |  1 | 2 | 71.09 | 0.30 | 15.09 | ... | 0.80 | 0.14 | 0.50 | 0.09 | 0.61 | 0.10 |  7 | 3.0 | 0.2 | 5.4 |\n",
       "| Po-5   | Pozary | Prosecnice | bi trondhjemite           | working quarry       |  1 | 2 | 71.42 | 0.30 | 15.04 | ... |   NA |   NA |   NA |   NA |   NA |   NA |  5 |  NA |  NA |  NA |\n",
       "\n"
      ],
      "text/plain": [
       "   ...1   Intrusion Locality   Petrology                 Outcrop             \n",
       "1  Sa-1   Sazava    Mrac       bi-amph quartz diorite    working quarry      \n",
       "2  Sa-2   Sazava    Mrac       bi-amph quartz diorite    working quarry      \n",
       "3  Sa-3   Sazava    Mrac       bi-amph quartz diorite    working quarry      \n",
       "4  Sa-4   Sazava    Mrac       bi-amph quartz diorite    working quarry      \n",
       "5  Sa-7   Sazava    Teletín    bi-amph tonalite          disused quarry      \n",
       "6  SaD-1  basic     Teletín    bi-amph quartz diorite    disused quarry      \n",
       "7  Gbs-1  basic     Pecerady   px-amph gabbro            disused quarry      \n",
       "8  Gbs-20 basic     Pecerady   px-amph gabbro            disused quarry      \n",
       "9  Gbs-2  basic     Vavretice  amph-bi qtz gabbrodiorite disused quarry      \n",
       "10 Gbs-3  basic     Brtnice    amph-bi qtz gabbrodiorite water supply gallery\n",
       "11 Po-1   Pozary    Krhanice   bi trondhjemite           working quarry      \n",
       "12 Po-3   Pozary    Prosecnice bi trondhjemite           working quarry      \n",
       "13 Po-4   Pozary    Prosecnice bi trondhjemite           working quarry      \n",
       "14 Po-5   Pozary    Prosecnice bi trondhjemite           working quarry      \n",
       "   Symbol Colour SiO2  TiO2 Al2O3 ... Dy   Ho   Er   Tm   Yb   Lu   Y  Cs  Ta \n",
       "1  10     4      59.98 0.63 16.42 ...   NA   NA   NA   NA   NA   NA 25  NA  NA\n",
       "2  10     4      55.17 0.71 17.00 ...   NA   NA   NA   NA   NA   NA 30  NA  NA\n",
       "3  10     4      55.09 0.75 17.59 ...   NA   NA   NA   NA   NA   NA 30  NA  NA\n",
       "4  10     4      50.72 0.83 17.57 ... 5.80 1.03 2.80 0.43 2.88 0.43 38 5.7 0.5\n",
       "5  10     1      57.73 0.95 18.82 ... 2.70 0.56 1.64 0.24 1.52 0.25 24 6.6 0.6\n",
       "6   8     1      52.90 1.35 18.23 ...   NA   NA   NA   NA   NA   NA 36 2.3 1.1\n",
       "7  19     1      49.63 0.76 13.34 ...   NA   NA   NA   NA   NA   NA 20  NA  NA\n",
       "8  19     1      51.72 0.67 14.17 ...   NA   NA   NA   NA   NA   NA 19  NA  NA\n",
       "9  19     1      48.84 0.34 21.64 ...   NA   NA   NA   NA   NA   NA 10  NA  NA\n",
       "10 19     1      55.80 0.80 16.98 ...   NA   NA   NA   NA   NA   NA 42  NA  NA\n",
       "11  1     2      62.95 0.28 20.02 ... 0.64 0.11 0.37 0.06 0.51 0.08 11 3.0 0.3\n",
       "12  1     2      68.30 0.28 15.29 ...   NA   NA   NA   NA   NA   NA  8  NA  NA\n",
       "13  1     2      71.09 0.30 15.09 ... 0.80 0.14 0.50 0.09 0.61 0.10  7 3.0 0.2\n",
       "14  1     2      71.42 0.30 15.04 ...   NA   NA   NA   NA   NA   NA  5  NA  NA\n",
       "   Hf \n",
       "1   NA\n",
       "2   NA\n",
       "3   NA\n",
       "4  2.5\n",
       "5  3.6\n",
       "6  1.8\n",
       "7   NA\n",
       "8   NA\n",
       "9   NA\n",
       "10  NA\n",
       "11 4.2\n",
       "12  NA\n",
       "13 5.4\n",
       "14  NA"
      ]
     },
     "metadata": {},
     "output_type": "display_data"
    }
   ],
   "source": [
    "sazxlFile <- paste(gcdkit.dir,\"Test_data\\\\sazava.xls\",sep=\"\")\n",
    "library(readxl)\n",
    "sazava_tbl<- read_xls(sazxlFile)\n",
    "sazava_tbl"
   ]
  },
  {
   "cell_type": "markdown",
   "metadata": {},
   "source": [
    "As you see, the textual columns are of type  `<chr>` and not `<fct>` - tibbles perform no automatic type conversion. "
   ]
  },
  {
   "cell_type": "markdown",
   "metadata": {},
   "source": [
    "As we mentionned, tibbles are \"lazy and surly: they do less and they complain more\".\n",
    "\n",
    "**Tibbles are lazy:** one of the best features of tibbles is that they are type stable - operations on a tibble always return a tibble, unless you explicitly ask otherwise. So, for instance"
   ]
  },
  {
   "cell_type": "code",
   "execution_count": 48,
   "metadata": {},
   "outputs": [
    {
     "data": {
      "text/html": [
       "<style>\n",
       ".list-inline {list-style: none; margin:0; padding: 0}\n",
       ".list-inline>li {display: inline-block}\n",
       ".list-inline>li:not(:last-child)::after {content: \"\\00b7\"; padding: 0 .5ex}\n",
       "</style>\n",
       "<ol class=list-inline><li>10</li><li>10</li><li>10</li><li>10</li><li>10</li><li>8</li><li>19</li><li>19</li><li>19</li><li>19</li><li>1</li><li>1</li><li>1</li><li>1</li></ol>\n"
      ],
      "text/latex": [
       "\\begin{enumerate*}\n",
       "\\item 10\n",
       "\\item 10\n",
       "\\item 10\n",
       "\\item 10\n",
       "\\item 10\n",
       "\\item 8\n",
       "\\item 19\n",
       "\\item 19\n",
       "\\item 19\n",
       "\\item 19\n",
       "\\item 1\n",
       "\\item 1\n",
       "\\item 1\n",
       "\\item 1\n",
       "\\end{enumerate*}\n"
      ],
      "text/markdown": [
       "1. 10\n",
       "2. 10\n",
       "3. 10\n",
       "4. 10\n",
       "5. 10\n",
       "6. 8\n",
       "7. 19\n",
       "8. 19\n",
       "9. 19\n",
       "10. 19\n",
       "11. 1\n",
       "12. 1\n",
       "13. 1\n",
       "14. 1\n",
       "\n",
       "\n"
      ],
      "text/plain": [
       " [1] 10 10 10 10 10  8 19 19 19 19  1  1  1  1"
      ]
     },
     "metadata": {},
     "output_type": "display_data"
    }
   ],
   "source": [
    "sazava.df[,5]\n",
    "# A vector"
   ]
  },
  {
   "cell_type": "code",
   "execution_count": 49,
   "metadata": {},
   "outputs": [
    {
     "data": {
      "text/html": [
       "<table>\n",
       "<caption>A tibble: 14 × 1</caption>\n",
       "<thead>\n",
       "\t<tr><th scope=col>Symbol</th></tr>\n",
       "\t<tr><th scope=col>&lt;dbl&gt;</th></tr>\n",
       "</thead>\n",
       "<tbody>\n",
       "\t<tr><td>10</td></tr>\n",
       "\t<tr><td>10</td></tr>\n",
       "\t<tr><td>10</td></tr>\n",
       "\t<tr><td>10</td></tr>\n",
       "\t<tr><td>10</td></tr>\n",
       "\t<tr><td> 8</td></tr>\n",
       "\t<tr><td>19</td></tr>\n",
       "\t<tr><td>19</td></tr>\n",
       "\t<tr><td>19</td></tr>\n",
       "\t<tr><td>19</td></tr>\n",
       "\t<tr><td> 1</td></tr>\n",
       "\t<tr><td> 1</td></tr>\n",
       "\t<tr><td> 1</td></tr>\n",
       "\t<tr><td> 1</td></tr>\n",
       "</tbody>\n",
       "</table>\n"
      ],
      "text/latex": [
       "A tibble: 14 × 1\n",
       "\\begin{tabular}{l}\n",
       " Symbol\\\\\n",
       " <dbl>\\\\\n",
       "\\hline\n",
       "\t 10\\\\\n",
       "\t 10\\\\\n",
       "\t 10\\\\\n",
       "\t 10\\\\\n",
       "\t 10\\\\\n",
       "\t  8\\\\\n",
       "\t 19\\\\\n",
       "\t 19\\\\\n",
       "\t 19\\\\\n",
       "\t 19\\\\\n",
       "\t  1\\\\\n",
       "\t  1\\\\\n",
       "\t  1\\\\\n",
       "\t  1\\\\\n",
       "\\end{tabular}\n"
      ],
      "text/markdown": [
       "\n",
       "A tibble: 14 × 1\n",
       "\n",
       "| Symbol &lt;dbl&gt; |\n",
       "|---|\n",
       "| 10 |\n",
       "| 10 |\n",
       "| 10 |\n",
       "| 10 |\n",
       "| 10 |\n",
       "|  8 |\n",
       "| 19 |\n",
       "| 19 |\n",
       "| 19 |\n",
       "| 19 |\n",
       "|  1 |\n",
       "|  1 |\n",
       "|  1 |\n",
       "|  1 |\n",
       "\n"
      ],
      "text/plain": [
       "   Symbol\n",
       "1  10    \n",
       "2  10    \n",
       "3  10    \n",
       "4  10    \n",
       "5  10    \n",
       "6   8    \n",
       "7  19    \n",
       "8  19    \n",
       "9  19    \n",
       "10 19    \n",
       "11  1    \n",
       "12  1    \n",
       "13  1    \n",
       "14  1    "
      ]
     },
     "metadata": {},
     "output_type": "display_data"
    }
   ],
   "source": [
    "sazava_tbl[,6]\n",
    "# A tibble"
   ]
  },
  {
   "cell_type": "code",
   "execution_count": 50,
   "metadata": {},
   "outputs": [
    {
     "data": {
      "text/html": [
       "59.98"
      ],
      "text/latex": [
       "59.98"
      ],
      "text/markdown": [
       "59.98"
      ],
      "text/plain": [
       "[1] 59.98"
      ]
     },
     "metadata": {},
     "output_type": "display_data"
    }
   ],
   "source": [
    "sazava.df[1,7]\n",
    "# A scalar"
   ]
  },
  {
   "cell_type": "code",
   "execution_count": 51,
   "metadata": {},
   "outputs": [
    {
     "data": {
      "text/html": [
       "<table>\n",
       "<caption>A tibble: 1 × 1</caption>\n",
       "<thead>\n",
       "\t<tr><th scope=col>SiO2</th></tr>\n",
       "\t<tr><th scope=col>&lt;dbl&gt;</th></tr>\n",
       "</thead>\n",
       "<tbody>\n",
       "\t<tr><td>59.98</td></tr>\n",
       "</tbody>\n",
       "</table>\n"
      ],
      "text/latex": [
       "A tibble: 1 × 1\n",
       "\\begin{tabular}{l}\n",
       " SiO2\\\\\n",
       " <dbl>\\\\\n",
       "\\hline\n",
       "\t 59.98\\\\\n",
       "\\end{tabular}\n"
      ],
      "text/markdown": [
       "\n",
       "A tibble: 1 × 1\n",
       "\n",
       "| SiO2 &lt;dbl&gt; |\n",
       "|---|\n",
       "| 59.98 |\n",
       "\n"
      ],
      "text/plain": [
       "  SiO2 \n",
       "1 59.98"
      ]
     },
     "metadata": {},
     "output_type": "display_data"
    }
   ],
   "source": [
    "sazava_tbl[1,8]\n",
    "# Still a tibble !"
   ]
  },
  {
   "cell_type": "code",
   "execution_count": 52,
   "metadata": {},
   "outputs": [
    {
     "data": {
      "text/html": [
       "<table>\n",
       "<caption>A data.frame: 1 × 0</caption>\n",
       "<tbody>\n",
       "\t<tr><th scope=row>Sa-1</th></tr>\n",
       "</tbody>\n",
       "</table>\n"
      ],
      "text/latex": [
       "A data.frame: 1 × 0\n",
       "\\begin{tabular}{r|}\n",
       "\tSa-1\\\\\n",
       "\\end{tabular}\n"
      ],
      "text/markdown": [
       "\n",
       "A data.frame: 1 × 0\n",
       "\n",
       "| Sa-1 |\n",
       "\n"
      ],
      "text/plain": [
       "    \n",
       "Sa-1"
      ]
     },
     "metadata": {},
     "output_type": "display_data"
    }
   ],
   "source": [
    "sazava.df[1,NULL]\n",
    "# A dataframe"
   ]
  },
  {
   "cell_type": "code",
   "execution_count": 54,
   "metadata": {},
   "outputs": [
    {
     "data": {
      "text/html": [],
      "text/latex": [],
      "text/markdown": [],
      "text/plain": [
       " \n",
       "1"
      ]
     },
     "metadata": {},
     "output_type": "display_data"
    }
   ],
   "source": [
    "sazava_tbl[1,NULL]\n",
    "# Still a tibble (but jupyter does not print it, try in Rgui)"
   ]
  },
  {
   "cell_type": "markdown",
   "metadata": {},
   "source": [
    "If you want to convert the contents of a tibble to a vector, you can do it explicitely by using the tibble function `as_vector` (NOT the same as plain R `as.vector` !)"
   ]
  },
  {
   "cell_type": "code",
   "execution_count": 83,
   "metadata": {},
   "outputs": [
    {
     "data": {
      "text/html": [
       "<style>\n",
       ".dl-inline {width: auto; margin:0; padding: 0}\n",
       ".dl-inline>dt, .dl-inline>dd {float: none; width: auto; display: inline-block}\n",
       ".dl-inline>dt::after {content: \":\\0020\"; padding-right: .5ex}\n",
       ".dl-inline>dt:not(:first-of-type) {padding-left: .5ex}\n",
       "</style><dl class=dl-inline><dt>Symbol1</dt><dd>10</dd><dt>Symbol2</dt><dd>10</dd><dt>Symbol3</dt><dd>10</dd><dt>Symbol4</dt><dd>10</dd><dt>Symbol5</dt><dd>10</dd><dt>Symbol6</dt><dd>8</dd><dt>Symbol7</dt><dd>19</dd><dt>Symbol8</dt><dd>19</dd><dt>Symbol9</dt><dd>19</dd><dt>Symbol10</dt><dd>19</dd><dt>Symbol11</dt><dd>1</dd><dt>Symbol12</dt><dd>1</dd><dt>Symbol13</dt><dd>1</dd><dt>Symbol14</dt><dd>1</dd></dl>\n"
      ],
      "text/latex": [
       "\\begin{description*}\n",
       "\\item[Symbol1] 10\n",
       "\\item[Symbol2] 10\n",
       "\\item[Symbol3] 10\n",
       "\\item[Symbol4] 10\n",
       "\\item[Symbol5] 10\n",
       "\\item[Symbol6] 8\n",
       "\\item[Symbol7] 19\n",
       "\\item[Symbol8] 19\n",
       "\\item[Symbol9] 19\n",
       "\\item[Symbol10] 19\n",
       "\\item[Symbol11] 1\n",
       "\\item[Symbol12] 1\n",
       "\\item[Symbol13] 1\n",
       "\\item[Symbol14] 1\n",
       "\\end{description*}\n"
      ],
      "text/markdown": [
       "Symbol1\n",
       ":   10Symbol2\n",
       ":   10Symbol3\n",
       ":   10Symbol4\n",
       ":   10Symbol5\n",
       ":   10Symbol6\n",
       ":   8Symbol7\n",
       ":   19Symbol8\n",
       ":   19Symbol9\n",
       ":   19Symbol10\n",
       ":   19Symbol11\n",
       ":   1Symbol12\n",
       ":   1Symbol13\n",
       ":   1Symbol14\n",
       ":   1\n",
       "\n"
      ],
      "text/plain": [
       " Symbol1  Symbol2  Symbol3  Symbol4  Symbol5  Symbol6  Symbol7  Symbol8 \n",
       "      10       10       10       10       10        8       19       19 \n",
       " Symbol9 Symbol10 Symbol11 Symbol12 Symbol13 Symbol14 \n",
       "      19       19        1        1        1        1 "
      ]
     },
     "metadata": {},
     "output_type": "display_data"
    }
   ],
   "source": [
    "as_vector(sazava_tbl[,6])"
   ]
  },
  {
   "cell_type": "markdown",
   "metadata": {},
   "source": [
    "Or you can use the [[ or $ operator (as this performs implicit conversion, however, this is discouraged):"
   ]
  },
  {
   "cell_type": "code",
   "execution_count": 84,
   "metadata": {},
   "outputs": [
    {
     "data": {
      "text/html": [
       "<style>\n",
       ".list-inline {list-style: none; margin:0; padding: 0}\n",
       ".list-inline>li {display: inline-block}\n",
       ".list-inline>li:not(:last-child)::after {content: \"\\00b7\"; padding: 0 .5ex}\n",
       "</style>\n",
       "<ol class=list-inline><li>59.98</li><li>55.17</li><li>55.09</li><li>50.72</li><li>57.73</li><li>52.9</li><li>49.63</li><li>51.72</li><li>48.84</li><li>55.8</li><li>62.95</li><li>68.3</li><li>71.09</li><li>71.42</li></ol>\n"
      ],
      "text/latex": [
       "\\begin{enumerate*}\n",
       "\\item 59.98\n",
       "\\item 55.17\n",
       "\\item 55.09\n",
       "\\item 50.72\n",
       "\\item 57.73\n",
       "\\item 52.9\n",
       "\\item 49.63\n",
       "\\item 51.72\n",
       "\\item 48.84\n",
       "\\item 55.8\n",
       "\\item 62.95\n",
       "\\item 68.3\n",
       "\\item 71.09\n",
       "\\item 71.42\n",
       "\\end{enumerate*}\n"
      ],
      "text/markdown": [
       "1. 59.98\n",
       "2. 55.17\n",
       "3. 55.09\n",
       "4. 50.72\n",
       "5. 57.73\n",
       "6. 52.9\n",
       "7. 49.63\n",
       "8. 51.72\n",
       "9. 48.84\n",
       "10. 55.8\n",
       "11. 62.95\n",
       "12. 68.3\n",
       "13. 71.09\n",
       "14. 71.42\n",
       "\n",
       "\n"
      ],
      "text/plain": [
       " [1] 59.98 55.17 55.09 50.72 57.73 52.90 49.63 51.72 48.84 55.80 62.95 68.30\n",
       "[13] 71.09 71.42"
      ]
     },
     "metadata": {},
     "output_type": "display_data"
    }
   ],
   "source": [
    "sazava_tbl$SiO2"
   ]
  },
  {
   "cell_type": "code",
   "execution_count": 86,
   "metadata": {},
   "outputs": [
    {
     "data": {
      "text/html": [
       "<style>\n",
       ".list-inline {list-style: none; margin:0; padding: 0}\n",
       ".list-inline>li {display: inline-block}\n",
       ".list-inline>li:not(:last-child)::after {content: \"\\00b7\"; padding: 0 .5ex}\n",
       "</style>\n",
       "<ol class=list-inline><li>59.98</li><li>55.17</li><li>55.09</li><li>50.72</li><li>57.73</li><li>52.9</li><li>49.63</li><li>51.72</li><li>48.84</li><li>55.8</li><li>62.95</li><li>68.3</li><li>71.09</li><li>71.42</li></ol>\n"
      ],
      "text/latex": [
       "\\begin{enumerate*}\n",
       "\\item 59.98\n",
       "\\item 55.17\n",
       "\\item 55.09\n",
       "\\item 50.72\n",
       "\\item 57.73\n",
       "\\item 52.9\n",
       "\\item 49.63\n",
       "\\item 51.72\n",
       "\\item 48.84\n",
       "\\item 55.8\n",
       "\\item 62.95\n",
       "\\item 68.3\n",
       "\\item 71.09\n",
       "\\item 71.42\n",
       "\\end{enumerate*}\n"
      ],
      "text/markdown": [
       "1. 59.98\n",
       "2. 55.17\n",
       "3. 55.09\n",
       "4. 50.72\n",
       "5. 57.73\n",
       "6. 52.9\n",
       "7. 49.63\n",
       "8. 51.72\n",
       "9. 48.84\n",
       "10. 55.8\n",
       "11. 62.95\n",
       "12. 68.3\n",
       "13. 71.09\n",
       "14. 71.42\n",
       "\n",
       "\n"
      ],
      "text/plain": [
       " [1] 59.98 55.17 55.09 50.72 57.73 52.90 49.63 51.72 48.84 55.80 62.95 68.30\n",
       "[13] 71.09 71.42"
      ]
     },
     "metadata": {},
     "output_type": "display_data"
    }
   ],
   "source": [
    "sazava_tbl[[\"SiO2\"]]"
   ]
  },
  {
   "cell_type": "markdown",
   "metadata": {},
   "source": [
    "**Tibbles are surly:** they complain more and won't let you, for instance, use partial matching:"
   ]
  },
  {
   "cell_type": "code",
   "execution_count": 59,
   "metadata": {},
   "outputs": [
    {
     "data": {
      "text/html": [
       "<style>\n",
       ".list-inline {list-style: none; margin:0; padding: 0}\n",
       ".list-inline>li {display: inline-block}\n",
       ".list-inline>li:not(:last-child)::after {content: \"\\00b7\"; padding: 0 .5ex}\n",
       "</style>\n",
       "<ol class=list-inline><li>59.98</li><li>55.17</li><li>55.09</li><li>50.72</li><li>57.73</li><li>52.9</li><li>49.63</li><li>51.72</li><li>48.84</li><li>55.8</li><li>62.95</li><li>68.3</li><li>71.09</li><li>71.42</li></ol>\n"
      ],
      "text/latex": [
       "\\begin{enumerate*}\n",
       "\\item 59.98\n",
       "\\item 55.17\n",
       "\\item 55.09\n",
       "\\item 50.72\n",
       "\\item 57.73\n",
       "\\item 52.9\n",
       "\\item 49.63\n",
       "\\item 51.72\n",
       "\\item 48.84\n",
       "\\item 55.8\n",
       "\\item 62.95\n",
       "\\item 68.3\n",
       "\\item 71.09\n",
       "\\item 71.42\n",
       "\\end{enumerate*}\n"
      ],
      "text/markdown": [
       "1. 59.98\n",
       "2. 55.17\n",
       "3. 55.09\n",
       "4. 50.72\n",
       "5. 57.73\n",
       "6. 52.9\n",
       "7. 49.63\n",
       "8. 51.72\n",
       "9. 48.84\n",
       "10. 55.8\n",
       "11. 62.95\n",
       "12. 68.3\n",
       "13. 71.09\n",
       "14. 71.42\n",
       "\n",
       "\n"
      ],
      "text/plain": [
       " [1] 59.98 55.17 55.09 50.72 57.73 52.90 49.63 51.72 48.84 55.80 62.95 68.30\n",
       "[13] 71.09 71.42"
      ]
     },
     "metadata": {},
     "output_type": "display_data"
    }
   ],
   "source": [
    "sazava.df$Si\n",
    "# Automatically expanded to SiO2"
   ]
  },
  {
   "cell_type": "code",
   "execution_count": 61,
   "metadata": {},
   "outputs": [
    {
     "name": "stderr",
     "output_type": "stream",
     "text": [
      "Warning message:\n",
      "\"Unknown or uninitialised column: `Si`.\"\n"
     ]
    },
    {
     "data": {
      "text/plain": [
       "NULL"
      ]
     },
     "metadata": {},
     "output_type": "display_data"
    }
   ],
   "source": [
    "sazava_tbl$Si"
   ]
  },
  {
   "cell_type": "markdown",
   "metadata": {},
   "source": [
    "Tibbles can also deal with poorly conformed variable names, as long as you protect them with back ticks, and they won't try to convert them to something \"sensible\":"
   ]
  },
  {
   "cell_type": "code",
   "execution_count": 62,
   "metadata": {},
   "outputs": [
    {
     "data": {
      "text/html": [
       "<table>\n",
       "<caption>A tibble: 3 × 2</caption>\n",
       "<thead>\n",
       "\t<tr><th scope=col>a</th><th scope=col>a silly and +-*? dangerous \"title\"</th></tr>\n",
       "\t<tr><th scope=col>&lt;dbl&gt;</th><th scope=col>&lt;dbl&gt;</th></tr>\n",
       "</thead>\n",
       "<tbody>\n",
       "\t<tr><td>1</td><td>4</td></tr>\n",
       "\t<tr><td>2</td><td>5</td></tr>\n",
       "\t<tr><td>3</td><td>6</td></tr>\n",
       "</tbody>\n",
       "</table>\n"
      ],
      "text/latex": [
       "A tibble: 3 × 2\n",
       "\\begin{tabular}{ll}\n",
       " a & a silly and +-*? dangerous \"title\"\\\\\n",
       " <dbl> & <dbl>\\\\\n",
       "\\hline\n",
       "\t 1 & 4\\\\\n",
       "\t 2 & 5\\\\\n",
       "\t 3 & 6\\\\\n",
       "\\end{tabular}\n"
      ],
      "text/markdown": [
       "\n",
       "A tibble: 3 × 2\n",
       "\n",
       "| a &lt;dbl&gt; | a silly and +-*? dangerous \"title\" &lt;dbl&gt; |\n",
       "|---|---|\n",
       "| 1 | 4 |\n",
       "| 2 | 5 |\n",
       "| 3 | 6 |\n",
       "\n"
      ],
      "text/plain": [
       "  a a silly and +-*? dangerous \"title\"\n",
       "1 1 4                                 \n",
       "2 2 5                                 \n",
       "3 3 6                                 "
      ]
     },
     "metadata": {},
     "output_type": "display_data"
    }
   ],
   "source": [
    "tibble(a=c(1,2,3),`a silly and +-*? dangerous \"title\"`=c(4,5,6))"
   ]
  },
  {
   "cell_type": "code",
   "execution_count": 79,
   "metadata": {},
   "outputs": [
    {
     "data": {
      "text/html": [
       "<style>\n",
       ".list-inline {list-style: none; margin:0; padding: 0}\n",
       ".list-inline>li {display: inline-block}\n",
       ".list-inline>li:not(:last-child)::after {content: \"\\00b7\"; padding: 0 .5ex}\n",
       "</style>\n",
       "<ol class=list-inline><li>4</li><li>5</li><li>6</li></ol>\n"
      ],
      "text/latex": [
       "\\begin{enumerate*}\n",
       "\\item 4\n",
       "\\item 5\n",
       "\\item 6\n",
       "\\end{enumerate*}\n"
      ],
      "text/markdown": [
       "1. 4\n",
       "2. 5\n",
       "3. 6\n",
       "\n",
       "\n"
      ],
      "text/plain": [
       "[1] 4 5 6"
      ]
     },
     "metadata": {},
     "output_type": "display_data"
    }
   ],
   "source": [
    "tbl<-tibble(a=c(1,2,3),`a silly and +-*? dangerous \"title\"`=c(4,5,6))\n",
    "tbl$`a silly and +-*? dangerous \"title\"`"
   ]
  },
  {
   "cell_type": "code",
   "execution_count": 63,
   "metadata": {},
   "outputs": [
    {
     "data": {
      "text/html": [
       "<table>\n",
       "<caption>A data.frame: 3 × 2</caption>\n",
       "<thead>\n",
       "\t<tr><th scope=col>a</th><th scope=col>a.silly.and......dangerous..title.</th></tr>\n",
       "\t<tr><th scope=col>&lt;dbl&gt;</th><th scope=col>&lt;dbl&gt;</th></tr>\n",
       "</thead>\n",
       "<tbody>\n",
       "\t<tr><td>1</td><td>4</td></tr>\n",
       "\t<tr><td>2</td><td>5</td></tr>\n",
       "\t<tr><td>3</td><td>6</td></tr>\n",
       "</tbody>\n",
       "</table>\n"
      ],
      "text/latex": [
       "A data.frame: 3 × 2\n",
       "\\begin{tabular}{ll}\n",
       " a & a.silly.and......dangerous..title.\\\\\n",
       " <dbl> & <dbl>\\\\\n",
       "\\hline\n",
       "\t 1 & 4\\\\\n",
       "\t 2 & 5\\\\\n",
       "\t 3 & 6\\\\\n",
       "\\end{tabular}\n"
      ],
      "text/markdown": [
       "\n",
       "A data.frame: 3 × 2\n",
       "\n",
       "| a &lt;dbl&gt; | a.silly.and......dangerous..title. &lt;dbl&gt; |\n",
       "|---|---|\n",
       "| 1 | 4 |\n",
       "| 2 | 5 |\n",
       "| 3 | 6 |\n",
       "\n"
      ],
      "text/plain": [
       "  a a.silly.and......dangerous..title.\n",
       "1 1 4                                 \n",
       "2 2 5                                 \n",
       "3 3 6                                 "
      ]
     },
     "metadata": {},
     "output_type": "display_data"
    }
   ],
   "source": [
    "data.frame(a=c(1,2,3),`a silly and +-*? dangerous \"title\"`=c(4,5,6))"
   ]
  },
  {
   "cell_type": "markdown",
   "metadata": {},
   "source": [
    "(whether you regard the above as a good, or bad feature is another matter...)"
   ]
  },
  {
   "cell_type": "markdown",
   "metadata": {},
   "source": [
    "**Tibbles are still data.frames**, so you can perform normal data frame operations on them (subset, assign, etc.) :"
   ]
  },
  {
   "cell_type": "code",
   "execution_count": 65,
   "metadata": {},
   "outputs": [
    {
     "data": {
      "text/html": [
       "<table>\n",
       "<caption>A tibble: 1 × 3</caption>\n",
       "<thead>\n",
       "\t<tr><th scope=col>a</th><th scope=col>b</th><th scope=col>d</th></tr>\n",
       "\t<tr><th scope=col>&lt;dbl&gt;</th><th scope=col>&lt;dbl&gt;</th><th scope=col>&lt;chr&gt;</th></tr>\n",
       "</thead>\n",
       "<tbody>\n",
       "\t<tr><td>1</td><td>NA</td><td>blue</td></tr>\n",
       "</tbody>\n",
       "</table>\n"
      ],
      "text/latex": [
       "A tibble: 1 × 3\n",
       "\\begin{tabular}{lll}\n",
       " a & b & d\\\\\n",
       " <dbl> & <dbl> & <chr>\\\\\n",
       "\\hline\n",
       "\t 1 & NA & blue\\\\\n",
       "\\end{tabular}\n"
      ],
      "text/markdown": [
       "\n",
       "A tibble: 1 × 3\n",
       "\n",
       "| a &lt;dbl&gt; | b &lt;dbl&gt; | d &lt;chr&gt; |\n",
       "|---|---|---|\n",
       "| 1 | NA | blue |\n",
       "\n"
      ],
      "text/plain": [
       "  a b  d   \n",
       "1 1 NA blue"
      ]
     },
     "metadata": {},
     "output_type": "display_data"
    },
    {
     "data": {
      "text/html": [
       "<style>\n",
       ".list-inline {list-style: none; margin:0; padding: 0}\n",
       ".list-inline>li {display: inline-block}\n",
       ".list-inline>li:not(:last-child)::after {content: \"\\00b7\"; padding: 0 .5ex}\n",
       "</style>\n",
       "<ol class=list-inline><li>1</li><li>2</li><li>3</li></ol>\n"
      ],
      "text/latex": [
       "\\begin{enumerate*}\n",
       "\\item 1\n",
       "\\item 2\n",
       "\\item 3\n",
       "\\end{enumerate*}\n"
      ],
      "text/markdown": [
       "1. 1\n",
       "2. 2\n",
       "3. 3\n",
       "\n",
       "\n"
      ],
      "text/plain": [
       "[1] 1 2 3"
      ]
     },
     "metadata": {},
     "output_type": "display_data"
    },
    {
     "data": {
      "text/html": [
       "<style>\n",
       ".list-inline {list-style: none; margin:0; padding: 0}\n",
       ".list-inline>li {display: inline-block}\n",
       ".list-inline>li:not(:last-child)::after {content: \"\\00b7\"; padding: 0 .5ex}\n",
       "</style>\n",
       "<ol class=list-inline><li>1</li><li>2</li><li>3</li></ol>\n"
      ],
      "text/latex": [
       "\\begin{enumerate*}\n",
       "\\item 1\n",
       "\\item 2\n",
       "\\item 3\n",
       "\\end{enumerate*}\n"
      ],
      "text/markdown": [
       "1. 1\n",
       "2. 2\n",
       "3. 3\n",
       "\n",
       "\n"
      ],
      "text/plain": [
       "[1] 1 2 3"
      ]
     },
     "metadata": {},
     "output_type": "display_data"
    }
   ],
   "source": [
    "tbl <- tibble (a=c(1,2,3),\n",
    "              b=c(NA,4,5),\n",
    "              d=c(\"blue\",\"green\",\"red\"))\n",
    "tbl[1,]\n"
   ]
  },
  {
   "cell_type": "code",
   "execution_count": 67,
   "metadata": {},
   "outputs": [
    {
     "data": {
      "text/html": [
       "<table>\n",
       "<caption>A tibble: 3 × 3</caption>\n",
       "<thead>\n",
       "\t<tr><th scope=col>a</th><th scope=col>b</th><th scope=col>d</th></tr>\n",
       "\t<tr><th scope=col>&lt;dbl&gt;</th><th scope=col>&lt;dbl&gt;</th><th scope=col>&lt;chr&gt;</th></tr>\n",
       "</thead>\n",
       "<tbody>\n",
       "\t<tr><td>2</td><td>NA</td><td>blue </td></tr>\n",
       "\t<tr><td>2</td><td> 4</td><td>green</td></tr>\n",
       "\t<tr><td>3</td><td> 5</td><td>red  </td></tr>\n",
       "</tbody>\n",
       "</table>\n"
      ],
      "text/latex": [
       "A tibble: 3 × 3\n",
       "\\begin{tabular}{lll}\n",
       " a & b & d\\\\\n",
       " <dbl> & <dbl> & <chr>\\\\\n",
       "\\hline\n",
       "\t 2 & NA & blue \\\\\n",
       "\t 2 &  4 & green\\\\\n",
       "\t 3 &  5 & red  \\\\\n",
       "\\end{tabular}\n"
      ],
      "text/markdown": [
       "\n",
       "A tibble: 3 × 3\n",
       "\n",
       "| a &lt;dbl&gt; | b &lt;dbl&gt; | d &lt;chr&gt; |\n",
       "|---|---|---|\n",
       "| 2 | NA | blue  |\n",
       "| 2 |  4 | green |\n",
       "| 3 |  5 | red   |\n",
       "\n"
      ],
      "text/plain": [
       "  a b  d    \n",
       "1 2 NA blue \n",
       "2 2  4 green\n",
       "3 3  5 red  "
      ]
     },
     "metadata": {},
     "output_type": "display_data"
    }
   ],
   "source": [
    "tbl[1,1]<-2\n",
    "tbl"
   ]
  },
  {
   "cell_type": "code",
   "execution_count": 70,
   "metadata": {},
   "outputs": [
    {
     "data": {
      "text/html": [
       "<table>\n",
       "<caption>A tibble: 1 × 3</caption>\n",
       "<thead>\n",
       "\t<tr><th scope=col>a</th><th scope=col>b</th><th scope=col>d</th></tr>\n",
       "\t<tr><th scope=col>&lt;dbl&gt;</th><th scope=col>&lt;dbl&gt;</th><th scope=col>&lt;chr&gt;</th></tr>\n",
       "</thead>\n",
       "<tbody>\n",
       "\t<tr><td>3</td><td>5</td><td>red</td></tr>\n",
       "</tbody>\n",
       "</table>\n"
      ],
      "text/latex": [
       "A tibble: 1 × 3\n",
       "\\begin{tabular}{lll}\n",
       " a & b & d\\\\\n",
       " <dbl> & <dbl> & <chr>\\\\\n",
       "\\hline\n",
       "\t 3 & 5 & red\\\\\n",
       "\\end{tabular}\n"
      ],
      "text/markdown": [
       "\n",
       "A tibble: 1 × 3\n",
       "\n",
       "| a &lt;dbl&gt; | b &lt;dbl&gt; | d &lt;chr&gt; |\n",
       "|---|---|---|\n",
       "| 3 | 5 | red |\n",
       "\n"
      ],
      "text/plain": [
       "  a b d  \n",
       "1 3 5 red"
      ]
     },
     "metadata": {},
     "output_type": "display_data"
    }
   ],
   "source": [
    "tbl[tbl[,\"a\"]>2,]"
   ]
  },
  {
   "cell_type": "markdown",
   "metadata": {},
   "source": [
    "However, **tibbles come with more evolved methods** to perform basic tasks:"
   ]
  },
  {
   "cell_type": "code",
   "execution_count": 71,
   "metadata": {},
   "outputs": [],
   "source": [
    "tbl <- tibble (a=c(1,2,3),\n",
    "              b=c(NA,4,5),\n",
    "              d=c(\"blue\",\"green\",\"red\"))\n",
    "df <- data.frame (a=c(1,2,3),\n",
    "              b=c(NA,4,5),\n",
    "              d=c(\"blue\",\"green\",\"red\"))"
   ]
  },
  {
   "cell_type": "code",
   "execution_count": 74,
   "metadata": {},
   "outputs": [],
   "source": [
    "other_tbl <- tibble (b=c(5,5,7),\n",
    "              a=c(0,4,3),\n",
    "              e=c(\"white\",\"green\",\"purple\"))\n",
    "other.df <- data.frame (b=c(5,5,7),\n",
    "              a=c(0,4,3),\n",
    "              e=c(\"white\",\"green\",\"purple\"))"
   ]
  },
  {
   "cell_type": "code",
   "execution_count": 76,
   "metadata": {},
   "outputs": [
    {
     "ename": "ERROR",
     "evalue": "Error in match.names(clabs, names(xi)): names do not match previous names\n",
     "output_type": "error",
     "traceback": [
      "Error in match.names(clabs, names(xi)): names do not match previous names\nTraceback:\n",
      "1. rbind(df, other.df)",
      "2. rbind(deparse.level, ...)",
      "3. match.names(clabs, names(xi))",
      "4. stop(\"names do not match previous names\")"
     ]
    }
   ],
   "source": [
    "rbind(df,other.df)\n",
    "# oops"
   ]
  },
  {
   "cell_type": "code",
   "execution_count": 73,
   "metadata": {},
   "outputs": [
    {
     "data": {
      "text/html": [
       "<table>\n",
       "<caption>A tibble: 6 × 4</caption>\n",
       "<thead>\n",
       "\t<tr><th scope=col>a</th><th scope=col>b</th><th scope=col>d</th><th scope=col>e</th></tr>\n",
       "\t<tr><th scope=col>&lt;dbl&gt;</th><th scope=col>&lt;dbl&gt;</th><th scope=col>&lt;chr&gt;</th><th scope=col>&lt;chr&gt;</th></tr>\n",
       "</thead>\n",
       "<tbody>\n",
       "\t<tr><td>1</td><td>NA</td><td>blue </td><td>NA    </td></tr>\n",
       "\t<tr><td>2</td><td> 4</td><td>green</td><td>NA    </td></tr>\n",
       "\t<tr><td>3</td><td> 5</td><td>red  </td><td>NA    </td></tr>\n",
       "\t<tr><td>0</td><td> 5</td><td>NA   </td><td>white </td></tr>\n",
       "\t<tr><td>4</td><td> 5</td><td>NA   </td><td>green </td></tr>\n",
       "\t<tr><td>3</td><td> 7</td><td>NA   </td><td>purple</td></tr>\n",
       "</tbody>\n",
       "</table>\n"
      ],
      "text/latex": [
       "A tibble: 6 × 4\n",
       "\\begin{tabular}{llll}\n",
       " a & b & d & e\\\\\n",
       " <dbl> & <dbl> & <chr> & <chr>\\\\\n",
       "\\hline\n",
       "\t 1 & NA & blue  & NA    \\\\\n",
       "\t 2 &  4 & green & NA    \\\\\n",
       "\t 3 &  5 & red   & NA    \\\\\n",
       "\t 0 &  5 & NA    & white \\\\\n",
       "\t 4 &  5 & NA    & green \\\\\n",
       "\t 3 &  7 & NA    & purple\\\\\n",
       "\\end{tabular}\n"
      ],
      "text/markdown": [
       "\n",
       "A tibble: 6 × 4\n",
       "\n",
       "| a &lt;dbl&gt; | b &lt;dbl&gt; | d &lt;chr&gt; | e &lt;chr&gt; |\n",
       "|---|---|---|---|\n",
       "| 1 | NA | blue  | NA     |\n",
       "| 2 |  4 | green | NA     |\n",
       "| 3 |  5 | red   | NA     |\n",
       "| 0 |  5 | NA    | white  |\n",
       "| 4 |  5 | NA    | green  |\n",
       "| 3 |  7 | NA    | purple |\n",
       "\n"
      ],
      "text/plain": [
       "  a b  d     e     \n",
       "1 1 NA blue  NA    \n",
       "2 2  4 green NA    \n",
       "3 3  5 red   NA    \n",
       "4 0  5 NA    white \n",
       "5 4  5 NA    green \n",
       "6 3  7 NA    purple"
      ]
     },
     "metadata": {},
     "output_type": "display_data"
    }
   ],
   "source": [
    "bind_rows(tbl,other_tbl)\n",
    "# Works as planned"
   ]
  },
  {
   "cell_type": "markdown",
   "metadata": {},
   "source": [
    "There are even more explicit methods for subsetting :"
   ]
  },
  {
   "cell_type": "code",
   "execution_count": 87,
   "metadata": {},
   "outputs": [
    {
     "data": {
      "text/html": [
       "<table>\n",
       "<caption>A tibble: 1 × 3</caption>\n",
       "<thead>\n",
       "\t<tr><th scope=col>a</th><th scope=col>b</th><th scope=col>d</th></tr>\n",
       "\t<tr><th scope=col>&lt;dbl&gt;</th><th scope=col>&lt;dbl&gt;</th><th scope=col>&lt;chr&gt;</th></tr>\n",
       "</thead>\n",
       "<tbody>\n",
       "\t<tr><td>3</td><td>5</td><td>red</td></tr>\n",
       "</tbody>\n",
       "</table>\n"
      ],
      "text/latex": [
       "A tibble: 1 × 3\n",
       "\\begin{tabular}{lll}\n",
       " a & b & d\\\\\n",
       " <dbl> & <dbl> & <chr>\\\\\n",
       "\\hline\n",
       "\t 3 & 5 & red\\\\\n",
       "\\end{tabular}\n"
      ],
      "text/markdown": [
       "\n",
       "A tibble: 1 × 3\n",
       "\n",
       "| a &lt;dbl&gt; | b &lt;dbl&gt; | d &lt;chr&gt; |\n",
       "|---|---|---|\n",
       "| 3 | 5 | red |\n",
       "\n"
      ],
      "text/plain": [
       "  a b d  \n",
       "1 3 5 red"
      ]
     },
     "metadata": {},
     "output_type": "display_data"
    }
   ],
   "source": [
    "tbl <- tibble (a=c(1,2,3),\n",
    "              b=c(NA,4,5),\n",
    "              d=c(\"blue\",\"green\",\"red\"))\n",
    "tbl[tbl[,\"a\"]>2,]"
   ]
  },
  {
   "cell_type": "markdown",
   "metadata": {},
   "source": [
    "This can be replaced by"
   ]
  },
  {
   "cell_type": "code",
   "execution_count": 88,
   "metadata": {},
   "outputs": [
    {
     "data": {
      "text/html": [
       "<table>\n",
       "<caption>A tibble: 1 × 3</caption>\n",
       "<thead>\n",
       "\t<tr><th scope=col>a</th><th scope=col>b</th><th scope=col>d</th></tr>\n",
       "\t<tr><th scope=col>&lt;dbl&gt;</th><th scope=col>&lt;dbl&gt;</th><th scope=col>&lt;chr&gt;</th></tr>\n",
       "</thead>\n",
       "<tbody>\n",
       "\t<tr><td>3</td><td>5</td><td>red</td></tr>\n",
       "</tbody>\n",
       "</table>\n"
      ],
      "text/latex": [
       "A tibble: 1 × 3\n",
       "\\begin{tabular}{lll}\n",
       " a & b & d\\\\\n",
       " <dbl> & <dbl> & <chr>\\\\\n",
       "\\hline\n",
       "\t 3 & 5 & red\\\\\n",
       "\\end{tabular}\n"
      ],
      "text/markdown": [
       "\n",
       "A tibble: 1 × 3\n",
       "\n",
       "| a &lt;dbl&gt; | b &lt;dbl&gt; | d &lt;chr&gt; |\n",
       "|---|---|---|\n",
       "| 3 | 5 | red |\n",
       "\n"
      ],
      "text/plain": [
       "  a b d  \n",
       "1 3 5 red"
      ]
     },
     "metadata": {},
     "output_type": "display_data"
    }
   ],
   "source": [
    "filter(tbl,a>2)"
   ]
  },
  {
   "cell_type": "markdown",
   "metadata": {},
   "source": [
    "and likewise"
   ]
  },
  {
   "cell_type": "code",
   "execution_count": 89,
   "metadata": {},
   "outputs": [
    {
     "data": {
      "text/html": [
       "<table>\n",
       "<caption>A tibble: 3 × 1</caption>\n",
       "<thead>\n",
       "\t<tr><th scope=col>a</th></tr>\n",
       "\t<tr><th scope=col>&lt;dbl&gt;</th></tr>\n",
       "</thead>\n",
       "<tbody>\n",
       "\t<tr><td>1</td></tr>\n",
       "\t<tr><td>2</td></tr>\n",
       "\t<tr><td>3</td></tr>\n",
       "</tbody>\n",
       "</table>\n"
      ],
      "text/latex": [
       "A tibble: 3 × 1\n",
       "\\begin{tabular}{l}\n",
       " a\\\\\n",
       " <dbl>\\\\\n",
       "\\hline\n",
       "\t 1\\\\\n",
       "\t 2\\\\\n",
       "\t 3\\\\\n",
       "\\end{tabular}\n"
      ],
      "text/markdown": [
       "\n",
       "A tibble: 3 × 1\n",
       "\n",
       "| a &lt;dbl&gt; |\n",
       "|---|\n",
       "| 1 |\n",
       "| 2 |\n",
       "| 3 |\n",
       "\n"
      ],
      "text/plain": [
       "  a\n",
       "1 1\n",
       "2 2\n",
       "3 3"
      ]
     },
     "metadata": {},
     "output_type": "display_data"
    },
    {
     "data": {
      "text/html": [
       "<table>\n",
       "<caption>A tibble: 3 × 1</caption>\n",
       "<thead>\n",
       "\t<tr><th scope=col>a</th></tr>\n",
       "\t<tr><th scope=col>&lt;dbl&gt;</th></tr>\n",
       "</thead>\n",
       "<tbody>\n",
       "\t<tr><td>1</td></tr>\n",
       "\t<tr><td>2</td></tr>\n",
       "\t<tr><td>3</td></tr>\n",
       "</tbody>\n",
       "</table>\n"
      ],
      "text/latex": [
       "A tibble: 3 × 1\n",
       "\\begin{tabular}{l}\n",
       " a\\\\\n",
       " <dbl>\\\\\n",
       "\\hline\n",
       "\t 1\\\\\n",
       "\t 2\\\\\n",
       "\t 3\\\\\n",
       "\\end{tabular}\n"
      ],
      "text/markdown": [
       "\n",
       "A tibble: 3 × 1\n",
       "\n",
       "| a &lt;dbl&gt; |\n",
       "|---|\n",
       "| 1 |\n",
       "| 2 |\n",
       "| 3 |\n",
       "\n"
      ],
      "text/plain": [
       "  a\n",
       "1 1\n",
       "2 2\n",
       "3 3"
      ]
     },
     "metadata": {},
     "output_type": "display_data"
    }
   ],
   "source": [
    "tbl[,\"a\"]\n",
    "select(tbl,\"a\")"
   ]
  },
  {
   "cell_type": "markdown",
   "metadata": {},
   "source": [
    "which means that we can combine them into"
   ]
  },
  {
   "cell_type": "code",
   "execution_count": 92,
   "metadata": {
    "scrolled": true
   },
   "outputs": [
    {
     "data": {
      "text/html": [
       "<table>\n",
       "<caption>A tibble: 2 × 1</caption>\n",
       "<thead>\n",
       "\t<tr><th scope=col>a</th></tr>\n",
       "\t<tr><th scope=col>&lt;dbl&gt;</th></tr>\n",
       "</thead>\n",
       "<tbody>\n",
       "\t<tr><td>1</td></tr>\n",
       "\t<tr><td>2</td></tr>\n",
       "</tbody>\n",
       "</table>\n"
      ],
      "text/latex": [
       "A tibble: 2 × 1\n",
       "\\begin{tabular}{l}\n",
       " a\\\\\n",
       " <dbl>\\\\\n",
       "\\hline\n",
       "\t 1\\\\\n",
       "\t 2\\\\\n",
       "\\end{tabular}\n"
      ],
      "text/markdown": [
       "\n",
       "A tibble: 2 × 1\n",
       "\n",
       "| a &lt;dbl&gt; |\n",
       "|---|\n",
       "| 1 |\n",
       "| 2 |\n",
       "\n"
      ],
      "text/plain": [
       "  a\n",
       "1 1\n",
       "2 2"
      ]
     },
     "metadata": {},
     "output_type": "display_data"
    }
   ],
   "source": [
    "filter(select(tbl,\"a\"),a<3)"
   ]
  },
  {
   "cell_type": "markdown",
   "metadata": {},
   "source": [
    "As we will see latter, they work very well with the \"pipe\" operator."
   ]
  },
  {
   "cell_type": "markdown",
   "metadata": {},
   "source": [
    "So, in summary:\n",
    "- Tibbles are modified data.frame.\n",
    "- They are lazy and surly (they do less and they complain more), forcing you to write more explicit code and not rely on implicit conversions.\n",
    "- They come with functions that mirror plain R functions, adapted for tibbles and, in general, doing more evolved operations. Mosty, they do have names with underscores (i.e. `as_vector`, `bind_rows`...)"
   ]
  }
 ],
 "metadata": {
  "kernelspec": {
   "display_name": "R",
   "language": "R",
   "name": "ir"
  },
  "language_info": {
   "codemirror_mode": "r",
   "file_extension": ".r",
   "mimetype": "text/x-r-source",
   "name": "R",
   "pygments_lexer": "r",
   "version": "3.6.1"
  }
 },
 "nbformat": 4,
 "nbformat_minor": 4
}
