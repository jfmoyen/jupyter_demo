{
 "cells": [
  {
   "cell_type": "markdown",
   "id": "f0607a45",
   "metadata": {},
   "source": [
    "Test notebook"
   ]
  },
  {
   "cell_type": "code",
   "execution_count": null,
   "id": "584e5dd7",
   "metadata": {},
   "outputs": [],
   "source": [
    "library(GCDkit)"
   ]
  },
  {
   "cell_type": "code",
   "execution_count": 2,
   "id": "614685c8",
   "metadata": {},
   "outputs": [
    {
     "name": "stdout",
     "output_type": "stream",
     "text": [
      "R data \n",
      "......\n",
      "..."
     ]
    },
    {
     "name": "stderr",
     "output_type": "stream",
     "text": [
      "Loading required package: lattice\n",
      "\n"
     ]
    },
    {
     "name": "stdout",
     "output_type": "stream",
     "text": [
      "\n",
      "        Age (Ma) 87Sr/86Sri 143Nd/144Ndi EpsNdi   TDM TDM.Gold TDM.2stg\n",
      "ATAC-4         0   0.704257     0.512854   4.21 0.668    0.723    0.458\n",
      "ATAC-5         0   0.704340     0.512864   4.41 0.541    0.578    0.443\n",
      "ATAC-16        0   0.704181     0.512873   4.58 0.639    0.693    0.429\n",
      "ATAC-20        0   0.704223     0.512862   4.37 0.501    0.532    0.446\n",
      "ATAC-23        0   0.704221     0.512858   4.29 0.490    0.520    0.452\n",
      "ATAC-24        0   0.704096     0.512887   4.86 0.569    0.613    0.407\n",
      "ATAC-27        0   0.704347     0.512834   3.82 0.713    0.772    0.489\n",
      "ATAC-29        0   0.704372     0.512820   3.55 0.824    0.900    0.510\n",
      "ATAC-35        0         NA     0.512828   3.71 0.679    0.732    0.498\n",
      "ATAC-40        0   0.704313     0.512828   3.71 0.630    0.674    0.498\n",
      "ATAC-46        0   0.704270     0.512852   4.17 0.635    0.684    0.461\n",
      "ATAC-50        0         NA     0.512882   4.76 0.572    0.617    0.415\n",
      "ATAC-56        0   0.704281     0.512845   4.04 0.543    0.578    0.472\n",
      "NINA-1         0   0.704280     0.512853   4.19 0.646    0.697    0.460\n",
      "NINA-2         0   0.704165     0.512886   4.84 0.546    0.587    0.409\n",
      "NINA-7         0   0.704166     0.512888   4.88 0.516    0.553    0.406\n",
      "NINA-22        0   0.704155     0.512885   4.82 0.496    0.529    0.410\n",
      "NINA-27        0         NA     0.512840   3.94 0.575    0.614    0.480\n",
      "NINA-34        0   0.704204     0.512894   4.99 0.565    0.610    0.396\n",
      "NINA-37        0   0.704190     0.512880   4.72 0.596    0.643    0.418\n",
      "NINA-47        0   0.704272     0.512840   3.94 0.583    0.623    0.480\n",
      "NINA-49        0   0.704291     0.512889   4.90 0.589    0.638    0.404\n",
      "NINA-52        0   0.704250     0.512890   4.92 0.566    0.610    0.403\n",
      "NINA-53        0   0.704318     0.512880   4.72 0.482    0.513    0.418\n",
      "WARNING: Skipping: Not sufficent REE data present!  \n",
      "Processing...Please wait...\n",
      "Identifying the data types present...\n",
      "Major elements\n",
      "......... done!\n",
      "Trace elements \n",
      "......... done!\n",
      "Sr and/or Nd isotopes\n",
      "......... done!\n",
      "Available datasets:\n",
      "[1] \"atacazo\"\n"
     ]
    }
   ],
   "source": [
    "data(atacazo)\n",
    "accessVar(\"atacazo\")"
   ]
  },
  {
   "cell_type": "code",
   "execution_count": 6,
   "id": "ebe52f05",
   "metadata": {},
   "outputs": [
    {
     "data": {
      "image/png": "[encoded data removed]",
      "text/plain": [
       "Plot with title \"NULL\""
      ]
     },
     "metadata": {
      "image/png": {
       "height": 420,
       "width": 420
      }
     },
     "output_type": "display_data"
    }
   ],
   "source": [
    "binary(\"SiO2\",\"MgO\",new=F) # new = F is required in jupyter..."
   ]
  }
 ],
 "metadata": {
  "kernelspec": {
   "display_name": "R",
   "language": "R",
   "name": "ir"
  },
  "language_info": {
   "codemirror_mode": "r",
   "file_extension": ".r",
   "mimetype": "text/x-r-source",
   "name": "R",
   "pygments_lexer": "r",
   "version": "4.1.2"
  }
 },
 "nbformat": 4,
 "nbformat_minor": 5
}
