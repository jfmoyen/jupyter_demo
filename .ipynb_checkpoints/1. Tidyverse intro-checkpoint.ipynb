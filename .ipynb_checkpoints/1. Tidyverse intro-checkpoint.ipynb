{
 "cells": [
  {
   "cell_type": "markdown",
   "metadata": {},
   "source": [
    "# The Tidyverse for GCDkit users\n",
    "\n",
    "### A gentle introduction"
   ]
  },
  {
   "cell_type": "markdown",
   "metadata": {},
   "source": [
    "The tidyverse (https://www.tidyverse.org) is \"*an opinionated collection of R packages designed for data science. All packages share an underlying design philosophy, grammar, and data structures*\". This tutorial aims at giving some basics for R/GCDkit users.\n",
    "\n",
    "The tidyverse packages excel at two things: (i) data management, (ii) plotting. These are two tasks commonly performed with geochemical data, and it is no surprise that the tidy functions perform well in that respect."
   ]
  },
  {
   "cell_type": "markdown",
   "metadata": {},
   "source": [
    "## Installation\n",
    "\n",
    "The tidyverse is a collection of half a dozen or so of packages. Assuming they have been installed beforehand (install.packages), most tidyverse packages can be loaded in one go with "
   ]
  },
  {
   "cell_type": "code",
   "execution_count": null,
   "metadata": {},
   "outputs": [],
   "source": [
    "library(tidyverse)"
   ]
  },
  {
   "cell_type": "markdown",
   "metadata": {},
   "source": [
    "Each component of the tidyverse has an online documentation on its website, and a very convenient \"cheat sheet\" (in pdf format). The main packages are\n",
    "\n",
    "### Tidyverse core.\n",
    "All of these are loaded by `library(tidyverse)`:\n",
    "- **tibble**. Supplies a new type of data structure, a \"tibble\" (more on that below). https://tibble.tidyverse.org\n",
    "- **readr**. High-level functions for reading files. https://readr.tidyverse.org \n",
    "- **tidyr**. Cleans and reshapes data. https://tidyr.tidyverse.org\n",
    "- **magrittr**. Supplies pipe operators, very pleasant \"syntaxic sugar\" to chain operations. https://magrittr.tidyverse.org . Some of the advanced possibilities of magrittR require loading it independently (`library(magrittr)`)\n",
    "- **dplyr**. Data transformation, offers an SQL-like syntax to operate on tibbles. https://dplyr.tidyverse.org\n",
    "- **ggplot2**. High-level plotting functions. https://ggplot2.tidyverse.org\n",
    "- See also **stringr** (string manipulation), **forcats** (factors), and **purr** (map/reduce, i.e. a ?better version of the \"apply\" family), and also **lubridate** to work with dates, etc. https://www.tidyverse.org/packages/\n",
    "There are rare cases where individual packages should be loaded by hand (see github etc.), mostly as a result of bugs or \"unexpected features\". This should probably not be an issue.\n",
    "\n",
    "### More tidyverse\n",
    "Not loaded with `library(tidyverse)`:\n",
    "- **readxl**. Read excel format. Very efficient and much easier to use than the regular ODBC library. https://readxl.tidyverse.org\n",
    "\n",
    "### Friends of tidyverse\n",
    "There are not officially part of the tidyverse, they are maintained by different authors and so on but they play well with it.\n",
    "- **clipr**. Read and write to/from the clipboard, much better than the regular R functions. https://github.com/mdlincoln/clipr\n",
    "- **R6**. Supplies python-like classes to R. https://r6.r-lib.org\n",
    "\n"
   ]
  },
  {
   "cell_type": "markdown",
   "metadata": {},
   "source": [
    "The tidyverse supplies a lot of \"syntaxic sugar\" (for instance column names can idniferently be quoted or not quoted, etc). This makes it very easy to use for inline processing (notebook or script), less so for programming. Also, tidyverse code ends to be more verbose (but arguably more readable) than equivalent R code.\n",
    "\n",
    "## Some key components"
   ]
  },
  {
   "cell_type": "markdown",
   "metadata": {},
   "source": [
    "## Tibbles\n",
    "\n",
    "Tibbles (a pun on \"table\") are R data frames, with improved functionalities. As they say on the web site, tibbles \"*are lazy and surly: they do less (i.e. they don’t change variable names or types, and don’t do partial matching) and complain more (e.g. when a variable does not exist). This forces you to confront problems earlier, typically leading to cleaner, more expressive code.*\"\n",
    "\n",
    "A tibble is created in the usual way :"
   ]
  },
  {
   "cell_type": "code",
   "execution_count": null,
   "metadata": {},
   "outputs": [],
   "source": [
    "ds <- tibble (a=c(1,2,3),\n",
    "              b=c(NA,4,5),\n",
    "              d=c(\"blue\",\"green\",\"red\"))"
   ]
  },
  {
   "cell_type": "markdown",
   "metadata": {},
   "source": [
    "The first obvious difference with a data frame is that a tibble has a nicer `print` method (*well, it is not visible in Jupyter because df's and tibbles are formatted in the same way, but try in Rgui...*) :"
   ]
  },
  {
   "cell_type": "code",
   "execution_count": null,
   "metadata": {},
   "outputs": [],
   "source": [
    "ds"
   ]
  },
  {
   "cell_type": "markdown",
   "metadata": {},
   "source": [
    "However, the more important differences are best evidenced when comparing with the behaviour of normal data.frames."
   ]
  },
  {
   "cell_type": "code",
   "execution_count": null,
   "metadata": {},
   "outputs": [],
   "source": [
    "sazFile <- \"./data/sazava.txt\""
   ]
  },
  {
   "cell_type": "code",
   "execution_count": null,
   "metadata": {},
   "outputs": [],
   "source": [
    "sazava.df<-read.table(sazFile)\n",
    "sazava.df"
   ]
  },
  {
   "cell_type": "markdown",
   "metadata": {},
   "source": [
    "The normal behaviour of reading a file into a df is to convert string to factors (this can be overridden, of course)."
   ]
  },
  {
   "cell_type": "markdown",
   "metadata": {},
   "source": [
    "Tibbles do not like rownames (in fact, they actively discourage using them). So it's not straightforwards to load files with one less item in the first line (as you would do in plain R). However,"
   ]
  },
  {
   "cell_type": "code",
   "execution_count": null,
   "metadata": {},
   "outputs": [],
   "source": [
    "sazxlFile <- \"./data/sazava.xls\"\n",
    "library(readxl)\n",
    "sazava_tbl<- read_xls(sazxlFile)\n",
    "sazava_tbl"
   ]
  },
  {
   "cell_type": "markdown",
   "metadata": {},
   "source": [
    "As you see, the textual columns are of type  `<chr>` and not `<fct>` - tibbles perform no automatic type conversion. "
   ]
  },
  {
   "cell_type": "markdown",
   "metadata": {},
   "source": [
    "As we mentionned, tibbles are \"lazy and surly: they do less and they complain more\".\n",
    "\n",
    "**Tibbles are lazy:** one of the best features of tibbles is that they are type stable - operations on a tibble always return a tibble, unless you explicitly ask otherwise. So, for instance"
   ]
  },
  {
   "cell_type": "code",
   "execution_count": null,
   "metadata": {},
   "outputs": [],
   "source": [
    "sazava.df[,5]\n",
    "# A vector"
   ]
  },
  {
   "cell_type": "code",
   "execution_count": null,
   "metadata": {},
   "outputs": [],
   "source": [
    "sazava_tbl[,6]\n",
    "# A tibble"
   ]
  },
  {
   "cell_type": "code",
   "execution_count": null,
   "metadata": {},
   "outputs": [],
   "source": [
    "sazava.df[1,7]\n",
    "# A scalar"
   ]
  },
  {
   "cell_type": "code",
   "execution_count": null,
   "metadata": {},
   "outputs": [],
   "source": [
    "sazava_tbl[1,8]\n",
    "# Still a tibble !"
   ]
  },
  {
   "cell_type": "code",
   "execution_count": null,
   "metadata": {},
   "outputs": [],
   "source": [
    "sazava.df[1,NULL]\n",
    "# A dataframe"
   ]
  },
  {
   "cell_type": "code",
   "execution_count": null,
   "metadata": {},
   "outputs": [],
   "source": [
    "sazava_tbl[1,NULL]\n",
    "# Still a tibble (but jupyter does not print it, try in Rgui)"
   ]
  },
  {
   "cell_type": "markdown",
   "metadata": {},
   "source": [
    "If you want to convert the contents of a tibble to a vector, you can do it explicitely by using the tibble function `as_vector` (NOT the same as plain R `as.vector` !)"
   ]
  },
  {
   "cell_type": "code",
   "execution_count": null,
   "metadata": {},
   "outputs": [],
   "source": [
    "as_vector(sazava_tbl[,6])"
   ]
  },
  {
   "cell_type": "markdown",
   "metadata": {},
   "source": [
    "Or you can use the [[ or $ operator (as this performs implicit conversion, however, this is discouraged):"
   ]
  },
  {
   "cell_type": "code",
   "execution_count": null,
   "metadata": {},
   "outputs": [],
   "source": [
    "sazava_tbl$SiO2"
   ]
  },
  {
   "cell_type": "code",
   "execution_count": null,
   "metadata": {},
   "outputs": [],
   "source": [
    "sazava_tbl[[\"SiO2\"]]"
   ]
  },
  {
   "cell_type": "markdown",
   "metadata": {},
   "source": [
    "**Tibbles are surly:** they complain more and won't let you, for instance, use partial matching:"
   ]
  },
  {
   "cell_type": "code",
   "execution_count": null,
   "metadata": {},
   "outputs": [],
   "source": [
    "sazava.df$Si\n",
    "# Automatically expanded to SiO2"
   ]
  },
  {
   "cell_type": "code",
   "execution_count": null,
   "metadata": {},
   "outputs": [],
   "source": [
    "sazava_tbl$Si"
   ]
  },
  {
   "cell_type": "markdown",
   "metadata": {},
   "source": [
    "Tibbles can also deal with poorly conformed variable names, as long as you protect them with back ticks, and they won't try to convert them to something \"sensible\":"
   ]
  },
  {
   "cell_type": "code",
   "execution_count": null,
   "metadata": {},
   "outputs": [],
   "source": [
    "tibble(a=c(1,2,3),`a silly and +-*? dangerous \"title\"`=c(4,5,6))"
   ]
  },
  {
   "cell_type": "code",
   "execution_count": null,
   "metadata": {},
   "outputs": [],
   "source": [
    "tbl<-tibble(a=c(1,2,3),`a silly and +-*? dangerous \"title\"`=c(4,5,6))\n",
    "tbl$`a silly and +-*? dangerous \"title\"`"
   ]
  },
  {
   "cell_type": "code",
   "execution_count": null,
   "metadata": {},
   "outputs": [],
   "source": [
    "data.frame(a=c(1,2,3),`a silly and +-*? dangerous \"title\"`=c(4,5,6))"
   ]
  },
  {
   "cell_type": "markdown",
   "metadata": {},
   "source": [
    "(whether you regard the above as a good, or bad feature is another matter...)"
   ]
  },
  {
   "cell_type": "markdown",
   "metadata": {},
   "source": [
    "**Tibbles are still data.frames**, so you can perform normal data frame operations on them (subset, assign, etc.) :"
   ]
  },
  {
   "cell_type": "code",
   "execution_count": null,
   "metadata": {},
   "outputs": [],
   "source": [
    "tbl <- tibble (a=c(1,2,3),\n",
    "              b=c(NA,4,5),\n",
    "              d=c(\"blue\",\"green\",\"red\"))\n",
    "tbl[1,]\n"
   ]
  },
  {
   "cell_type": "code",
   "execution_count": null,
   "metadata": {},
   "outputs": [],
   "source": [
    "tbl[1,1]<-2\n",
    "tbl"
   ]
  },
  {
   "cell_type": "code",
   "execution_count": null,
   "metadata": {},
   "outputs": [],
   "source": [
    "tbl[tbl[,\"a\"]>2,]"
   ]
  },
  {
   "cell_type": "markdown",
   "metadata": {},
   "source": [
    "However, **tibbles come with more evolved methods** to perform basic tasks:"
   ]
  },
  {
   "cell_type": "code",
   "execution_count": null,
   "metadata": {},
   "outputs": [],
   "source": [
    "tbl <- tibble (a=c(1,2,3),\n",
    "              b=c(NA,4,5),\n",
    "              d=c(\"blue\",\"green\",\"red\"))\n",
    "df <- data.frame (a=c(1,2,3),\n",
    "              b=c(NA,4,5),\n",
    "              d=c(\"blue\",\"green\",\"red\"))"
   ]
  },
  {
   "cell_type": "code",
   "execution_count": null,
   "metadata": {},
   "outputs": [],
   "source": [
    "other_tbl <- tibble (b=c(5,5,7),\n",
    "              a=c(0,4,3),\n",
    "              e=c(\"white\",\"green\",\"purple\"))\n",
    "other.df <- data.frame (b=c(5,5,7),\n",
    "              a=c(0,4,3),\n",
    "              e=c(\"white\",\"green\",\"purple\"))"
   ]
  },
  {
   "cell_type": "code",
   "execution_count": null,
   "metadata": {},
   "outputs": [],
   "source": [
    "rbind(df,other.df)\n",
    "# oops"
   ]
  },
  {
   "cell_type": "code",
   "execution_count": null,
   "metadata": {},
   "outputs": [],
   "source": [
    "bind_rows(tbl,other_tbl)\n",
    "# Works as planned"
   ]
  },
  {
   "cell_type": "markdown",
   "metadata": {},
   "source": [
    "There are even more explicit methods for subsetting :"
   ]
  },
  {
   "cell_type": "code",
   "execution_count": null,
   "metadata": {},
   "outputs": [],
   "source": [
    "tbl <- tibble (a=c(1,2,3),\n",
    "              b=c(NA,4,5),\n",
    "              d=c(\"blue\",\"green\",\"red\"))\n",
    "tbl[tbl[,\"a\"]>2,]"
   ]
  },
  {
   "cell_type": "markdown",
   "metadata": {},
   "source": [
    "This can be replaced by"
   ]
  },
  {
   "cell_type": "code",
   "execution_count": null,
   "metadata": {},
   "outputs": [],
   "source": [
    "filter(tbl,a>2)"
   ]
  },
  {
   "cell_type": "markdown",
   "metadata": {},
   "source": [
    "and likewise"
   ]
  },
  {
   "cell_type": "code",
   "execution_count": null,
   "metadata": {},
   "outputs": [],
   "source": [
    "tbl[,\"a\"]\n",
    "select(tbl,\"a\")"
   ]
  },
  {
   "cell_type": "markdown",
   "metadata": {},
   "source": [
    "which means that we can combine them into"
   ]
  },
  {
   "cell_type": "code",
   "execution_count": null,
   "metadata": {
    "scrolled": true
   },
   "outputs": [],
   "source": [
    "filter(select(tbl,\"a\"),a<3)"
   ]
  },
  {
   "cell_type": "markdown",
   "metadata": {},
   "source": [
    "As we will see latter, they work very well with the \"pipe\" operator."
   ]
  },
  {
   "cell_type": "markdown",
   "metadata": {},
   "source": [
    "So, in summary:\n",
    "- Tibbles are modified data.frame.\n",
    "- They are lazy and surly (they do less and they complain more), forcing you to write more explicit code and not rely on implicit conversions.\n",
    "- They come with functions that mirror plain R functions, adapted for tibbles and, in general, doing more evolved operations. Mosty, they do have names with underscores (i.e. `as_vector`, `bind_rows`...)"
   ]
  }
 ],
 "metadata": {
  "kernelspec": {
   "display_name": "R",
   "language": "R",
   "name": "ir"
  },
  "language_info": {
   "codemirror_mode": "r",
   "file_extension": ".r",
   "mimetype": "text/x-r-source",
   "name": "R",
   "pygments_lexer": "r",
   "version": "4.1.2"
  }
 },
 "nbformat": 4,
 "nbformat_minor": 4
}
