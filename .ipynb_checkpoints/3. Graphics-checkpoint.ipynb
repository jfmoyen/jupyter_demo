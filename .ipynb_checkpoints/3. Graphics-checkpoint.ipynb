{
 "cells": [
  {
   "cell_type": "markdown",
   "metadata": {},
   "source": [
    "# Graphics using ggplot2\n",
    "\n",
    "One aspect for which the tidyverse shines is the generation of nice plots. This is done using the `ggplot2` package. \n",
    "\n",
    "A comment for GCDkit users: figaro was a great concept, 20 years ahead of its time. ggplot does most of what figaro was doing - and some more- and of course, has benefited from 20 years of continuous development, including full-time developers. It is therefore not a suprise that it is more mature, stable and documented !\n",
    "\n",
    "The core concept is rather similar : ggplot returns an object, that can be further manipulated. Several commands allow to tweak if (compare with `figXXX()` functions). it is also possible to pile several graphical \"layers\" on the same plot (hint: this is how you define templates :-) ).\n",
    "\n",
    "ggplot, being part of the tidyverse, expect tibbles and works well with pipes. It also defines a `+` operator that is an easy way to add more layers."
   ]
  },
  {
   "cell_type": "code",
   "execution_count": null,
   "metadata": {},
   "outputs": [],
   "source": [
    "library(tidyverse)\n",
    "library(readxl)\n",
    "\n",
    "sazxlFile <- \"./data/sazava.xls\"\n",
    "\n",
    "sazava_tbl<- read_xls(sazxlFile)"
   ]
  },
  {
   "cell_type": "markdown",
   "metadata": {},
   "source": [
    "The basic components of a ggplot are\n",
    "- **data** (of course !). ggplot being part of the tidyverse, data is invariably the first argument to all the functions, so it is automatically piped through.\n",
    "- \"**Aesthetics mapping**\". A somewhat weird name, that refers to what is represented (for instance, x is SiO2, y is MgO, colour is intrusion). \n",
    "- **Geometry**. Points, lines, density contours, etc. Even maps.\n",
    "- **Scales**. Some are obvious (a linear scale for x, a log scale for y...), but the concept is expanded to include, for instance, a colour scale, a size scale, etc.\n",
    "- **Coordinate system**. Partly overlaps with the following... this is the best place to rescale your graph.\n",
    "- **Theme**. Defines things like axes, fonts, backgrounds... \n",
    "\n",
    "Additionally, you can use\n",
    "- **Statistical functions**\n",
    "- **Facets**. Identical to GCDkit's \"multiple plots by group\", split the main plot in one sub-plot for each group."
   ]
  },
  {
   "cell_type": "markdown",
   "metadata": {},
   "source": [
    "## A basic plot\n",
    "\n",
    "A simple binary plot requires `data=sazava_tbl`, aesthetics mapping `aes(x=SiO2,y=MgO)` and a geometry `geom_point()`. Like that:"
   ]
  },
  {
   "cell_type": "code",
   "execution_count": null,
   "metadata": {},
   "outputs": [],
   "source": [
    "ggplot(data=sazava_tbl,aes(x=SiO2,y=MgO))+geom_point()"
   ]
  },
  {
   "cell_type": "markdown",
   "metadata": {},
   "source": [
    "ggplot is pipe friendly, so the following also works:"
   ]
  },
  {
   "cell_type": "code",
   "execution_count": null,
   "metadata": {},
   "outputs": [],
   "source": [
    "sazava_tbl %>% \n",
    "  ggplot(aes(x=SiO2,y=MgO))+\n",
    "  geom_point()"
   ]
  },
  {
   "cell_type": "markdown",
   "metadata": {},
   "source": [
    "There is quite a lot of flexibility. All the geom_ functions accept \"data\" and \"aes\", so you can actually combine various plots:"
   ]
  },
  {
   "cell_type": "code",
   "execution_count": null,
   "metadata": {},
   "outputs": [],
   "source": [
    "sazava_tbl %>% \n",
    "  ggplot()+\n",
    "  geom_point(aes(x=SiO2,y=MgO)) +\n",
    "  geom_point(aes(x=SiO2,y=FeO)) \n",
    "  "
   ]
  },
  {
   "cell_type": "markdown",
   "metadata": {},
   "source": [
    "Or, using several datasets:"
   ]
  },
  {
   "cell_type": "code",
   "execution_count": null,
   "metadata": {},
   "outputs": [],
   "source": [
    "extra_data <- tibble(SiO2=c(70,71,72),MgO=c(2,4,6))\n",
    "sazava_tbl %>% \n",
    "  ggplot()+\n",
    "  geom_point(aes(x=SiO2,y=MgO)) +\n",
    "  geom_point(data=extra_data, aes(x=SiO2,y=MgO))"
   ]
  },
  {
   "cell_type": "markdown",
   "metadata": {},
   "source": [
    "Note that the first `geom_point()` uses an implicit definition for data (its first argument, piped from sazava_tbl). the second `geom_point()` uses an explicit definition (`data=extra_data`).\n",
    "\n",
    "ggplot() returns a plot object (a function, in fact), that is modified by the `+` operator. So you can also affect it somewhere and return to it:"
   ]
  },
  {
   "cell_type": "code",
   "execution_count": null,
   "metadata": {},
   "outputs": [],
   "source": [
    "p<- sazava_tbl %>% \n",
    "  ggplot()+\n",
    "  geom_point(aes(x=SiO2,y=MgO))"
   ]
  },
  {
   "cell_type": "code",
   "execution_count": null,
   "metadata": {},
   "outputs": [],
   "source": [
    "p # p is a function, so we execute it !"
   ]
  },
  {
   "cell_type": "code",
   "execution_count": null,
   "metadata": {},
   "outputs": [],
   "source": [
    "p+geom_point(data=extra_data, aes(x=SiO2,y=MgO))"
   ]
  },
  {
   "cell_type": "markdown",
   "metadata": {},
   "source": [
    "This makes plates of several plots quite easy to use. There are several ways, more or less simple. Perhaps the nicest is `ggarrange` from package `egg`:"
   ]
  },
  {
   "cell_type": "code",
   "execution_count": null,
   "metadata": {},
   "outputs": [],
   "source": [
    "library(egg)\n",
    "p2<-p+geom_point(data=extra_data, aes(x=SiO2,y=MgO))\n",
    "ggarrange(p,p2)"
   ]
  },
  {
   "cell_type": "markdown",
   "metadata": {},
   "source": [
    "## Colors, symbols and other graphical parameters\n",
    "\n",
    "ggplot deals quite nicely with symbology, but in a rather high level way -  i.e. it expects to decide itself on the colours to use, not to find them defined in the data file (as in GCDkit). To emulate the gcdkit behaviour, however, there are workarounds...\n",
    "\n",
    "The basic use is to \"map\" (in aesthetics mapping) the colour to a variable :"
   ]
  },
  {
   "cell_type": "code",
   "execution_count": null,
   "metadata": {},
   "outputs": [],
   "source": [
    "sazava_tbl %>% \n",
    "  ggplot()+\n",
    "  geom_point(aes(x=SiO2,y=MgO,color=K2O))"
   ]
  },
  {
   "cell_type": "code",
   "execution_count": null,
   "metadata": {},
   "outputs": [],
   "source": [
    "sazava_tbl %>% \n",
    "  ggplot()+\n",
    "  geom_point(aes(x=SiO2,y=MgO,color=Intrusion))"
   ]
  },
  {
   "cell_type": "markdown",
   "metadata": {},
   "source": [
    "The choice of colours can be controlled using `scale_color_` functions:"
   ]
  },
  {
   "cell_type": "code",
   "execution_count": null,
   "metadata": {},
   "outputs": [],
   "source": [
    "sazava_tbl %>% \n",
    "  ggplot()+\n",
    "  geom_point(aes(x=SiO2,y=MgO,color=K2O))+\n",
    "  scale_color_gradient(low=\"black\",high=\"white\")"
   ]
  },
  {
   "cell_type": "markdown",
   "metadata": {},
   "source": [
    "Over-riding the ggplot definitions, however, is a bit more tricky:"
   ]
  },
  {
   "cell_type": "code",
   "execution_count": null,
   "metadata": {},
   "outputs": [],
   "source": [
    "sazava_tbl %>% \n",
    "  ggplot()+\n",
    "  geom_point(aes(x=SiO2,y=MgO,color=Colour))"
   ]
  },
  {
   "cell_type": "markdown",
   "metadata": {},
   "source": [
    "This is absolutely not the intended result, because ggplot looks into the content of the Colour variable (here, it's numeric) and tries to guess a colour scale that represents this range of numbers (from 1 to 4). Likewise :"
   ]
  },
  {
   "cell_type": "code",
   "execution_count": null,
   "metadata": {},
   "outputs": [],
   "source": [
    "sazava_tbl %>% \n",
    "  ggplot()+\n",
    "  geom_point(aes(x=SiO2,y=MgO,shape=Symbol))\n",
    "# Will yield an error !"
   ]
  },
  {
   "cell_type": "markdown",
   "metadata": {},
   "source": [
    "This does not even work, because shape expects a discrete variable and, in this case, the column Symbol contains numbers...\n",
    "\n",
    "The key is again to override the default color and shape scale, like that:"
   ]
  },
  {
   "cell_type": "code",
   "execution_count": null,
   "metadata": {},
   "outputs": [],
   "source": [
    "sazava_tbl %>% \n",
    "  ggplot()+\n",
    "  geom_point(aes(x=SiO2,y=MgO,color=Colour,shape=Symbol))+\n",
    "  scale_color_identity()+ \n",
    "  scale_shape_identity()"
   ]
  },
  {
   "cell_type": "markdown",
   "metadata": {},
   "source": [
    "... which starts to look familiar !\n",
    "\n",
    "The trick, here, was to use scale_identity, that instructs ggplot to use the values as it finds them in the column."
   ]
  },
  {
   "cell_type": "markdown",
   "metadata": {},
   "source": [
    "## Facets\n",
    "a.k.a. \"multiple plots by group\" are built-in in ggplot :"
   ]
  },
  {
   "cell_type": "code",
   "execution_count": null,
   "metadata": {},
   "outputs": [],
   "source": [
    "sazava_tbl %>% \n",
    "  ggplot()+\n",
    "  geom_point(aes(x=SiO2,y=MgO,color=Colour,shape=Symbol))+\n",
    "  scale_color_identity()+ \n",
    "  scale_shape_identity() +\n",
    "  facet_wrap(\"Intrusion\")"
   ]
  },
  {
   "cell_type": "markdown",
   "metadata": {},
   "source": [
    "(no, I don't know why here you need to quote \"Intrusion\" here but not column names in aes mappings.... you can also write   `facet_wrap(~Intrusion)` )"
   ]
  },
  {
   "cell_type": "code",
   "execution_count": null,
   "metadata": {},
   "outputs": [],
   "source": [
    "sazava_tbl %>% \n",
    "  ggplot()+\n",
    "  geom_point(aes(x=SiO2,y=MgO,color=Colour,shape=Symbol))+\n",
    "  scale_color_identity()+ \n",
    "  scale_shape_identity() +\n",
    "  facet_wrap(c(\"Intrusion\",\"Petrology\"))"
   ]
  },
  {
   "cell_type": "code",
   "execution_count": null,
   "metadata": {},
   "outputs": [],
   "source": [
    "sazava_tbl %>% \n",
    "  ggplot()+\n",
    "  geom_point(aes(x=SiO2,y=MgO,color=Colour,shape=Symbol))+\n",
    "  scale_color_identity()+ \n",
    "  scale_shape_identity() +\n",
    "  facet_grid(rows=vars(Intrusion),cols=vars(Petrology))"
   ]
  },
  {
   "cell_type": "markdown",
   "metadata": {},
   "source": [
    "(Why the weird syntax with `vars()` in `facet_grid()` ? I don't know, either....)"
   ]
  },
  {
   "cell_type": "markdown",
   "metadata": {},
   "source": [
    "To do multiple plots by a continuous variable, you still need to make the groups yourself, but pipes and mutate make is quite easy :"
   ]
  },
  {
   "cell_type": "code",
   "execution_count": null,
   "metadata": {},
   "outputs": [],
   "source": [
    "sazava_tbl %>% \n",
    "mutate(K_level = cut(K2O,3)) %>%\n",
    "  ggplot()+\n",
    "  geom_point(aes(x=SiO2,y=MgO,color=Colour,shape=Symbol))+\n",
    "  scale_color_identity()+ \n",
    "  scale_shape_identity() +\n",
    "  facet_wrap(\"K_level\")\n"
   ]
  },
  {
   "cell_type": "markdown",
   "metadata": {},
   "source": [
    "## Themes\n",
    "\n",
    "Themes offer a comfortable way to set various visual parameters for a graph. `theme_bw()` or `theme_article()` (from package egg) is a good stating point :"
   ]
  },
  {
   "cell_type": "code",
   "execution_count": null,
   "metadata": {
    "scrolled": true
   },
   "outputs": [],
   "source": [
    "sazava_tbl %>% \n",
    "  ggplot()+\n",
    "  geom_point(aes(x=SiO2,y=MgO,color=Colour,shape=Symbol))+\n",
    "  scale_color_identity()+ \n",
    "  scale_shape_identity() +\n",
    "  theme_article()"
   ]
  },
  {
   "cell_type": "markdown",
   "metadata": {},
   "source": [
    "You can then customize about every element of a theme:"
   ]
  },
  {
   "cell_type": "code",
   "execution_count": null,
   "metadata": {},
   "outputs": [],
   "source": [
    "sazava_tbl %>% \n",
    "  ggplot()+\n",
    "  geom_point(aes(x=SiO2,y=MgO,color=Colour,shape=Symbol))+\n",
    "  scale_color_identity()+ \n",
    "  scale_shape_identity() +\n",
    "  theme_article()+ \n",
    "  theme(axis.title.x = element_text(size=14, face=\"italic\", colour = \"red\"))"
   ]
  },
  {
   "cell_type": "markdown",
   "metadata": {},
   "source": [
    "And so, you can easily build a custom theme with your favourite settings, for instance"
   ]
  },
  {
   "cell_type": "code",
   "execution_count": null,
   "metadata": {},
   "outputs": [],
   "source": [
    "theme_ugly <- function () { \n",
    "  theme_bw(base_size=12, base_family=\"Avenir\") %+replace% \n",
    "    theme(\n",
    "      panel.background  = element_blank(),\n",
    "      plot.background = element_rect(fill=\"turquoise\"), \n",
    "      legend.background = element_rect(fill=\"transparent\", colour=NA),\n",
    "      legend.key = element_rect(fill=\"transparent\", colour=NA),\n",
    "      panel.grid = element_blank(),\n",
    "      axis.title.x = element_text(size=14, face=\"bold\", colour = \"green\"),\n",
    "      axis.title.y = element_text(size=14, face=\"bold\", colour = \"red\",angle=-90),\n",
    "      axis.text.x = element_text(size=12, colour = \"black\"),\n",
    "      axis.text.y = element_text(size=12, colour = \"black\",angle=90),\n",
    "      axis.ticks.length = unit(1.5, \"cm\")\n",
    "    )\n",
    "}\n"
   ]
  },
  {
   "cell_type": "code",
   "execution_count": null,
   "metadata": {},
   "outputs": [],
   "source": [
    "sazava_tbl %>% \n",
    "  ggplot()+\n",
    "  geom_point(aes(x=SiO2,y=MgO,color=Colour,shape=Symbol))+\n",
    "  scale_color_identity()+ \n",
    "  scale_shape_identity() +\n",
    "  theme_ugly()"
   ]
  },
  {
   "cell_type": "markdown",
   "metadata": {},
   "source": [
    "## Advanced graphs\n",
    "\n",
    "Of course, in petrology we need specialist graphs, and these require a bit more work. \n",
    "\n",
    "### Ternary plots\n",
    "\n",
    "Ternary plots are, of course, binary plots with special lines and coordinates (this is how they are built in GCDkit, of course). It is not very difficult to emulate this behaviour with GCDkit, although of course you loose most interactive functionalities.\n",
    "\n",
    "A promising package is ggtern: http://www.ggtern.com\n",
    "\n",
    "It works rather well (but has some bad interactions with some themes):\n"
   ]
  },
  {
   "cell_type": "code",
   "execution_count": null,
   "metadata": {},
   "outputs": [],
   "source": [
    "library(ggtern)\n",
    "sazava_tbl %>% ggtern(aes(SiO2,Al2O3,MgO))+geom_point()"
   ]
  },
  {
   "cell_type": "markdown",
   "metadata": {},
   "source": [
    "... alas, ggtern redefines ggplot's basic theme, so now the following does not work fully (the axis labels are killed)..."
   ]
  },
  {
   "cell_type": "code",
   "execution_count": null,
   "metadata": {},
   "outputs": [],
   "source": [
    "sazava_tbl %>% \n",
    "  ggplot()+\n",
    "  geom_point(aes(x=SiO2,y=MgO,color=Colour,shape=Symbol))+\n",
    "  scale_color_identity()+ \n",
    "  scale_shape_identity() +\n",
    "  theme_article()"
   ]
  },
  {
   "cell_type": "markdown",
   "metadata": {},
   "source": [
    "... so now that you have ruined your themes, restart from the top and reload a fresh copy of ggplot ! :-/"
   ]
  },
  {
   "cell_type": "markdown",
   "metadata": {},
   "source": [
    "### Plots with templates\n",
    "One of the nicest feature of GCDkit, of course, is the predefined plots. They are defined by functions (such as `AFM()` ), that (i) calculate the plot coordinates and put them in global x.data and y.data; (ii) define a template made of lines and text and put it in `sheet$demo$template`\n",
    "\n",
    "Capturing the template is, therefore, not very difficult. All one needs to do is to run the plotting function and read its output. The various annotation layers can be converted to ggplot as follows:\n",
    "\n",
    "- A line is a `geom_path`\n",
    "- A text is an annotation (be careful, since GCDkit also has an `annotate` function you need to call exlicitely `ggplot2::annotate` )\n",
    "- An abline is a `geom_vline` or `geom_hline`\n",
    "\n",
    "Thus, the following function should work (GCDkit does not play well in jupyter, so try it in Rgui)"
   ]
  },
  {
   "cell_type": "code",
   "execution_count": null,
   "metadata": {},
   "outputs": [],
   "source": [
    "\n",
    "ggplotDiagram<-function(diagram){\n",
    "  \n",
    "  diagram()\n",
    "  \n",
    "  plot_type <- sheet$demo$template$GCDkit$plot.type\n",
    "  \n",
    "  xlims <- sheet$demo$call$xlim\n",
    "  ylims <- sheet$demo$call$ylim\n",
    "  \n",
    "  xlab <- sheet$demo$call$xlab\n",
    "  ylab <- sheet$demo$call$ylab\n",
    "  \n",
    "  plottingDS <- tibble(x=x.data,y=y.data,col=labels$Colour,sym=labels$Symbol,Size=labels$Size)\n",
    "  \n",
    "  template <- sheet$demo$template\n",
    "  \n",
    "  pointsize = par(\"ps\") # the default R pointsize: this is the number of pts corresponding to a size 1 text/symbol (cex=1)\n",
    "  \n",
    "  # in ggplot the sizes are given in mm, with the conversion factor in .pt\n",
    "  # So the adjustment factor for text is\n",
    "  text_size_magic_nbr <- pointsize/.pt\n",
    "  \n",
    "  # ggplot has default symbol size of 5 mm (see GeomPoint$default_aes ? ) compared to <pointsize> pts in basic R\n",
    "  # So to emulate the graphs we must account for that\n",
    "  point_size_magic_nbr <- pointsize/5\n",
    "  \n",
    "  # The defaut size of the text is theme_get()$text$size\n",
    "  \n",
    "  make_templ_element<-function(tpl_el){\n",
    "    #browser()\n",
    "    \n",
    "    names(tpl_el)[1]<-\"type\"\n",
    "    # cat(\"plotting \",tpl_el$type,\"\\n\")\n",
    "    gg_el <- NULL\n",
    "    # Lines\n",
    "    if(tpl_el$type==\"lines\"&&!is.null(tpl_el$col)){ # A line without colour does not exist...\n",
    "      the_line <- tibble(x=tpl_el$x,y=tpl_el$y)\n",
    "      gg_el <- geom_path(data=the_line,aes(x,y,colour=tpl_el$col,linetype=tpl_el$lty))\n",
    "    }\n",
    "    \n",
    "    # Ablines\n",
    "    if(tpl_el$type==\"abline\"){ \n",
    "      # print(tpl_el)\n",
    "      if(!is.null(tpl_el$v)){\n",
    "        gg_el <- geom_vline(aes(xintercept = tpl_el$v,colour=tpl_el$col,linetype=tpl_el$lty))\n",
    "      }\n",
    "      if(!is.null(tpl_el$h)){\n",
    "        gg_el <- geom_hline(aes(yintercept = tpl_el$h,colour=tpl_el$col,linetype=tpl_el$lty))\n",
    "      }\n",
    "      \n",
    "    }\n",
    "    \n",
    "    # Text\n",
    "    if(tpl_el$type==\"text\"){ \n",
    "      \n",
    "      # There is no reliable default for these, so if they are not supplied we must define them...\n",
    "      if(is.null(tpl_el$srt)){angle<-0}else{angle<-tpl_el$srt} \n",
    "      if(is.null(tpl_el$cex)){cex<-1}else{cex<-tpl_el$srt} \n",
    "      if(is.null(tpl_el$col)){col<-\"black\"}else{col<-tpl_el$col} \n",
    "      \n",
    "      # adj is a bit more complex, as ggplot does not take a vector but wants 2 scalars\n",
    "      vadj <- NA\n",
    "      if(is.null(tpl_el$adj)){\n",
    "        hadj <- 0.5\n",
    "      }else{\n",
    "        hadj<-tpl_el$adj[1]\n",
    "        if(length(tpl_el$adj==2)){\n",
    "          vadj <- tpl_el$adj[2]\n",
    "        }\n",
    "      } \n",
    "      \n",
    "      # Build the text label (annotation layer)\n",
    "      gg_el <- ggplot2::annotate(\"text\",label=tpl_el$text,x=tpl_el$x,y=tpl_el$y,\n",
    "                                 colour=col,\n",
    "                                 size=cex*text_size_magic_nbr,\n",
    "                                 angle=angle,\n",
    "                                 hjust = hadj)\n",
    "    }\n",
    "    \n",
    "    return(gg_el)\n",
    "    \n",
    "  }\n",
    "  \n",
    "  plt<- ggplot(plottingDS) + \n",
    "    geom_point(aes(x, y,colour=col,shape=sym,size=Size*point_size_magic_nbr))+\n",
    "    map(template,make_templ_element)+\n",
    "    scale_shape_identity()+\n",
    "    scale_color_identity()+\n",
    "    scale_linetype_identity()+\n",
    "    scale_size_identity()+\n",
    "    scale_x_continuous(expand=c(0,0))+\n",
    "    scale_y_continuous(expand=c(0,0))+\n",
    "    coord_cartesian(xlim=xlims,ylim=ylims)+\n",
    "    labs(x=xlab,y=ylab)+\n",
    "    theme_article()\n",
    "  \n",
    "  # Suppress the \"real\" axes for a ternary\n",
    "  if(plot_type == \"ternary\"){\n",
    "    plt<-plt+theme(axis.line = element_blank(),\n",
    "                   panel.border = element_blank(),\n",
    "                   axis.ticks = element_blank(),\n",
    "                   axis.title = element_blank(),\n",
    "                   axis.text.x = element_blank(),\n",
    "                   axis.text.y = element_blank())\n",
    "  }\n",
    "  \n",
    "  print(plt)\n",
    "  invisible(plt)\n",
    "}"
   ]
  },
  {
   "cell_type": "markdown",
   "metadata": {},
   "source": [
    "Try at your own risk..."
   ]
  },
  {
   "cell_type": "markdown",
   "metadata": {},
   "source": [
    "### Spider plots\n",
    "\n",
    "Try the following tidbit:"
   ]
  },
  {
   "cell_type": "code",
   "execution_count": null,
   "metadata": {},
   "outputs": [],
   "source": [
    "GCDkit::selectNorm(\"Anders & Grevesse 1989\") %>%\n",
    "  as_tibble() %>%\n",
    "  mutate(Rock=\"Chondrite\") %>%\n",
    "  {.} -> chdr\n",
    "\n",
    "REE <- setdiff(names(chdr),\"Rock\")\n",
    "\n",
    "sazava_tbl %>% \n",
    "  rename(Rock=`...1`) %>%\n",
    "  bind_rows(chdr) %>%\n",
    "  mutate(across(all_of(REE), ~./.[Rock == \"Chondrite\"] ) ) %>%\n",
    "  filter(Rock != \"Chondrite\") %>%\n",
    "  gather(REE,key=\"Element\",value=Concentration) %>%\n",
    "  ggplot(aes(x=Element,y=Concentration,group=Rock,color=Colour,shape=Symbol))+\n",
    "  geom_point(size=3)+\n",
    "  xlim(REE)+\n",
    "  labs(y=\"Rock / chondrite\")+\n",
    "  scale_y_log10()+\n",
    "  scale_color_identity()+\n",
    "  scale_shape_identity()+\n",
    "  geom_path(size=1)\n",
    "\n"
   ]
  }
 ],
 "metadata": {
  "kernelspec": {
   "display_name": "R",
   "language": "R",
   "name": "ir"
  },
  "language_info": {
   "codemirror_mode": "r",
   "file_extension": ".r",
   "mimetype": "text/x-r-source",
   "name": "R",
   "pygments_lexer": "r",
   "version": "4.1.2"
  }
 },
 "nbformat": 4,
 "nbformat_minor": 4
}
