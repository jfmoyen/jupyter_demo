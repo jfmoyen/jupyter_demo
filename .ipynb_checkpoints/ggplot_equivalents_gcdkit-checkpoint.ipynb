{
 "cells": [
  {
   "cell_type": "code",
   "execution_count": 1,
   "id": "2678e1a6",
   "metadata": {
    "scrolled": true
   },
   "outputs": [
    {
     "name": "stderr",
     "output_type": "stream",
     "text": [
      "-- \u001b[1mAttaching packages\u001b[22m ------------------------------------------------------------------------------- tidyverse 1.3.1 --\n",
      "\n",
      "\u001b[32mv\u001b[39m \u001b[34mggplot2\u001b[39m 3.3.5     \u001b[32mv\u001b[39m \u001b[34mpurrr  \u001b[39m 0.3.4\n",
      "\u001b[32mv\u001b[39m \u001b[34mtibble \u001b[39m 3.1.6     \u001b[32mv\u001b[39m \u001b[34mdplyr  \u001b[39m 1.0.7\n",
      "\u001b[32mv\u001b[39m \u001b[34mtidyr  \u001b[39m 1.1.4     \u001b[32mv\u001b[39m \u001b[34mstringr\u001b[39m 1.4.0\n",
      "\u001b[32mv\u001b[39m \u001b[34mreadr  \u001b[39m 2.1.1     \u001b[32mv\u001b[39m \u001b[34mforcats\u001b[39m 0.5.1\n",
      "\n",
      "-- \u001b[1mConflicts\u001b[22m ---------------------------------------------------------------------------------- tidyverse_conflicts() --\n",
      "\u001b[31mx\u001b[39m \u001b[34mdplyr\u001b[39m::\u001b[32mfilter()\u001b[39m masks \u001b[34mstats\u001b[39m::filter()\n",
      "\u001b[31mx\u001b[39m \u001b[34mdplyr\u001b[39m::\u001b[32mlag()\u001b[39m    masks \u001b[34mstats\u001b[39m::lag()\n",
      "\n",
      "\n",
      "Attaching package: 'magrittr'\n",
      "\n",
      "\n",
      "The following object is masked from 'package:purrr':\n",
      "\n",
      "    set_names\n",
      "\n",
      "\n",
      "The following object is masked from 'package:tidyr':\n",
      "\n",
      "    extract\n",
      "\n",
      "\n"
     ]
    }
   ],
   "source": [
    "library(tidyverse)\n",
    "library(magrittr) # required for bi-directional pipes only, not strictly needed."
   ]
  },
  {
   "cell_type": "code",
   "execution_count": 2,
   "id": "141cd941",
   "metadata": {
    "scrolled": true
   },
   "outputs": [
    {
     "name": "stderr",
     "output_type": "stream",
     "text": [
      "Loading required package: tcltk\n",
      "\n",
      "Patching.... please wait\n",
      "\n"
     ]
    },
    {
     "name": "stdout",
     "output_type": "stream",
     "text": [
      "\n",
      "Initializing the EarthChem interface....\n",
      "R proxy:  \n",
      "System proxy:  \n"
     ]
    },
    {
     "name": "stderr",
     "output_type": "stream",
     "text": [
      "Loading required package: XML\n",
      "\n",
      "Windows version: Windows 10 x64 (build 19042)\n",
      "\n",
      "R version: x86_64-w64-mingw324.1.2\n",
      "\n",
      "\n",
      "Geochemical Data Toolkit (GCDkitDevelop) 6.1,\n",
      "built R 4.1.2; ; 2022-02-11 16:38:59 UTC; windows\n",
      "\n",
      "\n",
      "Please support our efforts and cite the package 'GCDkitDevelop' in publications\n",
      "using the reference below. Type 'citation(\"GCDkitDevelop\")' for BibTex version.\n",
      "\n",
      "================================================================================\n",
      "\n",
      "Vojtech Janousek, Colin M. Farrow and Vojtech Erban (2006).\n",
      "\n",
      "Interpretation of whole-rock geochemical data in igneous geochemistry:\n",
      "\n",
      "introducing Geochemical Data Toolkit (GCDkit).\n",
      "\n",
      "Journal of Petrology 47(6): 1255-1259.\n",
      "\n",
      "doi: 10.1093/petrology/egl013\n",
      "\n",
      "================================================================================\n",
      "\n",
      "=======================================================================\n",
      "\n",
      "A platform different from RGUI!\n",
      "Still experimental...\n",
      "\n",
      "=======================================================================\n",
      "\n",
      "\n",
      "\n",
      "Tcl/Tk functions initialized.\n",
      "\n",
      "Ready 2 Go - Enjoy!\n",
      "\n",
      "\n",
      "Attaching package: 'GCDkitDevelop'\n",
      "\n",
      "\n",
      "The following object is masked from 'package:ggplot2':\n",
      "\n",
      "    annotate\n",
      "\n",
      "\n",
      "The following object is masked from 'package:graphics':\n",
      "\n",
      "    plot.default\n",
      "\n",
      "\n"
     ]
    }
   ],
   "source": [
    "library(GCDkitDevelop)"
   ]
  },
  {
   "cell_type": "markdown",
   "id": "7c087ff9",
   "metadata": {},
   "source": [
    "NB that there is a conflict, GCDkit and ggplot both use annotate. It is probably wise to explicitely use GCDkit::annotate() or ggplot2::annotate(), as the case may be.\n",
    "\n",
    "In both case the problem is that annotate() is used deep down in the code, rather than in direct user input. I *think* that ggplot is always using explicit calls (ggplot2::annotate() ) and I sure hope GCDkit does, too. In any case, I'm loading GCDkit last, so GCDkit's version will overwrite ggplot's and an unqualified annotate() will point to GCDkit."
   ]
  },
  {
   "cell_type": "code",
   "execution_count": 3,
   "id": "97bc08a3",
   "metadata": {},
   "outputs": [
    {
     "name": "stdout",
     "output_type": "stream",
     "text": [
      "R data \n",
      "......\n",
      "... \n"
     ]
    },
    {
     "ename": "ERROR",
     "evalue": "Error in if (length(ee) > 1 | names(ee)[1] == \"Empty\") {: argument is of length zero\n",
     "output_type": "error",
     "traceback": [
      "Error in if (length(ee) > 1 | names(ee)[1] == \"Empty\") {: argument is of length zero\nTraceback:\n",
      "1. accessVar(\"sazava\")",
      "2. .loadData.process(what, merging = FALSE, GUI = GUI)",
      "3. .clearPluginsMenu()"
     ]
    }
   ],
   "source": [
    "data(sazava)\n",
    "accessVar(\"sazava\")"
   ]
  },
  {
   "cell_type": "markdown",
   "id": "769d049f",
   "metadata": {},
   "source": [
    "This is not working in jupyter ! Or, rather, it works (check ``WR``) but returns an error."
   ]
  },
  {
   "cell_type": "markdown",
   "id": "6a6e8147",
   "metadata": {},
   "source": [
    "## ggplot2 equivalents for binary()\n",
    "\n",
    "ggplot works on tibbles, a specialized kind of data.frame. The first step is to convert the data into a tibble. \n",
    "\n",
    "On the other hand df's and tbl's have no problems with mixed data types, so there is no need to split into labels and WR.\n",
    "\n",
    "On the third hand, tbl's do not have rownames() (which will come back to bite us latter...)"
   ]
  },
  {
   "cell_type": "code",
   "execution_count": null,
   "id": "c84635bb",
   "metadata": {},
   "outputs": [],
   "source": [
    "sazava %<>% as_tibble()"
   ]
  },
  {
   "cell_type": "markdown",
   "id": "65bd4e24",
   "metadata": {},
   "source": [
    "In ggplot2, you use themes to configure the graph appearance. GCDkit's visual appearance can be emulated with"
   ]
  },
  {
   "cell_type": "code",
   "execution_count": null,
   "id": "5a17fd0b",
   "metadata": {},
   "outputs": [],
   "source": [
    "theme_gcdkit <- function () { \n",
    "  theme_bw(base_size=12, base_family=\"Avenir\") %+replace% \n",
    "    theme(\n",
    "      panel.background  = element_blank(),\n",
    "      plot.background = element_blank(), \n",
    "      legend.background = element_rect(fill=\"transparent\", colour=NA),\n",
    "      legend.key = element_rect(fill=\"transparent\", colour=NA),\n",
    "      panel.grid = element_blank(),\n",
    "      axis.title.x = element_text(size=14, colour = \"black\"),\n",
    "      axis.title.y = element_text(size=14, colour = \"black\",angle=90),\n",
    "      axis.text.x = element_text(size=12, colour = \"black\"),\n",
    "      axis.text.y = element_text(size=12, colour = \"black\",angle=90),\n",
    "      axis.ticks.length = unit(.25, \"cm\")\n",
    "    )\n",
    "}"
   ]
  },
  {
   "cell_type": "code",
   "execution_count": null,
   "id": "11f4df04",
   "metadata": {},
   "outputs": [],
   "source": [
    "binary(\"SiO2\",\"MgO\",new=F) ##GCDkit"
   ]
  },
  {
   "cell_type": "code",
   "execution_count": null,
   "id": "0a6643c5",
   "metadata": {},
   "outputs": [],
   "source": [
    "p<- sazava %>% \n",
    "    ggplot()+\n",
    "    geom_point(aes(x=SiO2,y=MgO,colour=Colour,shape=Symbol,size=2))+\n",
    "    scale_shape_identity()+\n",
    "    scale_color_identity()+\n",
    "    scale_size_identity()+\n",
    "    labs(x=GCDkitDevelop::annotate(\"SiO2\"),y=\"MgO\")+\n",
    "    theme_gcdkit()\n",
    "\n",
    "p"
   ]
  },
  {
   "cell_type": "markdown",
   "id": "37b74703",
   "metadata": {},
   "source": [
    "Wrapping this in a function is doable, although it requires a little bit of juggling with data types (because of ggplot's slightly too clever \"tidy evaluation\" : https://cran.r-project.org/web/packages/ggplot2/vignettes/ggplot2-in-packages.html and https://dplyr.tidyverse.org/articles/programming.html). \n",
    "\n",
    "Also, the default scale on the axes is not exactly the same because plotWithLimits uses .round.max.up() and friends to manually define the limits."
   ]
  },
  {
   "cell_type": "markdown",
   "id": "79c7402c",
   "metadata": {},
   "source": [
    "The size of symbols also requires a bit of tweaking, I have not exactly found out the correspondance between a ggplot size and a plain R size (it is partly device-dependent, it is not the same in jupyter and in RGui for instance.. ). Here, 2 mm look about right. The following seems to work reasonably fine to get the conversion factor :"
   ]
  },
  {
   "cell_type": "code",
   "execution_count": null,
   "id": "782a061e",
   "metadata": {},
   "outputs": [],
   "source": [
    "pointsize = par(\"ps\")\n",
    "point_size_magic_nbr <- pointsize/5"
   ]
  },
  {
   "cell_type": "markdown",
   "id": "2917a7b4",
   "metadata": {},
   "source": [
    "In case you ask: of course you can use complex expressions... with a bit of help from GCDkit's labeller in this case..."
   ]
  },
  {
   "cell_type": "code",
   "execution_count": null,
   "id": "fc6c2c9e",
   "metadata": {},
   "outputs": [],
   "source": [
    "p0<- sazava %>% \n",
    "    ggplot()+\n",
    "    geom_point(aes(x=SiO2/Al2O3,y=(MgO+FeO)^2,colour=Colour,shape=Symbol,size=2))+\n",
    "    scale_shape_identity()+\n",
    "    scale_color_identity()+\n",
    "    scale_size_identity()+\n",
    "    labs(x=GCDkitDevelop::annotate(\"SiO2/Al2O3\"),y=\"(MgO+FeO)^2\")+\n",
    "    theme_gcdkit()\n",
    "\n",
    "p0"
   ]
  },
  {
   "cell_type": "markdown",
   "id": "bd0bfe68",
   "metadata": {},
   "source": [
    "## Options to binary()"
   ]
  },
  {
   "cell_type": "code",
   "execution_count": null,
   "id": "2f93fef5",
   "metadata": {
    "scrolled": true
   },
   "outputs": [],
   "source": [
    "binary(\"SiO2\",\"MgO\",new=F,log=\"y\")"
   ]
  },
  {
   "cell_type": "markdown",
   "id": "f2a50f49",
   "metadata": {},
   "source": [
    "The beauty of ggplot is that the figure is stored in a ggplot object that you can modify, so:"
   ]
  },
  {
   "cell_type": "code",
   "execution_count": null,
   "id": "0c0d14ba",
   "metadata": {},
   "outputs": [],
   "source": [
    "p+scale_y_log10()"
   ]
  },
  {
   "cell_type": "markdown",
   "id": "55147f34",
   "metadata": {},
   "source": [
    "## Tweaking the graph\n",
    "\n",
    "Most of what figaro does (and, in fact, some more) can be easily done with ggplot objects. \n",
    "\n",
    "Customizing the visual appearance, for instance, is no more complicated than using another theme (see package ``ggtheme`` for more themes):"
   ]
  },
  {
   "cell_type": "code",
   "execution_count": null,
   "id": "ca61c1f3",
   "metadata": {},
   "outputs": [],
   "source": [
    "p+theme_dark()"
   ]
  },
  {
   "cell_type": "code",
   "execution_count": null,
   "id": "37ae4d8b",
   "metadata": {},
   "outputs": [],
   "source": [
    "p+theme_bw()"
   ]
  },
  {
   "cell_type": "code",
   "execution_count": null,
   "id": "9a6297ac",
   "metadata": {},
   "outputs": [],
   "source": [
    "p+theme_classic()"
   ]
  },
  {
   "cell_type": "code",
   "execution_count": null,
   "id": "773f8a8e",
   "metadata": {},
   "outputs": [],
   "source": [
    "p+theme_minimal()"
   ]
  },
  {
   "cell_type": "markdown",
   "id": "dfead5eb",
   "metadata": {},
   "source": [
    "## Figaro-like changes\n",
    "### figMain() , figSub(), figXlab(), figYlab()\n"
   ]
  },
  {
   "cell_type": "code",
   "execution_count": null,
   "id": "b1ccd1e8",
   "metadata": {},
   "outputs": [],
   "source": [
    "p+labs(title=\"Hello, world\")"
   ]
  },
  {
   "cell_type": "markdown",
   "id": "b6a3b054",
   "metadata": {},
   "source": [
    "Use theme to further customize the title, for full GCDkit-like emulation:"
   ]
  },
  {
   "cell_type": "code",
   "execution_count": null,
   "id": "43036461",
   "metadata": {},
   "outputs": [],
   "source": [
    "p+labs(title=\"Hello, world\")+\n",
    "theme(plot.title=element_text(size=18, face=\"bold\", colour = \"black\",hjust=0.5))"
   ]
  },
  {
   "cell_type": "markdown",
   "id": "162a4c34",
   "metadata": {},
   "source": [
    "Likewise use labs(subtitle=\"foo\") or labs(caption=\"bar\") for more text; labs(x=\"X label\",y=\"Y label\") for axis labels\n",
    "\n",
    "### Colours of text: figCol(), figColMain(), figColSub(), figBw()\n",
    "\n",
    "Text are customized with themes:"
   ]
  },
  {
   "cell_type": "code",
   "execution_count": null,
   "id": "a084c559",
   "metadata": {},
   "outputs": [],
   "source": [
    "p+labs(title=\"Hello, world\")+\n",
    "theme(plot.title=element_text(size=18, face=\"bold\", colour = \"red\",hjust=0.5))"
   ]
  },
  {
   "cell_type": "markdown",
   "id": "1e94b568",
   "metadata": {},
   "source": [
    "Note that in this way, you can customize all texts (axis labels with axis.title, numbers with axis.text, and so on):\n"
   ]
  },
  {
   "cell_type": "code",
   "execution_count": null,
   "id": "06e87cdf",
   "metadata": {},
   "outputs": [],
   "source": [
    "p+labs(title=\"Hello, world\")+\n",
    "theme(axis.text.x=element_text(colour = \"green\"),\n",
    "      axis.text.y=element_text(angle=35),\n",
    "      axis.title.x=element_text(size=18, face=\"bold\", colour = \"red\"),\n",
    "      axis.title.y=element_text(size=18,family=\"serif\",face=\"italic\", colour = \"blue\") )"
   ]
  },
  {
   "cell_type": "markdown",
   "id": "acba372a",
   "metadata": {},
   "source": [
    "Read https://ggplot2.tidyverse.org/reference/theme.html for a list of all the possibilities..."
   ]
  },
  {
   "cell_type": "markdown",
   "id": "47e1d2d0",
   "metadata": {},
   "source": [
    "### Colour of symbols\n",
    "\n",
    "An important think to understand is that the use of colours (and symbols) are subtly different in GCDkit and ggplot. In GCDkit, colours are hard-coded variables that are part of the dataset. In ggplot, colours represent a variable, but the colour scale is managed separately. Hence the two calls: colour=Colour in the first call (to aes(), the *aesthetics mapping* of the graph) means that the colours represent the content of the variable Colour (a number, in this case). scale_color_identity() defines the scale (the color code) to use, in this case the value of the variable.\n",
    "\n",
    "You may change the colour scale (remember, it is a numeric in this dataset, so we use a *continous* scale even if you and I know there are only three values in this file):"
   ]
  },
  {
   "cell_type": "code",
   "execution_count": null,
   "id": "1c30eac2",
   "metadata": {
    "scrolled": true
   },
   "outputs": [],
   "source": [
    "p+scale_color_gradient(low=\"pink\",high=\"green\")"
   ]
  },
  {
   "cell_type": "markdown",
   "id": "641236e0",
   "metadata": {},
   "source": [
    "If you want to use a *discrete* colour scale, you need to base it on a discrete attribute. Here I first create a new attribute, that is discrete (character)\n",
    "(note the use of tidyR syntax with pipes and \"mutate\" to add a column to the dataframe. An R equivalent would be\n",
    "\n",
    "``sazava2<-cbind(sazava,col2=as.character(sazava$Colour))``"
   ]
  },
  {
   "cell_type": "code",
   "execution_count": null,
   "id": "77df0ec0",
   "metadata": {},
   "outputs": [],
   "source": [
    "sazava2 <- sazava %>% mutate(col2=as.character(Colour))\n",
    "sazava2"
   ]
  },
  {
   "cell_type": "markdown",
   "id": "afef9aec",
   "metadata": {},
   "source": [
    ".. and I use it for my colour mapping, which I can now modify:"
   ]
  },
  {
   "cell_type": "code",
   "execution_count": null,
   "id": "779050e6",
   "metadata": {
    "scrolled": true
   },
   "outputs": [],
   "source": [
    "p2<- sazava2 %>% \n",
    "    ggplot()+\n",
    "    geom_point(aes(x=SiO2,y=MgO,colour=col2,shape=Symbol,size=2))+\n",
    "    scale_shape_identity()+\n",
    "    scale_color_identity()+\n",
    "    scale_size_identity()+\n",
    "    labs(x=GCDkitDevelop::annotate(\"SiO2\"),y=\"MgO\")+\n",
    "    theme_gcdkit()\n",
    "\n",
    "p2"
   ]
  },
  {
   "cell_type": "code",
   "execution_count": null,
   "id": "7d79f3e1",
   "metadata": {},
   "outputs": [],
   "source": [
    "p2 + scale_colour_manual(values=c(\"green\",\"brown\",\"pink\"))"
   ]
  },
  {
   "cell_type": "markdown",
   "id": "4818703f",
   "metadata": {},
   "source": [
    "Or of course, emulating figCol() or figBw():"
   ]
  },
  {
   "cell_type": "code",
   "execution_count": null,
   "id": "98c98ebb",
   "metadata": {},
   "outputs": [],
   "source": [
    "p2 + scale_colour_manual(values=c(\"green\",\"green\",\"green\"))"
   ]
  },
  {
   "cell_type": "markdown",
   "id": "cdbc6b4c",
   "metadata": {},
   "source": [
    "But, in this case, does it really make sense to refer to the variable \"Colour\", rather than something a bit more explicit ? So perhaps try"
   ]
  },
  {
   "cell_type": "code",
   "execution_count": null,
   "id": "64fbd60e",
   "metadata": {},
   "outputs": [],
   "source": [
    "p3<- sazava2 %>% \n",
    "    ggplot()+\n",
    "    geom_point(aes(x=SiO2,y=MgO,colour=Intrusion,shape=Symbol,size=2))+\n",
    "    scale_shape_identity()+\n",
    "    scale_size_identity()+\n",
    "    labs(x=GCDkitDevelop::annotate(\"SiO2\"),y=\"MgO\")+\n",
    "    theme_gcdkit()\n",
    "p3"
   ]
  },
  {
   "cell_type": "code",
   "execution_count": null,
   "id": "0a11a90c",
   "metadata": {},
   "outputs": [],
   "source": [
    "p3+scale_colour_manual(values=c(\"orange\",\"black\",\"3\"))"
   ]
  },
  {
   "cell_type": "markdown",
   "id": "55e30590",
   "metadata": {},
   "source": [
    "Of course, you can also elect to build a graph where colour means nothing at all (which is a different graph, from ggplot's perspective):"
   ]
  },
  {
   "cell_type": "code",
   "execution_count": null,
   "id": "7f1d73a6",
   "metadata": {},
   "outputs": [],
   "source": [
    "p4<- sazava %>% \n",
    "    ggplot()+\n",
    "    geom_point(aes(x=SiO2,y=MgO,colour=\"black\",shape=Symbol,size=2))+\n",
    "    scale_shape_identity()+\n",
    "    scale_color_identity()+\n",
    "    scale_size_identity()+\n",
    "    labs(x=GCDkitDevelop::annotate(\"SiO2\"),y=\"MgO\")+\n",
    "    theme_gcdkit()\n",
    "\n",
    "p4"
   ]
  },
  {
   "cell_type": "markdown",
   "id": "11a86f81",
   "metadata": {},
   "source": [
    "### More variables\n",
    "\n",
    "The fact that ggplot can map different variable to graphical properties makes it very easy to make xyz plots (`` plotWithCircles()``), or to map a colour to a variable (``assignColVar()``/``assignColLab()``). Again in ggplot's perspective you are changing the *mappings* so it's a new plot:"
   ]
  },
  {
   "cell_type": "code",
   "execution_count": null,
   "id": "bfe71aea",
   "metadata": {},
   "outputs": [],
   "source": [
    "p5<- sazava %>% \n",
    "    ggplot()+\n",
    "    geom_point(aes(x=SiO2,y=MgO,colour=K2O,shape=Symbol,size=2))+\n",
    "    scale_shape_identity()+\n",
    "    scale_size_identity()+\n",
    "    labs(x=GCDkitDevelop::annotate(\"SiO2\"),y=\"MgO\")+\n",
    "    theme_gcdkit()\n",
    "\n",
    "p5"
   ]
  },
  {
   "cell_type": "code",
   "execution_count": null,
   "id": "acda2f3b",
   "metadata": {},
   "outputs": [],
   "source": [
    "p5+scale_color_gradient(low=\"blue\",high=\"red\")"
   ]
  },
  {
   "cell_type": "code",
   "execution_count": null,
   "id": "c283b00b",
   "metadata": {},
   "outputs": [],
   "source": [
    "p6<- sazava %>% \n",
    "    ggplot()+\n",
    "    geom_point(aes(x=SiO2,y=MgO,colour=K2O,shape=16,size=K2O))+\n",
    "    scale_shape_identity()+\n",
    "    labs(x=GCDkitDevelop::annotate(\"SiO2\"),y=\"MgO\")+\n",
    "    theme_gcdkit()\n",
    "\n",
    "p6"
   ]
  },
  {
   "cell_type": "code",
   "execution_count": null,
   "id": "5d0b9149",
   "metadata": {
    "scrolled": true
   },
   "outputs": [],
   "source": [
    "p7<- sazava %>% \n",
    "    ggplot()+\n",
    "    geom_point(aes(x=SiO2,y=MgO,colour=FeO/MgO,shape=16,size=K2O))+\n",
    "    scale_shape_identity()+\n",
    "    labs(x=GCDkitDevelop::annotate(\"SiO2\"),y=\"MgO\")+\n",
    "    theme_gcdkit()\n",
    "\n",
    "p7"
   ]
  },
  {
   "cell_type": "code",
   "execution_count": null,
   "id": "64bd541a",
   "metadata": {},
   "outputs": [],
   "source": [
    "p7+scale_color_gradient(low=\"blue\",high=\"red\")"
   ]
  },
  {
   "cell_type": "markdown",
   "id": "4a41d112",
   "metadata": {},
   "source": [
    "### Size of symbols\n",
    "\n",
    "The same logic applies. In ggplot the size is one of the properties that can be mapped to a variable (as we have done for p6 and p7), or to nothing at all (size=2, in all the other graphs).\n",
    "\n",
    "### Size of text\n",
    "\n",
    "We have also seen that, through the use of themes.\n",
    "\n",
    "### Zooming\n",
    "\n",
    "Zooming can be done by customizing the x and y scales:"
   ]
  },
  {
   "cell_type": "code",
   "execution_count": null,
   "id": "fd0b0be3",
   "metadata": {},
   "outputs": [],
   "source": [
    "p + scale_y_continuous(limits=c(5,8))"
   ]
  },
  {
   "cell_type": "markdown",
   "id": "1c23b071",
   "metadata": {},
   "source": [
    "Which is equivalent to"
   ]
  },
  {
   "cell_type": "code",
   "execution_count": null,
   "id": "08ba5542",
   "metadata": {
    "scrolled": true
   },
   "outputs": [],
   "source": [
    "p + ylim(5,8)"
   ]
  },
  {
   "cell_type": "markdown",
   "id": "ce92df6c",
   "metadata": {},
   "source": [
    "And subtly different (more below, but it does not matter here) from"
   ]
  },
  {
   "cell_type": "code",
   "execution_count": null,
   "id": "d5e813ba",
   "metadata": {},
   "outputs": [],
   "source": [
    "p + coord_cartesian(ylim=c(5,8))"
   ]
  },
  {
   "cell_type": "markdown",
   "id": "0af2e0ca",
   "metadata": {},
   "source": [
    "## Identifying and labelling\n",
    "\n",
    "There is no built-in automatic tool for that, so something similar to figIdentify() will be required.\n",
    "\n",
    "It is, on the other hand, easy to label *all* the points:"
   ]
  },
  {
   "cell_type": "code",
   "execution_count": null,
   "id": "e6f9f9df",
   "metadata": {},
   "outputs": [],
   "source": [
    "p+geom_text(aes(x=SiO2,y=MgO,label=rownames(WR)))"
   ]
  },
  {
   "cell_type": "markdown",
   "id": "dd266555",
   "metadata": {},
   "source": [
    ".. and you can use the usual hadj, vadj and so on."
   ]
  },
  {
   "cell_type": "markdown",
   "id": "4425cb3f",
   "metadata": {},
   "source": [
    "## Interaction\n",
    "\n",
    "Similar to point identifying, there is no built-in utility for selecting, classifying and so on. Classification, especially diagram-based, will still remain a strong point of GCDkit for the foreseeable future. Selecting and so on, we are in the realm of interactivity, for which the proper tool from the tidyverse would actually be ``shiny``.\n"
   ]
  },
  {
   "cell_type": "markdown",
   "id": "6012469e",
   "metadata": {},
   "source": [
    "## Multiple plots\n",
    "\n",
    "Multiple plots are trivially easy to do in ggplot (it's called \"facetting\"):"
   ]
  },
  {
   "cell_type": "code",
   "execution_count": null,
   "id": "5b02a884",
   "metadata": {
    "scrolled": true
   },
   "outputs": [],
   "source": [
    "p+facet_wrap(~Intrusion)"
   ]
  },
  {
   "cell_type": "markdown",
   "id": "aac4233d",
   "metadata": {},
   "source": [
    "Most of the task performed by grouping in the current environment can actually be dealt with by facets. \"group by variable\" just requires ``cut``ting the variable under consideration. \"groups by label\", of course, are taken care of. \"group by outline\" or \"by diagram\" aren't. "
   ]
  },
  {
   "cell_type": "code",
   "execution_count": null,
   "id": "1b0a3d6a",
   "metadata": {},
   "outputs": [],
   "source": [
    "p+facet_wrap(~cut(K2O,c(0,1,1.5,2,5)))"
   ]
  },
  {
   "cell_type": "markdown",
   "id": "e5ce09f2",
   "metadata": {},
   "source": [
    "## Overlaying\n",
    "\n",
    "### Overlaying versions of the same dataset\n",
    "(aka contour plots and the gang)\n",
    "\n",
    "In ggplot parlance, you are using several geometries to depict the same data, with the same mapping. So:"
   ]
  },
  {
   "cell_type": "code",
   "execution_count": null,
   "id": "645277f0",
   "metadata": {},
   "outputs": [],
   "source": [
    "p+geom_density_2d(aes(x=SiO2,y=MgO))"
   ]
  },
  {
   "cell_type": "markdown",
   "id": "ae7d8d74",
   "metadata": {},
   "source": [
    "(remember, p includes a geom_point already)"
   ]
  },
  {
   "cell_type": "code",
   "execution_count": null,
   "id": "63b04d3c",
   "metadata": {},
   "outputs": [],
   "source": [
    "p+scale_y_continuous()+geom_bin2d(aes(x=SiO2,y=MgO),binwidth=c(1,0.2))"
   ]
  },
  {
   "cell_type": "markdown",
   "id": "ccac6f84",
   "metadata": {},
   "source": [
    "This is, incidentally, where the difference between scale_ and coord_ becomes meaningful. Consider the following plot:"
   ]
  },
  {
   "cell_type": "code",
   "execution_count": null,
   "id": "e85be5e2",
   "metadata": {},
   "outputs": [],
   "source": [
    "data(atacazo)\n",
    "aa<-atacazo %>% ggplot()+geom_bin2d(aes(x=SiO2,y=MgO))\n",
    "aa"
   ]
  },
  {
   "cell_type": "markdown",
   "id": "1c6135c7",
   "metadata": {},
   "source": [
    "and compare :"
   ]
  },
  {
   "cell_type": "code",
   "execution_count": null,
   "id": "5c1f69b0",
   "metadata": {},
   "outputs": [],
   "source": [
    "aa+scale_x_continuous(limits=c(60,65))+scale_y_continuous(limits=c(3,4))"
   ]
  },
  {
   "cell_type": "code",
   "execution_count": null,
   "id": "de863a02",
   "metadata": {},
   "outputs": [],
   "source": [
    "aa+coord_cartesian(xlim=c(60,65),ylim=c(3,4))"
   ]
  },
  {
   "cell_type": "markdown",
   "id": "5dd0a4f7",
   "metadata": {},
   "source": [
    "The second version, as you can see, is just a (visual) zoom on a portion of the graph (including stretching of the boxes). The first case trims the dataset to keep only the relevant data and *then* counts them (cf. the lower counts)."
   ]
  },
  {
   "cell_type": "markdown",
   "id": "b4110876",
   "metadata": {},
   "source": [
    "### Overlaying another dataset\n",
    "\n",
    "Here we take advantage of the fact, that we have ignored so far, that geometries can also take a ``data`` argument. Hence if we explicitely supplky a different data argument for each geometry, we can write"
   ]
  },
  {
   "cell_type": "code",
   "execution_count": null,
   "id": "7ddb7899",
   "metadata": {},
   "outputs": [],
   "source": [
    "pp<-ggplot()+\n",
    "geom_point(data=atacazo,aes(x=SiO2,y=MgO,shape=16,size=1,color=\"grey\"))+\n",
    "geom_point(data=sazava,aes(x=SiO2,y=MgO,shape=Symbol,size=4,color=Colour))+\n",
    "scale_colour_identity()+\n",
    "scale_shape_identity()+\n",
    "scale_size_identity()+\n",
    "theme_gcdkit()\n",
    "\n",
    "pp"
   ]
  },
  {
   "cell_type": "markdown",
   "id": "0a4ee0e6",
   "metadata": {},
   "source": [
    "Of course, this remains a fully-developped ggplot graph, so..."
   ]
  },
  {
   "cell_type": "code",
   "execution_count": null,
   "id": "013757f0",
   "metadata": {
    "scrolled": true
   },
   "outputs": [],
   "source": [
    "pp+facet_wrap(~cut(K2O,c(0,1,1.5,2,5)))"
   ]
  },
  {
   "cell_type": "markdown",
   "id": "4b2ee197",
   "metadata": {},
   "source": [
    "And what about"
   ]
  },
  {
   "cell_type": "code",
   "execution_count": null,
   "id": "1d2d9182",
   "metadata": {},
   "outputs": [],
   "source": [
    "pp2<-ggplot()+\n",
    "geom_density_2d(data=atacazo,aes(x=SiO2,y=MgO,color=\"grey\"))+\n",
    "geom_point(data=sazava,aes(x=SiO2,y=MgO,shape=Symbol,size=4,color=Colour))+\n",
    "scale_colour_identity()+\n",
    "scale_shape_identity()+\n",
    "scale_size_identity()+\n",
    "theme_gcdkit()\n",
    "\n",
    "pp2"
   ]
  },
  {
   "cell_type": "markdown",
   "id": "be8d48bd",
   "metadata": {},
   "source": [
    "It becomes a bit more tricky if, for some reason, you want to use two distinct scales (one for each dataset). In that case, see package ``ggnewscale``."
   ]
  }
 ],
 "metadata": {
  "kernelspec": {
   "display_name": "R",
   "language": "R",
   "name": "ir"
  },
  "language_info": {
   "codemirror_mode": "r",
   "file_extension": ".r",
   "mimetype": "text/x-r-source",
   "name": "R",
   "pygments_lexer": "r",
   "version": "4.1.2"
  }
 },
 "nbformat": 4,
 "nbformat_minor": 5
}
