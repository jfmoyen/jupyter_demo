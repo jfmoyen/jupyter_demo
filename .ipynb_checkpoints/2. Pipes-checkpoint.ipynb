{
 "cells": [
  {
   "cell_type": "markdown",
   "metadata": {},
   "source": [
    "# Tidyverse (part 2)\n",
    "\n",
    "### Pipes\n",
    "\n",
    "Pipes are supplied by package magrittR, and are (normally) loaded with library(tidyverse). The main innovation is the \"pipe\" operator, that allows to \"chain\" commands without having to nest brackets or use intermediate variables. This results in (arguably) much more readable code."
   ]
  },
  {
   "cell_type": "code",
   "execution_count": null,
   "metadata": {},
   "outputs": [],
   "source": [
    "library(tidyverse)\n",
    "library(readxl)\n",
    "\n",
    "sazxlFile <- \"./data/sazava.xls\"\n",
    "\n",
    "sazava_tbl<- read_xls(sazxlFile)"
   ]
  },
  {
   "cell_type": "markdown",
   "metadata": {},
   "source": [
    "A common situation is that you have to perform several operations on your data. Consider, for instance, the following case:"
   ]
  },
  {
   "cell_type": "code",
   "execution_count": null,
   "metadata": {},
   "outputs": [],
   "source": [
    "sazava_tbl[sazava_tbl[,\"SiO2\"]<55,\"Al2O3\"]"
   ]
  },
  {
   "cell_type": "markdown",
   "metadata": {},
   "source": [
    "This can also be written using tibble operations :"
   ]
  },
  {
   "cell_type": "code",
   "execution_count": null,
   "metadata": {},
   "outputs": [],
   "source": [
    "select(filter(sazava_tbl,SiO2<55),Al2O3)"
   ]
  },
  {
   "cell_type": "markdown",
   "metadata": {},
   "source": [
    "Note, incidentally, that tibbles use \"data masking\", meaning that most of the times you can indifferently quote or not the variable names:"
   ]
  },
  {
   "cell_type": "code",
   "execution_count": null,
   "metadata": {},
   "outputs": [],
   "source": [
    "select(filter(sazava_tbl,SiO2<55),Al2O3)\n",
    "select(filter(sazava_tbl,SiO2<55),\"Al2O3\")"
   ]
  },
  {
   "cell_type": "markdown",
   "metadata": {},
   "source": [
    "This feature is great when working inline, but may become annoying when programming. And it is not always consistent, so sometimes deciding whether to quote or not to quote is a matter of trial and error. See, for instance,\n",
    "https://stackoverflow.com/questions/65671975/tibbles-and-data-defined-column-names/65672042#65672042"
   ]
  },
  {
   "cell_type": "markdown",
   "metadata": {},
   "source": [
    "As we all know, piling up operators may lead to clumsy and unreadable code :"
   ]
  },
  {
   "cell_type": "code",
   "execution_count": null,
   "metadata": {},
   "outputs": [],
   "source": [
    "sazava_tbl[sazava_tbl[,\"SiO2\"]<55,\"Al2O3\"] / sazava_tbl[sazava_tbl[,\"SiO2\"]<55,\"CaO\"]*2"
   ]
  },
  {
   "cell_type": "markdown",
   "metadata": {},
   "source": [
    "So the usual cure is to play with intermediate variables:"
   ]
  },
  {
   "cell_type": "code",
   "execution_count": null,
   "metadata": {},
   "outputs": [],
   "source": [
    "idx <- sazava_tbl[,\"SiO2\"]<55\n",
    "al <- sazava_tbl[idx,\"Al2O3\"]\n",
    "ca <- sazava_tbl[idx,\"CaO\"]\n",
    "\n",
    "al/ca*2"
   ]
  },
  {
   "cell_type": "markdown",
   "metadata": {},
   "source": [
    "This is still a bit unwieldy, and ends up polluting the workspace with lots of intermediate variables ... which has been known to cause trouble. This is were the pipe comes in handy.\n",
    "\n",
    "The pipe is simply a function that connects its left-hand side and right-hand side. The output of the lhs function becomes the (first) input of the rhs function - so pipes work with any function that takes a sensible first operator (not only tidyverse functions).\n",
    "\n",
    "Therefore, the above command can be recast as follows:"
   ]
  },
  {
   "cell_type": "code",
   "execution_count": null,
   "metadata": {},
   "outputs": [],
   "source": [
    "sazava_tbl %>% filter(SiO2<55) %>% select(Al2O3)"
   ]
  },
  {
   "cell_type": "markdown",
   "metadata": {},
   "source": [
    "introducing the `mutate` command, that calculates a new variable :"
   ]
  },
  {
   "cell_type": "code",
   "execution_count": null,
   "metadata": {},
   "outputs": [],
   "source": [
    "sazava_tbl %>% filter(SiO2<55) %>% select(Al2O3,CaO) %>% mutate(AlCa = Al2O3/CaO*2)"
   ]
  },
  {
   "cell_type": "markdown",
   "metadata": {},
   "source": [
    "This is exactly identical to the following:"
   ]
  },
  {
   "cell_type": "code",
   "execution_count": null,
   "metadata": {},
   "outputs": [],
   "source": [
    "intermediate1 <- filter(sazava_tbl,SiO2<55)\n",
    "intermediate2 <- select(intermediate1,Al2O3,CaO)\n",
    "intermediate3 <- mutate(intermediate2,AlCa = Al2O3/CaO*2)\n",
    "intermediate3"
   ]
  },
  {
   "cell_type": "markdown",
   "metadata": {},
   "source": [
    "Assigment can be done using the slighlty uncommon variant of the assignment operator, `->`:"
   ]
  },
  {
   "cell_type": "code",
   "execution_count": null,
   "metadata": {},
   "outputs": [],
   "source": [
    "sazava_tbl %>% filter(SiO2<55) %>% select(Al2O3,CaO) %>% mutate(AlCa = Al2O3/CaO*2) -> result"
   ]
  },
  {
   "cell_type": "markdown",
   "metadata": {},
   "source": [
    "Or in the more common form"
   ]
  },
  {
   "cell_type": "code",
   "execution_count": null,
   "metadata": {},
   "outputs": [],
   "source": [
    "result <- sazava_tbl %>% filter(SiO2<55) %>% select(Al2O3,CaO) %>% mutate(AlCa = Al2O3/CaO*2)"
   ]
  },
  {
   "cell_type": "markdown",
   "metadata": {},
   "source": [
    "for simple replacement, one may use bidirectional pipe of magrittR (which is **not** loaded directly by `library(tidyverse)`, you need to load magrittr manually to access the more evolved pipes - of which there are several types, not covered here )"
   ]
  },
  {
   "cell_type": "code",
   "execution_count": null,
   "metadata": {},
   "outputs": [],
   "source": [
    "library(magrittr)\n",
    "result %<>% select(AlCa)\n",
    "result"
   ]
  },
  {
   "cell_type": "markdown",
   "metadata": {},
   "source": [
    "Pipes are also newline-friendly, so you can write very legible code :"
   ]
  },
  {
   "cell_type": "code",
   "execution_count": null,
   "metadata": {},
   "outputs": [],
   "source": [
    "sazava_tbl %>% \n",
    "  filter(SiO2<55) %>% \n",
    "  select(Al2O3,CaO) %>% \n",
    "  mutate(AlCa = Al2O3/CaO*2) "
   ]
  },
  {
   "cell_type": "markdown",
   "metadata": {},
   "source": [
    "Finally, in pipe chains, `.` can be used as a shorthand to refer to the \"current\" variable that gets passed through the pipe. So a neat way to assign the result of a pipe is"
   ]
  },
  {
   "cell_type": "code",
   "execution_count": null,
   "metadata": {},
   "outputs": [],
   "source": [
    "sazava_tbl %>% \n",
    "  filter(SiO2<55) %>% \n",
    "  select(Al2O3,CaO) %>% \n",
    "  mutate(AlCa = Al2O3/CaO*2) %>%\n",
    "  {.} -> result"
   ]
  },
  {
   "cell_type": "markdown",
   "metadata": {},
   "source": [
    "... which does nothing else than the previous versions, but in a very clean way (you see what gets into the pipe, and what comes out)"
   ]
  }
 ],
 "metadata": {
  "kernelspec": {
   "display_name": "R",
   "language": "R",
   "name": "ir"
  },
  "language_info": {
   "codemirror_mode": "r",
   "file_extension": ".r",
   "mimetype": "text/x-r-source",
   "name": "R",
   "pygments_lexer": "r",
   "version": "4.1.2"
  }
 },
 "nbformat": 4,
 "nbformat_minor": 4
}
