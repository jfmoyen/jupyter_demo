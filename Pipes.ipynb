{
 "cells": [
  {
   "cell_type": "markdown",
   "metadata": {},
   "source": [
    "# Tidyverse (part 2)\n",
    "\n",
    "### Pipes\n",
    "\n",
    "Pipes are supplied by package magrittR, and are (normally) loaded with library(tidyverse). The main innovation is the \"pipe\" operator, that allows to \"chain\" commands without having to nest brackets or use intermediate variables. "
   ]
  },
  {
   "cell_type": "code",
   "execution_count": 1,
   "metadata": {},
   "outputs": [
    {
     "name": "stderr",
     "output_type": "stream",
     "text": [
      "Warning message:\n",
      "\"package 'tidyverse' was built under R version 3.6.3\"\n",
      "-- \u001b[1mAttaching packages\u001b[22m --------------------------------------- tidyverse 1.3.0 --\n",
      "\n",
      "\u001b[32mv\u001b[39m \u001b[34mggplot2\u001b[39m 3.3.2     \u001b[32mv\u001b[39m \u001b[34mpurrr  \u001b[39m 0.3.4\n",
      "\u001b[32mv\u001b[39m \u001b[34mtibble \u001b[39m 3.0.4     \u001b[32mv\u001b[39m \u001b[34mdplyr  \u001b[39m 1.0.2\n",
      "\u001b[32mv\u001b[39m \u001b[34mtidyr  \u001b[39m 1.0.2     \u001b[32mv\u001b[39m \u001b[34mstringr\u001b[39m 1.4.0\n",
      "\u001b[32mv\u001b[39m \u001b[34mreadr  \u001b[39m 1.4.0     \u001b[32mv\u001b[39m \u001b[34mforcats\u001b[39m 0.5.0\n",
      "\n",
      "Warning message:\n",
      "\"package 'ggplot2' was built under R version 3.6.3\"\n",
      "Warning message:\n",
      "\"package 'tibble' was built under R version 3.6.3\"\n",
      "Warning message:\n",
      "\"package 'tidyr' was built under R version 3.6.3\"\n",
      "Warning message:\n",
      "\"package 'readr' was built under R version 3.6.3\"\n",
      "Warning message:\n",
      "\"package 'purrr' was built under R version 3.6.3\"\n",
      "Warning message:\n",
      "\"package 'dplyr' was built under R version 3.6.3\"\n",
      "Warning message:\n",
      "\"package 'forcats' was built under R version 3.6.3\"\n",
      "-- \u001b[1mConflicts\u001b[22m ------------------------------------------ tidyverse_conflicts() --\n",
      "\u001b[31mx\u001b[39m \u001b[34mdplyr\u001b[39m::\u001b[32mfilter()\u001b[39m masks \u001b[34mstats\u001b[39m::filter()\n",
      "\u001b[31mx\u001b[39m \u001b[34mdplyr\u001b[39m::\u001b[32mlag()\u001b[39m    masks \u001b[34mstats\u001b[39m::lag()\n",
      "\n",
      "Warning message:\n",
      "\"package 'readxl' was built under R version 3.6.3\"\n",
      "New names:\n",
      "* `` -> ...1\n",
      "\n"
     ]
    }
   ],
   "source": [
    "library(tidyverse)\n",
    "library(readxl)\n",
    "\n",
    "gcdkit.dir<-\"C:\\\\Users\\\\moje4671\\\\R\\\\win-library\\\\3.6\\\\GCDkit\\\\\"\n",
    "sazxlFile <- paste(gcdkit.dir,\"Test_data\\\\sazava.xls\",sep=\"\")\n",
    "\n",
    "sazava_tbl<- read_xls(sazxlFile)"
   ]
  },
  {
   "cell_type": "markdown",
   "metadata": {},
   "source": [
    "A common situation is that you have to perform several operations on your data. Consider, for instance, the following case:"
   ]
  },
  {
   "cell_type": "code",
   "execution_count": 4,
   "metadata": {},
   "outputs": [
    {
     "data": {
      "text/html": [
       "<table>\n",
       "<caption>A tibble: 5 × 1</caption>\n",
       "<thead>\n",
       "\t<tr><th scope=col>Al2O3</th></tr>\n",
       "\t<tr><th scope=col>&lt;dbl&gt;</th></tr>\n",
       "</thead>\n",
       "<tbody>\n",
       "\t<tr><td>17.57</td></tr>\n",
       "\t<tr><td>18.23</td></tr>\n",
       "\t<tr><td>13.34</td></tr>\n",
       "\t<tr><td>14.17</td></tr>\n",
       "\t<tr><td>21.64</td></tr>\n",
       "</tbody>\n",
       "</table>\n"
      ],
      "text/latex": [
       "A tibble: 5 × 1\n",
       "\\begin{tabular}{l}\n",
       " Al2O3\\\\\n",
       " <dbl>\\\\\n",
       "\\hline\n",
       "\t 17.57\\\\\n",
       "\t 18.23\\\\\n",
       "\t 13.34\\\\\n",
       "\t 14.17\\\\\n",
       "\t 21.64\\\\\n",
       "\\end{tabular}\n"
      ],
      "text/markdown": [
       "\n",
       "A tibble: 5 × 1\n",
       "\n",
       "| Al2O3 &lt;dbl&gt; |\n",
       "|---|\n",
       "| 17.57 |\n",
       "| 18.23 |\n",
       "| 13.34 |\n",
       "| 14.17 |\n",
       "| 21.64 |\n",
       "\n"
      ],
      "text/plain": [
       "  Al2O3\n",
       "1 17.57\n",
       "2 18.23\n",
       "3 13.34\n",
       "4 14.17\n",
       "5 21.64"
      ]
     },
     "metadata": {},
     "output_type": "display_data"
    }
   ],
   "source": [
    "sazava_tbl[sazava_tbl[,\"SiO2\"]<55,\"Al2O3\"]"
   ]
  },
  {
   "cell_type": "markdown",
   "metadata": {},
   "source": [
    "This can also be written using tibble operations :"
   ]
  },
  {
   "cell_type": "code",
   "execution_count": 6,
   "metadata": {},
   "outputs": [
    {
     "data": {
      "text/html": [
       "<table>\n",
       "<caption>A tibble: 5 × 1</caption>\n",
       "<thead>\n",
       "\t<tr><th scope=col>Al2O3</th></tr>\n",
       "\t<tr><th scope=col>&lt;dbl&gt;</th></tr>\n",
       "</thead>\n",
       "<tbody>\n",
       "\t<tr><td>17.57</td></tr>\n",
       "\t<tr><td>18.23</td></tr>\n",
       "\t<tr><td>13.34</td></tr>\n",
       "\t<tr><td>14.17</td></tr>\n",
       "\t<tr><td>21.64</td></tr>\n",
       "</tbody>\n",
       "</table>\n"
      ],
      "text/latex": [
       "A tibble: 5 × 1\n",
       "\\begin{tabular}{l}\n",
       " Al2O3\\\\\n",
       " <dbl>\\\\\n",
       "\\hline\n",
       "\t 17.57\\\\\n",
       "\t 18.23\\\\\n",
       "\t 13.34\\\\\n",
       "\t 14.17\\\\\n",
       "\t 21.64\\\\\n",
       "\\end{tabular}\n"
      ],
      "text/markdown": [
       "\n",
       "A tibble: 5 × 1\n",
       "\n",
       "| Al2O3 &lt;dbl&gt; |\n",
       "|---|\n",
       "| 17.57 |\n",
       "| 18.23 |\n",
       "| 13.34 |\n",
       "| 14.17 |\n",
       "| 21.64 |\n",
       "\n"
      ],
      "text/plain": [
       "  Al2O3\n",
       "1 17.57\n",
       "2 18.23\n",
       "3 13.34\n",
       "4 14.17\n",
       "5 21.64"
      ]
     },
     "metadata": {},
     "output_type": "display_data"
    }
   ],
   "source": [
    "select(filter(sazava_tbl,SiO2<55),Al2O3)"
   ]
  },
  {
   "cell_type": "markdown",
   "metadata": {},
   "source": [
    "Note, incidentally, that tibbles use \"data masking\", meaning that most of the times you can indifferently quote or not the variable names ... in some cases:"
   ]
  },
  {
   "cell_type": "code",
   "execution_count": 9,
   "metadata": {},
   "outputs": [
    {
     "data": {
      "text/html": [
       "<table>\n",
       "<caption>A tibble: 5 × 1</caption>\n",
       "<thead>\n",
       "\t<tr><th scope=col>Al2O3</th></tr>\n",
       "\t<tr><th scope=col>&lt;dbl&gt;</th></tr>\n",
       "</thead>\n",
       "<tbody>\n",
       "\t<tr><td>17.57</td></tr>\n",
       "\t<tr><td>18.23</td></tr>\n",
       "\t<tr><td>13.34</td></tr>\n",
       "\t<tr><td>14.17</td></tr>\n",
       "\t<tr><td>21.64</td></tr>\n",
       "</tbody>\n",
       "</table>\n"
      ],
      "text/latex": [
       "A tibble: 5 × 1\n",
       "\\begin{tabular}{l}\n",
       " Al2O3\\\\\n",
       " <dbl>\\\\\n",
       "\\hline\n",
       "\t 17.57\\\\\n",
       "\t 18.23\\\\\n",
       "\t 13.34\\\\\n",
       "\t 14.17\\\\\n",
       "\t 21.64\\\\\n",
       "\\end{tabular}\n"
      ],
      "text/markdown": [
       "\n",
       "A tibble: 5 × 1\n",
       "\n",
       "| Al2O3 &lt;dbl&gt; |\n",
       "|---|\n",
       "| 17.57 |\n",
       "| 18.23 |\n",
       "| 13.34 |\n",
       "| 14.17 |\n",
       "| 21.64 |\n",
       "\n"
      ],
      "text/plain": [
       "  Al2O3\n",
       "1 17.57\n",
       "2 18.23\n",
       "3 13.34\n",
       "4 14.17\n",
       "5 21.64"
      ]
     },
     "metadata": {},
     "output_type": "display_data"
    },
    {
     "data": {
      "text/html": [
       "<table>\n",
       "<caption>A tibble: 5 × 1</caption>\n",
       "<thead>\n",
       "\t<tr><th scope=col>Al2O3</th></tr>\n",
       "\t<tr><th scope=col>&lt;dbl&gt;</th></tr>\n",
       "</thead>\n",
       "<tbody>\n",
       "\t<tr><td>17.57</td></tr>\n",
       "\t<tr><td>18.23</td></tr>\n",
       "\t<tr><td>13.34</td></tr>\n",
       "\t<tr><td>14.17</td></tr>\n",
       "\t<tr><td>21.64</td></tr>\n",
       "</tbody>\n",
       "</table>\n"
      ],
      "text/latex": [
       "A tibble: 5 × 1\n",
       "\\begin{tabular}{l}\n",
       " Al2O3\\\\\n",
       " <dbl>\\\\\n",
       "\\hline\n",
       "\t 17.57\\\\\n",
       "\t 18.23\\\\\n",
       "\t 13.34\\\\\n",
       "\t 14.17\\\\\n",
       "\t 21.64\\\\\n",
       "\\end{tabular}\n"
      ],
      "text/markdown": [
       "\n",
       "A tibble: 5 × 1\n",
       "\n",
       "| Al2O3 &lt;dbl&gt; |\n",
       "|---|\n",
       "| 17.57 |\n",
       "| 18.23 |\n",
       "| 13.34 |\n",
       "| 14.17 |\n",
       "| 21.64 |\n",
       "\n"
      ],
      "text/plain": [
       "  Al2O3\n",
       "1 17.57\n",
       "2 18.23\n",
       "3 13.34\n",
       "4 14.17\n",
       "5 21.64"
      ]
     },
     "metadata": {},
     "output_type": "display_data"
    }
   ],
   "source": [
    "select(filter(sazava_tbl,SiO2<55),Al2O3)\n",
    "select(filter(sazava_tbl,SiO2<55),\"Al2O3\")"
   ]
  },
  {
   "cell_type": "markdown",
   "metadata": {},
   "source": [
    "This feature is great when working inline, but may become annoying when programming, and does not always behave entirely predictably. See, for instance,\n",
    "https://stackoverflow.com/questions/65671975/tibbles-and-data-defined-column-names/65672042#65672042"
   ]
  },
  {
   "cell_type": "markdown",
   "metadata": {},
   "source": [
    "As we all know, piling up operators may lead to clumsy and unreadable code :"
   ]
  },
  {
   "cell_type": "code",
   "execution_count": 10,
   "metadata": {},
   "outputs": [
    {
     "data": {
      "text/html": [
       "<table>\n",
       "<caption>A data.frame: 5 × 1</caption>\n",
       "<thead>\n",
       "\t<tr><th scope=col>Al2O3</th></tr>\n",
       "\t<tr><th scope=col>&lt;dbl&gt;</th></tr>\n",
       "</thead>\n",
       "<tbody>\n",
       "\t<tr><td>3.542339</td></tr>\n",
       "\t<tr><td>4.264327</td></tr>\n",
       "\t<tr><td>1.822404</td></tr>\n",
       "\t<tr><td>2.477273</td></tr>\n",
       "\t<tr><td>3.147636</td></tr>\n",
       "</tbody>\n",
       "</table>\n"
      ],
      "text/latex": [
       "A data.frame: 5 × 1\n",
       "\\begin{tabular}{l}\n",
       " Al2O3\\\\\n",
       " <dbl>\\\\\n",
       "\\hline\n",
       "\t 3.542339\\\\\n",
       "\t 4.264327\\\\\n",
       "\t 1.822404\\\\\n",
       "\t 2.477273\\\\\n",
       "\t 3.147636\\\\\n",
       "\\end{tabular}\n"
      ],
      "text/markdown": [
       "\n",
       "A data.frame: 5 × 1\n",
       "\n",
       "| Al2O3 &lt;dbl&gt; |\n",
       "|---|\n",
       "| 3.542339 |\n",
       "| 4.264327 |\n",
       "| 1.822404 |\n",
       "| 2.477273 |\n",
       "| 3.147636 |\n",
       "\n"
      ],
      "text/plain": [
       "  Al2O3   \n",
       "1 3.542339\n",
       "2 4.264327\n",
       "3 1.822404\n",
       "4 2.477273\n",
       "5 3.147636"
      ]
     },
     "metadata": {},
     "output_type": "display_data"
    }
   ],
   "source": [
    "sazava_tbl[sazava_tbl[,\"SiO2\"]<55,\"Al2O3\"] / sazava_tbl[sazava_tbl[,\"SiO2\"]<55,\"CaO\"]*2"
   ]
  },
  {
   "cell_type": "markdown",
   "metadata": {},
   "source": [
    "So the usual cure is to play with intermediate variables:"
   ]
  },
  {
   "cell_type": "code",
   "execution_count": 12,
   "metadata": {},
   "outputs": [
    {
     "data": {
      "text/html": [
       "<table>\n",
       "<caption>A data.frame: 5 × 1</caption>\n",
       "<thead>\n",
       "\t<tr><th scope=col>Al2O3</th></tr>\n",
       "\t<tr><th scope=col>&lt;dbl&gt;</th></tr>\n",
       "</thead>\n",
       "<tbody>\n",
       "\t<tr><td>3.542339</td></tr>\n",
       "\t<tr><td>4.264327</td></tr>\n",
       "\t<tr><td>1.822404</td></tr>\n",
       "\t<tr><td>2.477273</td></tr>\n",
       "\t<tr><td>3.147636</td></tr>\n",
       "</tbody>\n",
       "</table>\n"
      ],
      "text/latex": [
       "A data.frame: 5 × 1\n",
       "\\begin{tabular}{l}\n",
       " Al2O3\\\\\n",
       " <dbl>\\\\\n",
       "\\hline\n",
       "\t 3.542339\\\\\n",
       "\t 4.264327\\\\\n",
       "\t 1.822404\\\\\n",
       "\t 2.477273\\\\\n",
       "\t 3.147636\\\\\n",
       "\\end{tabular}\n"
      ],
      "text/markdown": [
       "\n",
       "A data.frame: 5 × 1\n",
       "\n",
       "| Al2O3 &lt;dbl&gt; |\n",
       "|---|\n",
       "| 3.542339 |\n",
       "| 4.264327 |\n",
       "| 1.822404 |\n",
       "| 2.477273 |\n",
       "| 3.147636 |\n",
       "\n"
      ],
      "text/plain": [
       "  Al2O3   \n",
       "1 3.542339\n",
       "2 4.264327\n",
       "3 1.822404\n",
       "4 2.477273\n",
       "5 3.147636"
      ]
     },
     "metadata": {},
     "output_type": "display_data"
    }
   ],
   "source": [
    "idx <- sazava_tbl[,\"SiO2\"]<55\n",
    "al <- sazava_tbl[idx,\"Al2O3\"]\n",
    "ca <- sazava_tbl[idx,\"CaO\"]\n",
    "\n",
    "al/ca*2"
   ]
  },
  {
   "cell_type": "markdown",
   "metadata": {},
   "source": [
    "This is still a bit unwieldy, and ends up polluting the workspace with lots of intermediate variables ... which has been known to cause trouble. This is were the pipe comes in handy.\n",
    "\n",
    "The pipe is simply a function that connects its left-hand side and right-hand side. The output of the lhs function becomes the (first) input of the rhs function - so pipes work with any function that takes a sensible first argument. Like that:\n"
   ]
  },
  {
   "cell_type": "code",
   "execution_count": 32,
   "metadata": {},
   "outputs": [
    {
     "data": {
      "text/html": [
       "-0.197409634761097"
      ],
      "text/latex": [
       "-0.197409634761097"
      ],
      "text/markdown": [
       "-0.197409634761097"
      ],
      "text/plain": [
       "[1] -0.1974096"
      ]
     },
     "metadata": {},
     "output_type": "display_data"
    }
   ],
   "source": [
    "1:10 %>% rnorm %>% mean"
   ]
  },
  {
   "cell_type": "markdown",
   "metadata": {},
   "source": [
    "which correponds to"
   ]
  },
  {
   "cell_type": "code",
   "execution_count": 33,
   "metadata": {},
   "outputs": [
    {
     "data": {
      "text/html": [
       "-0.0704459674836514"
      ],
      "text/latex": [
       "-0.0704459674836514"
      ],
      "text/markdown": [
       "-0.0704459674836514"
      ],
      "text/plain": [
       "[1] -0.07044597"
      ]
     },
     "metadata": {},
     "output_type": "display_data"
    }
   ],
   "source": [
    "mean(rnorm(1:10))"
   ]
  },
  {
   "cell_type": "markdown",
   "metadata": {},
   "source": [
    "Therefore, the above command can be recast as follows:"
   ]
  },
  {
   "cell_type": "code",
   "execution_count": 15,
   "metadata": {},
   "outputs": [
    {
     "data": {
      "text/html": [
       "<table>\n",
       "<caption>A tibble: 5 × 1</caption>\n",
       "<thead>\n",
       "\t<tr><th scope=col>Al2O3</th></tr>\n",
       "\t<tr><th scope=col>&lt;dbl&gt;</th></tr>\n",
       "</thead>\n",
       "<tbody>\n",
       "\t<tr><td>17.57</td></tr>\n",
       "\t<tr><td>18.23</td></tr>\n",
       "\t<tr><td>13.34</td></tr>\n",
       "\t<tr><td>14.17</td></tr>\n",
       "\t<tr><td>21.64</td></tr>\n",
       "</tbody>\n",
       "</table>\n"
      ],
      "text/latex": [
       "A tibble: 5 × 1\n",
       "\\begin{tabular}{l}\n",
       " Al2O3\\\\\n",
       " <dbl>\\\\\n",
       "\\hline\n",
       "\t 17.57\\\\\n",
       "\t 18.23\\\\\n",
       "\t 13.34\\\\\n",
       "\t 14.17\\\\\n",
       "\t 21.64\\\\\n",
       "\\end{tabular}\n"
      ],
      "text/markdown": [
       "\n",
       "A tibble: 5 × 1\n",
       "\n",
       "| Al2O3 &lt;dbl&gt; |\n",
       "|---|\n",
       "| 17.57 |\n",
       "| 18.23 |\n",
       "| 13.34 |\n",
       "| 14.17 |\n",
       "| 21.64 |\n",
       "\n"
      ],
      "text/plain": [
       "  Al2O3\n",
       "1 17.57\n",
       "2 18.23\n",
       "3 13.34\n",
       "4 14.17\n",
       "5 21.64"
      ]
     },
     "metadata": {},
     "output_type": "display_data"
    }
   ],
   "source": [
    "sazava_tbl %>% filter(SiO2<55) %>% select(Al2O3)"
   ]
  },
  {
   "cell_type": "markdown",
   "metadata": {},
   "source": [
    "introducing the `mutate` command, that calculates a new variable :"
   ]
  },
  {
   "cell_type": "code",
   "execution_count": 16,
   "metadata": {},
   "outputs": [
    {
     "data": {
      "text/html": [
       "<table>\n",
       "<caption>A tibble: 5 × 3</caption>\n",
       "<thead>\n",
       "\t<tr><th scope=col>Al2O3</th><th scope=col>CaO</th><th scope=col>AlCa</th></tr>\n",
       "\t<tr><th scope=col>&lt;dbl&gt;</th><th scope=col>&lt;dbl&gt;</th><th scope=col>&lt;dbl&gt;</th></tr>\n",
       "</thead>\n",
       "<tbody>\n",
       "\t<tr><td>17.57</td><td> 9.92</td><td>3.542339</td></tr>\n",
       "\t<tr><td>18.23</td><td> 8.55</td><td>4.264327</td></tr>\n",
       "\t<tr><td>13.34</td><td>14.64</td><td>1.822404</td></tr>\n",
       "\t<tr><td>14.17</td><td>11.44</td><td>2.477273</td></tr>\n",
       "\t<tr><td>21.64</td><td>13.75</td><td>3.147636</td></tr>\n",
       "</tbody>\n",
       "</table>\n"
      ],
      "text/latex": [
       "A tibble: 5 × 3\n",
       "\\begin{tabular}{lll}\n",
       " Al2O3 & CaO & AlCa\\\\\n",
       " <dbl> & <dbl> & <dbl>\\\\\n",
       "\\hline\n",
       "\t 17.57 &  9.92 & 3.542339\\\\\n",
       "\t 18.23 &  8.55 & 4.264327\\\\\n",
       "\t 13.34 & 14.64 & 1.822404\\\\\n",
       "\t 14.17 & 11.44 & 2.477273\\\\\n",
       "\t 21.64 & 13.75 & 3.147636\\\\\n",
       "\\end{tabular}\n"
      ],
      "text/markdown": [
       "\n",
       "A tibble: 5 × 3\n",
       "\n",
       "| Al2O3 &lt;dbl&gt; | CaO &lt;dbl&gt; | AlCa &lt;dbl&gt; |\n",
       "|---|---|---|\n",
       "| 17.57 |  9.92 | 3.542339 |\n",
       "| 18.23 |  8.55 | 4.264327 |\n",
       "| 13.34 | 14.64 | 1.822404 |\n",
       "| 14.17 | 11.44 | 2.477273 |\n",
       "| 21.64 | 13.75 | 3.147636 |\n",
       "\n"
      ],
      "text/plain": [
       "  Al2O3 CaO   AlCa    \n",
       "1 17.57  9.92 3.542339\n",
       "2 18.23  8.55 4.264327\n",
       "3 13.34 14.64 1.822404\n",
       "4 14.17 11.44 2.477273\n",
       "5 21.64 13.75 3.147636"
      ]
     },
     "metadata": {},
     "output_type": "display_data"
    }
   ],
   "source": [
    "sazava_tbl %>% filter(SiO2<55) %>% select(Al2O3,CaO) %>% mutate(AlCa = Al2O3/CaO*2)"
   ]
  },
  {
   "cell_type": "markdown",
   "metadata": {},
   "source": [
    "This is exactly identical to the following:"
   ]
  },
  {
   "cell_type": "code",
   "execution_count": 21,
   "metadata": {},
   "outputs": [
    {
     "data": {
      "text/html": [
       "<table>\n",
       "<caption>A tibble: 5 × 3</caption>\n",
       "<thead>\n",
       "\t<tr><th scope=col>Al2O3</th><th scope=col>CaO</th><th scope=col>AlCa</th></tr>\n",
       "\t<tr><th scope=col>&lt;dbl&gt;</th><th scope=col>&lt;dbl&gt;</th><th scope=col>&lt;dbl&gt;</th></tr>\n",
       "</thead>\n",
       "<tbody>\n",
       "\t<tr><td>17.57</td><td> 9.92</td><td>3.542339</td></tr>\n",
       "\t<tr><td>18.23</td><td> 8.55</td><td>4.264327</td></tr>\n",
       "\t<tr><td>13.34</td><td>14.64</td><td>1.822404</td></tr>\n",
       "\t<tr><td>14.17</td><td>11.44</td><td>2.477273</td></tr>\n",
       "\t<tr><td>21.64</td><td>13.75</td><td>3.147636</td></tr>\n",
       "</tbody>\n",
       "</table>\n"
      ],
      "text/latex": [
       "A tibble: 5 × 3\n",
       "\\begin{tabular}{lll}\n",
       " Al2O3 & CaO & AlCa\\\\\n",
       " <dbl> & <dbl> & <dbl>\\\\\n",
       "\\hline\n",
       "\t 17.57 &  9.92 & 3.542339\\\\\n",
       "\t 18.23 &  8.55 & 4.264327\\\\\n",
       "\t 13.34 & 14.64 & 1.822404\\\\\n",
       "\t 14.17 & 11.44 & 2.477273\\\\\n",
       "\t 21.64 & 13.75 & 3.147636\\\\\n",
       "\\end{tabular}\n"
      ],
      "text/markdown": [
       "\n",
       "A tibble: 5 × 3\n",
       "\n",
       "| Al2O3 &lt;dbl&gt; | CaO &lt;dbl&gt; | AlCa &lt;dbl&gt; |\n",
       "|---|---|---|\n",
       "| 17.57 |  9.92 | 3.542339 |\n",
       "| 18.23 |  8.55 | 4.264327 |\n",
       "| 13.34 | 14.64 | 1.822404 |\n",
       "| 14.17 | 11.44 | 2.477273 |\n",
       "| 21.64 | 13.75 | 3.147636 |\n",
       "\n"
      ],
      "text/plain": [
       "  Al2O3 CaO   AlCa    \n",
       "1 17.57  9.92 3.542339\n",
       "2 18.23  8.55 4.264327\n",
       "3 13.34 14.64 1.822404\n",
       "4 14.17 11.44 2.477273\n",
       "5 21.64 13.75 3.147636"
      ]
     },
     "metadata": {},
     "output_type": "display_data"
    }
   ],
   "source": [
    "intermediate1 <- filter(sazava_tbl,SiO2<55)\n",
    "intermediate2 <- select(intermediate1,Al2O3,CaO)\n",
    "intermediate3 <- mutate(intermediate2,AlCa = Al2O3/CaO*2)\n",
    "intermediate3"
   ]
  },
  {
   "cell_type": "markdown",
   "metadata": {},
   "source": [
    "Assigment can be done using the slighlty uncommon variant of the assignment operator, `->`:"
   ]
  },
  {
   "cell_type": "code",
   "execution_count": 22,
   "metadata": {},
   "outputs": [],
   "source": [
    "sazava_tbl %>% filter(SiO2<55) %>% select(Al2O3,CaO) %>% mutate(AlCa = Al2O3/CaO*2) -> result"
   ]
  },
  {
   "cell_type": "markdown",
   "metadata": {},
   "source": [
    "Or in the more common (but perhaps less readable) form"
   ]
  },
  {
   "cell_type": "code",
   "execution_count": 28,
   "metadata": {},
   "outputs": [],
   "source": [
    "result <- sazava_tbl %>% filter(SiO2<55) %>% select(Al2O3,CaO) %>% mutate(AlCa = Al2O3/CaO*2)"
   ]
  },
  {
   "cell_type": "markdown",
   "metadata": {},
   "source": [
    "for simple replacement, one may use bidirectional pipe of magrittR (which is **not** loaded directly by `library(tidyverse)`, you need to load magrittr manually to access the more evolved pipes - of which there are several types, not covered here )"
   ]
  },
  {
   "cell_type": "code",
   "execution_count": 29,
   "metadata": {},
   "outputs": [
    {
     "data": {
      "text/html": [
       "<table>\n",
       "<caption>A tibble: 5 × 1</caption>\n",
       "<thead>\n",
       "\t<tr><th scope=col>AlCa</th></tr>\n",
       "\t<tr><th scope=col>&lt;dbl&gt;</th></tr>\n",
       "</thead>\n",
       "<tbody>\n",
       "\t<tr><td>3.542339</td></tr>\n",
       "\t<tr><td>4.264327</td></tr>\n",
       "\t<tr><td>1.822404</td></tr>\n",
       "\t<tr><td>2.477273</td></tr>\n",
       "\t<tr><td>3.147636</td></tr>\n",
       "</tbody>\n",
       "</table>\n"
      ],
      "text/latex": [
       "A tibble: 5 × 1\n",
       "\\begin{tabular}{l}\n",
       " AlCa\\\\\n",
       " <dbl>\\\\\n",
       "\\hline\n",
       "\t 3.542339\\\\\n",
       "\t 4.264327\\\\\n",
       "\t 1.822404\\\\\n",
       "\t 2.477273\\\\\n",
       "\t 3.147636\\\\\n",
       "\\end{tabular}\n"
      ],
      "text/markdown": [
       "\n",
       "A tibble: 5 × 1\n",
       "\n",
       "| AlCa &lt;dbl&gt; |\n",
       "|---|\n",
       "| 3.542339 |\n",
       "| 4.264327 |\n",
       "| 1.822404 |\n",
       "| 2.477273 |\n",
       "| 3.147636 |\n",
       "\n"
      ],
      "text/plain": [
       "  AlCa    \n",
       "1 3.542339\n",
       "2 4.264327\n",
       "3 1.822404\n",
       "4 2.477273\n",
       "5 3.147636"
      ]
     },
     "metadata": {},
     "output_type": "display_data"
    }
   ],
   "source": [
    "library(magrittr)\n",
    "result %<>% select(AlCa)\n",
    "result"
   ]
  },
  {
   "cell_type": "markdown",
   "metadata": {},
   "source": [
    "Pipes are also newline-friendly, so you can write very legible code :"
   ]
  },
  {
   "cell_type": "code",
   "execution_count": 30,
   "metadata": {},
   "outputs": [
    {
     "data": {
      "text/html": [
       "<table>\n",
       "<caption>A tibble: 5 × 3</caption>\n",
       "<thead>\n",
       "\t<tr><th scope=col>Al2O3</th><th scope=col>CaO</th><th scope=col>AlCa</th></tr>\n",
       "\t<tr><th scope=col>&lt;dbl&gt;</th><th scope=col>&lt;dbl&gt;</th><th scope=col>&lt;dbl&gt;</th></tr>\n",
       "</thead>\n",
       "<tbody>\n",
       "\t<tr><td>17.57</td><td> 9.92</td><td>3.542339</td></tr>\n",
       "\t<tr><td>18.23</td><td> 8.55</td><td>4.264327</td></tr>\n",
       "\t<tr><td>13.34</td><td>14.64</td><td>1.822404</td></tr>\n",
       "\t<tr><td>14.17</td><td>11.44</td><td>2.477273</td></tr>\n",
       "\t<tr><td>21.64</td><td>13.75</td><td>3.147636</td></tr>\n",
       "</tbody>\n",
       "</table>\n"
      ],
      "text/latex": [
       "A tibble: 5 × 3\n",
       "\\begin{tabular}{lll}\n",
       " Al2O3 & CaO & AlCa\\\\\n",
       " <dbl> & <dbl> & <dbl>\\\\\n",
       "\\hline\n",
       "\t 17.57 &  9.92 & 3.542339\\\\\n",
       "\t 18.23 &  8.55 & 4.264327\\\\\n",
       "\t 13.34 & 14.64 & 1.822404\\\\\n",
       "\t 14.17 & 11.44 & 2.477273\\\\\n",
       "\t 21.64 & 13.75 & 3.147636\\\\\n",
       "\\end{tabular}\n"
      ],
      "text/markdown": [
       "\n",
       "A tibble: 5 × 3\n",
       "\n",
       "| Al2O3 &lt;dbl&gt; | CaO &lt;dbl&gt; | AlCa &lt;dbl&gt; |\n",
       "|---|---|---|\n",
       "| 17.57 |  9.92 | 3.542339 |\n",
       "| 18.23 |  8.55 | 4.264327 |\n",
       "| 13.34 | 14.64 | 1.822404 |\n",
       "| 14.17 | 11.44 | 2.477273 |\n",
       "| 21.64 | 13.75 | 3.147636 |\n",
       "\n"
      ],
      "text/plain": [
       "  Al2O3 CaO   AlCa    \n",
       "1 17.57  9.92 3.542339\n",
       "2 18.23  8.55 4.264327\n",
       "3 13.34 14.64 1.822404\n",
       "4 14.17 11.44 2.477273\n",
       "5 21.64 13.75 3.147636"
      ]
     },
     "metadata": {},
     "output_type": "display_data"
    }
   ],
   "source": [
    "sazava_tbl %>% \n",
    "  filter(SiO2<55) %>% \n",
    "  select(Al2O3,CaO) %>% \n",
    "  mutate(AlCa = Al2O3/CaO*2) "
   ]
  },
  {
   "cell_type": "markdown",
   "metadata": {},
   "source": [
    "Finally, in pipe chains, `.` can be used as a shorthand to refer to the \"current\" variable that gets passed through the pipe. So a neat way to assign the result of a pipe is"
   ]
  },
  {
   "cell_type": "code",
   "execution_count": null,
   "metadata": {},
   "outputs": [],
   "source": [
    "sazava_tbl %>% \n",
    "  filter(SiO2<55) %>% \n",
    "  select(Al2O3,CaO) %>% \n",
    "  mutate(AlCa = Al2O3/CaO*2) %>%\n",
    "  {.} -> result"
   ]
  },
  {
   "cell_type": "markdown",
   "metadata": {},
   "source": [
    "... which does nothing else than the previous versions, but in a very clean way (you see what gets into the pipe, and what comes out)"
   ]
  }
 ],
 "metadata": {
  "kernelspec": {
   "display_name": "R",
   "language": "R",
   "name": "ir"
  },
  "language_info": {
   "codemirror_mode": "r",
   "file_extension": ".r",
   "mimetype": "text/x-r-source",
   "name": "R",
   "pygments_lexer": "r",
   "version": "3.6.1"
  }
 },
 "nbformat": 4,
 "nbformat_minor": 4
}
